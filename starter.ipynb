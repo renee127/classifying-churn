{
 "cells": [
  {
   "cell_type": "markdown",
   "metadata": {},
   "source": [
    "# Name of project\n",
    "\n",
    "- Introduction to project\n",
    "- The purpose\n",
    "- The use\n",
    "- File(s) accessed: /datasets/vehicles_us.csv.\n",
    "- We will [Open the data file(s) and study the general information](#general_overview)\n",
    "- Summarize observations in [Introductory conclusion section](#general_overview_conclusion).\n",
    "\n",
    "\n",
    "*   **Project Plan**  \n",
    "\n",
    "    1. **In the [Data preprocessing](#data_preprocessing) stage**:\n",
    "        * We will identify missing values and fill in as appropriate.\n",
    "        * We removed duplicates.\n",
    "        * We will study data types. Change data types where needed.\n",
    "        * We will summarize observations, actions taken, and rationales in [Data preprocessing conclusion section](#data_preprocessing_conclusion).             \n",
    "    2. **In the [Calculations](#calculations) stage**:\n",
    "        * We will add new columns as appropriate.\n",
    "        * We will summarize actions taken and rationales in [Calculations conclusion section].(#calculations_conclusion).       \n",
    "    3. **In the [Exploratory data analysis](#exploratory_data_analysis) stage**:\n",
    "        * We\n",
    "        * We\n",
    "        * We will summarize observations, actions taken, and rationales in [Exploratory data analysis conclusion section](#exploratory_data_analysis_conclusion).       \n",
    "    4. **In the [Overall conclusion](#conclusion)**:\n",
    "        * We will summarize the project's analysis. \n",
    "        \n",
    "        \n",
    "*   **Table of Contents** <a class=\"anchor\" id=\"table_of_contents\"></a> \n",
    "\n",
    "    1. **[Data preprocessing](#data_preprocessing)**\n",
    "        * 1.1 [Data preprocessing conclusion section](#data_preprocessing_conclusion)\n",
    "    2. **[Calculations](#calculations)**\n",
    "        * 2.1 [Calculations conclusion section](#calculations_conclusion)\n",
    "    3. **[Carry out exploratory data analysis](#exploratory_data_analysis)**\n",
    "        * 3.1 [Exploratory data analysis conclusion section](#exploratory_data_analysis_conclusion)\n",
    "    4. **[Overall conclusion](#conclusion)**\n",
    " "
   ]
  },
  {
   "cell_type": "code",
   "execution_count": null,
   "metadata": {},
   "outputs": [],
   "source": []
  },
  {
   "cell_type": "markdown",
   "metadata": {},
   "source": [
    "<a class=\"anchor\" id=\"general_overview\"></a>\n",
    "**Open the data file and study the general information**"
   ]
  },
  {
   "cell_type": "code",
   "execution_count": null,
   "metadata": {},
   "outputs": [],
   "source": [
    "# import libraries\n",
    "import pandas as pd\n",
    "import numpy as np # for changing data types str to int\n",
    "import matplotlib.pyplot as plt"
   ]
  },
  {
   "cell_type": "code",
   "execution_count": null,
   "metadata": {},
   "outputs": [],
   "source": [
    "# import sys and insert code to ignore warnings \n",
    "import sys\n",
    "if not sys.warnoptions:\n",
    "    import warnings\n",
    "    warnings.simplefilter(\"ignore\")"
   ]
  },
  {
   "cell_type": "code",
   "execution_count": null,
   "metadata": {},
   "outputs": [],
   "source": [
    "# load the data\n",
    "try:\n",
    "# TODO    df = pd.read_csv('  ')\n",
    "except:\n",
    "    print('ERROR: Unable to find or access file.')"
   ]
  },
  {
   "cell_type": "code",
   "execution_count": null,
   "metadata": {},
   "outputs": [],
   "source": [
    "# print the first 5 rows of the dataframe\n",
    "# TODOprint('\\nFirst 5 rows of  table')\n",
    "# TODO.head()"
   ]
  },
  {
   "cell_type": "code",
   "execution_count": null,
   "metadata": {},
   "outputs": [],
   "source": [
    "# df general info\n",
    "# TODO print('\\nGeneral info for     table\\n')\n",
    "# TODO print(    .info())\n",
    "# check df for duplicates \n",
    "# TODO print('\\nNumber of duplicate rows:',    .duplicated().sum())\n",
    "# check df for shape \n",
    "# TODO print('\\nNumber rows and columns:',   .shape)"
   ]
  },
  {
   "cell_type": "code",
   "execution_count": null,
   "metadata": {},
   "outputs": [],
   "source": [
    "# check general statistics for dataframe\n",
    "# TODO print('Statistics for      table')\n",
    "# TODO     .describe()"
   ]
  },
  {
   "cell_type": "markdown",
   "metadata": {},
   "source": [
    "<a class=\"anchor\" id=\"general_overview_conclusion\"></a>\n",
    "**Introductory Conclusions**\n",
    "\n",
    "- We note"
   ]
  },
  {
   "cell_type": "markdown",
   "metadata": {},
   "source": [
    "**[Return to table of contents](#table_of_contents)**"
   ]
  },
  {
   "cell_type": "markdown",
   "metadata": {},
   "source": [
    "<a class=\"anchor\" id=\"data_preprocessing\"></a>\n",
    "**1. Data preprocessing**\n",
    "\n",
    "- First we will"
   ]
  },
  {
   "cell_type": "markdown",
   "metadata": {},
   "source": [
    "<a class=\"anchor\" id=\"data_preprocessing_conclusion\"></a>\n",
    "**1.1 Data preprocessing conclusion**\n",
    "\n",
    "- hu\n",
    "- jio"
   ]
  },
  {
   "cell_type": "markdown",
   "metadata": {},
   "source": [
    "**[Return to table of contents](#table_of_contents)**"
   ]
  },
  {
   "cell_type": "markdown",
   "metadata": {},
   "source": [
    "<a class=\"anchor\" id=\"calculations\"></a>\n",
    "**2. Calculations**\n",
    "\n",
    "- First we will"
   ]
  },
  {
   "cell_type": "markdown",
   "metadata": {},
   "source": [
    "<a class=\"anchor\" id=\"calculations_conclusion\"></a>\n",
    "**2.1 Calculations conclusion**\n",
    "\n",
    "- hu\n",
    "- jio"
   ]
  },
  {
   "cell_type": "markdown",
   "metadata": {},
   "source": [
    "**[Return to table of contents](#table_of_contents)**"
   ]
  },
  {
   "cell_type": "markdown",
   "metadata": {},
   "source": [
    "<a class=\"anchor\" id=\"exploratory_data_analysis\"></a>\n",
    "**3. Exploratory data analysis**\n",
    "\n",
    "- First we will"
   ]
  },
  {
   "cell_type": "markdown",
   "metadata": {},
   "source": [
    "<a class=\"anchor\" id=\"exploratory_data_analysis_conclusion\"></a>\n",
    "**3.1 Exploratory data analysis conclusion**\n",
    "\n",
    "- hu\n",
    "- jio"
   ]
  },
  {
   "cell_type": "markdown",
   "metadata": {},
   "source": [
    "**[Return to table of contents](#table_of_contents)**"
   ]
  },
  {
   "cell_type": "markdown",
   "metadata": {},
   "source": [
    "<a class=\"anchor\" id=\"conclusion\"></a>\n",
    "*   **4. Overall conclusion**\n",
    "    1. **In the [Data preprocessing](#data_preprocessing) stage**:\n",
    "        * We \n",
    "        * We \n",
    "        * We             \n",
    "    2. **In the [Calculations](#calculations) stage**:\n",
    "        * We \n",
    "        * We      \n",
    "    3. **In the [Exploratory data analysis](#exploratory_data_analysis) stage**:\n",
    "        * We\n",
    "        * We\n",
    "        * We    \n",
    "        \n",
    "summation paragraph(s)\n",
    "\n",
    "Missing values happen for many reasons including human errors, no record of the information, misunderstanding of data types, problems joining files/databases, or problems transferring information.\n"
   ]
  },
  {
   "cell_type": "markdown",
   "metadata": {},
   "source": [
    "**[Return to table of contents](#table_of_contents)**"
   ]
  },
  {
   "cell_type": "markdown",
   "metadata": {},
   "source": [
    "**References**"
   ]
  }
 ],
 "metadata": {
  "ExecuteTimeLog": [
   {
    "duration": 57,
    "start_time": "2021-09-19T05:20:29.623Z"
   },
   {
    "duration": 56,
    "start_time": "2021-09-19T05:57:06.207Z"
   },
   {
    "duration": 67,
    "start_time": "2021-09-19T05:57:36.510Z"
   },
   {
    "duration": 60,
    "start_time": "2021-09-19T05:59:03.919Z"
   },
   {
    "duration": 63,
    "start_time": "2021-09-19T06:04:34.901Z"
   }
  ],
  "kernelspec": {
   "display_name": "Python 3",
   "language": "python",
   "name": "python3"
  },
  "language_info": {
   "codemirror_mode": {
    "name": "ipython",
    "version": 3
   },
   "file_extension": ".py",
   "mimetype": "text/x-python",
   "name": "python",
   "nbconvert_exporter": "python",
   "pygments_lexer": "ipython3",
   "version": "3.7.8"
  },
  "toc": {
   "base_numbering": 1,
   "nav_menu": {},
   "number_sections": true,
   "sideBar": true,
   "skip_h1_title": true,
   "title_cell": "Table of Contents",
   "title_sidebar": "Contents",
   "toc_cell": false,
   "toc_position": {},
   "toc_section_display": true,
   "toc_window_display": false
  }
 },
 "nbformat": 4,
 "nbformat_minor": 2
}

{
 "cells": [
  {
   "cell_type": "markdown",
   "metadata": {},
   "source": [
    "<a class=\"anchor\" id=\"top_of_document\">\n",
    "\n",
    "\n",
    "# Project Description</a>"
   ]
  },
  {
   "cell_type": "markdown",
   "metadata": {},
   "source": [
    "__Project Overview__\n",
    "- Interconnect provides landline communication, internet, and several complimentary services. \n",
    "- Clients select a monthly payment or yearly contracts.\n",
    "- Interconnect wants a model for *predicting the churn of clientele*.\n",
    "- If a user is forecast to leave, they will be offered promotional codes and special plan options.\n",
    "\n",
    "__Data Description__\n",
    "- Data is valid as of February 1, 2020.\n",
    "- Four data files from different souces are provided.\n",
    " 1. `contract.csv` - contract information\n",
    " 2. `personal.csv` - the client's personal data\n",
    " 3. `internet.csv` - information about Interenet services\n",
    " 4. `phone.csv` - information about telephone services\n",
    "- The files are linked by the `customerID` column which contains a unique code assigned to each client. \n",
    "- The target feature is the `EndDate` column equal to `No`.\n",
    "\n",
    "__Project Goal__\n",
    "- Create a classification model that predicts if a customer will leave soon based on the data files supplied.\n",
    "- AUC-ROC is the primary metric and needs to be at least 0.81, though greater than or equal to 0.88 is ideal.\n",
    "- Accuracy will also be reported.\n",
    "\n",
    "Steps:\n",
    "1. [Load and inspect the data](#load_inspect)\n",
    "2. [Data preprocessing](#data_preprocessing)\n",
    "3. [Exploratory data analysis](#exploratory_data_analysis)\n",
    "4. [Modeling plan](#modeling_plan)\n",
    "5. [Function for scores](#function_for_scores) \n",
    "6. [Split data](#split_data)\n",
    "7. [Explore balance](#explore_balance)\n",
    "8. [Build models](#model_building)\n",
    "9. [Conclusions](#conclusions)\n",
    "\n",
    "Report prepared March 2022"
   ]
  },
  {
   "cell_type": "markdown",
   "metadata": {},
   "source": [
    "<a class=\"anchor\" id=\"load_inspect\">\n",
    "\n",
    "# Data Preprocessing & Exploration</a>\n",
    "\n",
    "## Import libraries"
   ]
  },
  {
   "cell_type": "code",
   "execution_count": 3,
   "metadata": {},
   "outputs": [
    {
     "ename": "ModuleNotFoundError",
     "evalue": "No module named 'catboost'",
     "output_type": "error",
     "traceback": [
      "\u001b[0;31m---------------------------------------------------------------------------\u001b[0m",
      "\u001b[0;31mModuleNotFoundError\u001b[0m                       Traceback (most recent call last)",
      "\u001b[0;32m<ipython-input-3-b441c81b068e>\u001b[0m in \u001b[0;36m<module>\u001b[0;34m\u001b[0m\n\u001b[1;32m     21\u001b[0m \u001b[0;32mfrom\u001b[0m \u001b[0msklearn\u001b[0m\u001b[0;34m.\u001b[0m\u001b[0mensemble\u001b[0m \u001b[0;32mimport\u001b[0m \u001b[0mRandomForestClassifier\u001b[0m\u001b[0;34m\u001b[0m\u001b[0;34m\u001b[0m\u001b[0m\n\u001b[1;32m     22\u001b[0m \u001b[0;32mfrom\u001b[0m \u001b[0msklearn\u001b[0m\u001b[0;34m.\u001b[0m\u001b[0mtree\u001b[0m \u001b[0;32mimport\u001b[0m \u001b[0mDecisionTreeClassifier\u001b[0m\u001b[0;34m\u001b[0m\u001b[0;34m\u001b[0m\u001b[0m\n\u001b[0;32m---> 23\u001b[0;31m \u001b[0;32mfrom\u001b[0m \u001b[0mcatboost\u001b[0m \u001b[0;32mimport\u001b[0m \u001b[0mCatBoostClassifier\u001b[0m\u001b[0;34m\u001b[0m\u001b[0;34m\u001b[0m\u001b[0m\n\u001b[0m\u001b[1;32m     24\u001b[0m \u001b[0;32mfrom\u001b[0m \u001b[0mlightgbm\u001b[0m \u001b[0;32mimport\u001b[0m \u001b[0mLGBMClassifier\u001b[0m\u001b[0;34m\u001b[0m\u001b[0;34m\u001b[0m\u001b[0m\n\u001b[1;32m     25\u001b[0m \u001b[0;32mfrom\u001b[0m \u001b[0mxgboost\u001b[0m \u001b[0;32mimport\u001b[0m \u001b[0mXGBClassifier\u001b[0m\u001b[0;34m\u001b[0m\u001b[0;34m\u001b[0m\u001b[0m\n",
      "\u001b[0;31mModuleNotFoundError\u001b[0m: No module named 'catboost'"
     ]
    }
   ],
   "source": [
    "import numpy as np\n",
    "import pandas as pd\n",
    "import matplotlib.pyplot as plt \n",
    "import seaborn as sns\n",
    "sns.set(style='ticks', palette='Set2')\n",
    "%matplotlib inline\n",
    "import math\n",
    "import time\n",
    "from functools import reduce\n",
    "import re # changing column names\n",
    "# from sklearn.preprocessing import OneHotEncoderer\n",
    "from IPython.display import HTML, display # for table\n",
    "\n",
    "import sklearn.metrics as metrics\n",
    "from sklearn.dummy import DummyClassifier\n",
    "from sklearn.model_selection import train_test_split\n",
    "from sklearn.preprocessing import StandardScaler\n",
    "from sklearn.linear_model import LogisticRegression\n",
    "from sklearn.metrics import mean_squared_error\n",
    "\n",
    "from sklearn.ensemble import RandomForestClassifier\n",
    "from sklearn.tree import DecisionTreeClassifier\n",
    "from catboost import CatBoostClassifier\n",
    "from lightgbm import LGBMClassifier \n",
    "from xgboost import XGBClassifier\n",
    "from sklearn.utils import shuffle \n",
    "\n",
    "from sklearn.model_selection import cross_val_score\n",
    "from sklearn.metrics import make_scorer\n",
    "from sklearn.model_selection import RandomizedSearchCV\n",
    "\n",
    "import random\n",
    "random_state=42\n",
    "random.seed(random_state)\n",
    "np.random.seed(random_state)\n",
    "\n",
    "# import sys and insert code to ignore warnings \n",
    "import sys\n",
    "\n",
    "if not sys.warnoptions:\n",
    "    import warnings\n",
    "    warnings.simplefilter(\"ignore\")"
   ]
  },
  {
   "cell_type": "markdown",
   "metadata": {},
   "source": [
    "## Import files"
   ]
  },
  {
   "cell_type": "code",
   "execution_count": 4,
   "metadata": {},
   "outputs": [],
   "source": [
    "# load the data \n",
    "try:\n",
    "    contract = pd.read_csv('/Users/rraven/Desktop/Yandex/final_project/interconnect_data/contract.csv')\n",
    "    personal = pd.read_csv('/Users/rraven/Desktop/Yandex/final_project/interconnect_data/personal.csv')\n",
    "    internet = pd.read_csv('/Users/rraven/Desktop/Yandex/final_project/interconnect_data/internet.csv')\n",
    "    phone = pd.read_csv('/Users/rraven/Desktop/Yandex/final_project/interconnect_data/phone.csv')\n",
    "except:\n",
    "    contract = pd.read_csv('/datasets/final_provider/contract.csv') \n",
    "    personal = pd.read_csv('/datasets/final_provider/personal.csv') \n",
    "    internet = pd.read_csv('/datasets/final_provider/internet.csv') \n",
    "    phone = pd.read_csv('/datasets/final_provider/phone.csv')"
   ]
  },
  {
   "cell_type": "code",
   "execution_count": 5,
   "metadata": {},
   "outputs": [
    {
     "data": {
      "text/html": [
       "<div>\n",
       "<style scoped>\n",
       "    .dataframe tbody tr th:only-of-type {\n",
       "        vertical-align: middle;\n",
       "    }\n",
       "\n",
       "    .dataframe tbody tr th {\n",
       "        vertical-align: top;\n",
       "    }\n",
       "\n",
       "    .dataframe thead th {\n",
       "        text-align: right;\n",
       "    }\n",
       "</style>\n",
       "<table border=\"1\" class=\"dataframe\">\n",
       "  <thead>\n",
       "    <tr style=\"text-align: right;\">\n",
       "      <th></th>\n",
       "      <th>customerID</th>\n",
       "      <th>BeginDate</th>\n",
       "      <th>EndDate</th>\n",
       "      <th>Type</th>\n",
       "      <th>PaperlessBilling</th>\n",
       "      <th>PaymentMethod</th>\n",
       "      <th>MonthlyCharges</th>\n",
       "      <th>TotalCharges</th>\n",
       "    </tr>\n",
       "  </thead>\n",
       "  <tbody>\n",
       "    <tr>\n",
       "      <th>0</th>\n",
       "      <td>7590-VHVEG</td>\n",
       "      <td>2020-01-01</td>\n",
       "      <td>No</td>\n",
       "      <td>Month-to-month</td>\n",
       "      <td>Yes</td>\n",
       "      <td>Electronic check</td>\n",
       "      <td>29.85</td>\n",
       "      <td>29.85</td>\n",
       "    </tr>\n",
       "    <tr>\n",
       "      <th>1</th>\n",
       "      <td>5575-GNVDE</td>\n",
       "      <td>2017-04-01</td>\n",
       "      <td>No</td>\n",
       "      <td>One year</td>\n",
       "      <td>No</td>\n",
       "      <td>Mailed check</td>\n",
       "      <td>56.95</td>\n",
       "      <td>1889.5</td>\n",
       "    </tr>\n",
       "    <tr>\n",
       "      <th>2</th>\n",
       "      <td>3668-QPYBK</td>\n",
       "      <td>2019-10-01</td>\n",
       "      <td>2019-12-01 00:00:00</td>\n",
       "      <td>Month-to-month</td>\n",
       "      <td>Yes</td>\n",
       "      <td>Mailed check</td>\n",
       "      <td>53.85</td>\n",
       "      <td>108.15</td>\n",
       "    </tr>\n",
       "    <tr>\n",
       "      <th>3</th>\n",
       "      <td>7795-CFOCW</td>\n",
       "      <td>2016-05-01</td>\n",
       "      <td>No</td>\n",
       "      <td>One year</td>\n",
       "      <td>No</td>\n",
       "      <td>Bank transfer (automatic)</td>\n",
       "      <td>42.30</td>\n",
       "      <td>1840.75</td>\n",
       "    </tr>\n",
       "    <tr>\n",
       "      <th>4</th>\n",
       "      <td>9237-HQITU</td>\n",
       "      <td>2019-09-01</td>\n",
       "      <td>2019-11-01 00:00:00</td>\n",
       "      <td>Month-to-month</td>\n",
       "      <td>Yes</td>\n",
       "      <td>Electronic check</td>\n",
       "      <td>70.70</td>\n",
       "      <td>151.65</td>\n",
       "    </tr>\n",
       "  </tbody>\n",
       "</table>\n",
       "</div>"
      ],
      "text/plain": [
       "   customerID   BeginDate              EndDate            Type  \\\n",
       "0  7590-VHVEG  2020-01-01                   No  Month-to-month   \n",
       "1  5575-GNVDE  2017-04-01                   No        One year   \n",
       "2  3668-QPYBK  2019-10-01  2019-12-01 00:00:00  Month-to-month   \n",
       "3  7795-CFOCW  2016-05-01                   No        One year   \n",
       "4  9237-HQITU  2019-09-01  2019-11-01 00:00:00  Month-to-month   \n",
       "\n",
       "  PaperlessBilling              PaymentMethod  MonthlyCharges TotalCharges  \n",
       "0              Yes           Electronic check           29.85        29.85  \n",
       "1               No               Mailed check           56.95       1889.5  \n",
       "2              Yes               Mailed check           53.85       108.15  \n",
       "3               No  Bank transfer (automatic)           42.30      1840.75  \n",
       "4              Yes           Electronic check           70.70       151.65  "
      ]
     },
     "execution_count": 5,
     "metadata": {},
     "output_type": "execute_result"
    }
   ],
   "source": [
    "contract.head()"
   ]
  },
  {
   "cell_type": "code",
   "execution_count": 6,
   "metadata": {},
   "outputs": [
    {
     "name": "stdout",
     "output_type": "stream",
     "text": [
      "<class 'pandas.core.frame.DataFrame'>\n",
      "RangeIndex: 7043 entries, 0 to 7042\n",
      "Data columns (total 8 columns):\n",
      " #   Column            Non-Null Count  Dtype  \n",
      "---  ------            --------------  -----  \n",
      " 0   customerID        7043 non-null   object \n",
      " 1   BeginDate         7043 non-null   object \n",
      " 2   EndDate           7043 non-null   object \n",
      " 3   Type              7043 non-null   object \n",
      " 4   PaperlessBilling  7043 non-null   object \n",
      " 5   PaymentMethod     7043 non-null   object \n",
      " 6   MonthlyCharges    7043 non-null   float64\n",
      " 7   TotalCharges      7043 non-null   object \n",
      "dtypes: float64(1), object(7)\n",
      "memory usage: 440.3+ KB\n",
      "Number of missing values customerID          0\n",
      "BeginDate           0\n",
      "EndDate             0\n",
      "Type                0\n",
      "PaperlessBilling    0\n",
      "PaymentMethod       0\n",
      "MonthlyCharges      0\n",
      "TotalCharges        0\n",
      "dtype: int64\n",
      "Number of duplicate rows 0\n"
     ]
    }
   ],
   "source": [
    "contract.info()\n",
    "print('Number of missing values', contract.isnull().sum())\n",
    "print('Number of duplicate rows', contract.duplicated().sum())"
   ]
  },
  {
   "cell_type": "markdown",
   "metadata": {},
   "source": [
    "__Observations__\n",
    "- The contract file has 7043 entries, no missing values, no duplicate rows.\n",
    "- Several datatypes will need to be addressed.\n",
    "- BeginDate needs to be changed to_datetime.\n",
    "- EndDate contains the target, but also useful information regarding length of contract for those who have left. We may need to duplicate this column and create a binary 0/1 for EndDate and a to_datetime for the dates of those who left. It is possible that we could replace 2020-02-01 date for those where EndDate = 'No' to indicate they are still customers. It may also be useful to create a length of service column as well.\n",
    "- Type could be better as a numeric code, consider OHE.\n",
    "- Payment method could also be better as a numeric code, consider OHE.\n",
    "- Total charges need to be changed to float 64."
   ]
  },
  {
   "cell_type": "code",
   "execution_count": null,
   "metadata": {},
   "outputs": [],
   "source": [
    "personal.head()"
   ]
  },
  {
   "cell_type": "code",
   "execution_count": null,
   "metadata": {},
   "outputs": [],
   "source": [
    "personal.info()\n",
    "print('Number of missing values', personal.isnull().sum())\n",
    "print('Number of duplicate rows', personal.duplicated().sum())"
   ]
  },
  {
   "cell_type": "markdown",
   "metadata": {},
   "source": [
    "__Observations__\n",
    "- The personal file has 7043 entries, no missing values, no duplicate rows.\n",
    "- Consider OHE for these features ('gender', 'SeniorCitizen', 'Partner', 'Dependents')."
   ]
  },
  {
   "cell_type": "code",
   "execution_count": null,
   "metadata": {},
   "outputs": [],
   "source": [
    "internet.head()"
   ]
  },
  {
   "cell_type": "code",
   "execution_count": null,
   "metadata": {},
   "outputs": [],
   "source": [
    "# create yes/no column to indicate internet customer\n",
    "internet['InternetCustomer'] = 'Yes'"
   ]
  },
  {
   "cell_type": "code",
   "execution_count": null,
   "metadata": {},
   "outputs": [],
   "source": [
    "internet.info()\n",
    "print('Number of missing values', internet.isnull().sum())\n",
    "print('Number of duplicate rows', internet.duplicated().sum())"
   ]
  },
  {
   "cell_type": "markdown",
   "metadata": {},
   "source": [
    "__Observations__\n",
    "- The internet file has 5517 internet customers. \n",
    "- We created a column to indicate 'internet_customer' so the information is retained when we merge files. After merging, we will fill in the missing values with no and consider OHE.\n",
    "- Consider OHE for these features ('InternetService', 'OnlineSecurity', 'OnlineBackup','DeviceProtection', 'TechSupport', 'StreamingTV', 'StreamingMovies')."
   ]
  },
  {
   "cell_type": "code",
   "execution_count": null,
   "metadata": {},
   "outputs": [],
   "source": [
    "phone.head()"
   ]
  },
  {
   "cell_type": "code",
   "execution_count": null,
   "metadata": {},
   "outputs": [],
   "source": [
    "# create yes/no column to indicate internet customer\n",
    "phone['PhoneCustomer'] = 'Yes'"
   ]
  },
  {
   "cell_type": "code",
   "execution_count": null,
   "metadata": {},
   "outputs": [],
   "source": [
    "phone.info()\n",
    "print('Number of missing values', phone.isnull().sum())\n",
    "print('Number of duplicate rows', phone.duplicated().sum())"
   ]
  },
  {
   "cell_type": "code",
   "execution_count": null,
   "metadata": {},
   "outputs": [],
   "source": [
    "phone['MultipleLines'].value_counts()"
   ]
  },
  {
   "cell_type": "markdown",
   "metadata": {},
   "source": [
    "__Observations__\n",
    "- The personal file has 6361 phone customers\n",
    "- We created a column to indicate 'phone_customer' so the information is retained when we merge files. After merging, we will fillin the missing values with no and consider OHE.\n",
    "- Consider OHE for these features ('MultipleLines')."
   ]
  },
  {
   "cell_type": "markdown",
   "metadata": {},
   "source": [
    "<a class=\"anchor\" id=\"data_preprocessing\">\n",
    "\n",
    "## Preprocessing Tasks</a>\n",
    "\n",
    "- Merge four files on shared customerID and then drop customerID column.\n",
    "- Change column names to all lower case for uniformity.\n",
    "- BeginDate needs to be changed to_datetime.\n",
    "- EndDate contains the target, but also useful information regarding length of contract for those who have left. We may need to duplicate this column and create a binary 0/1 for EndDate and a to_datetime for the dates of those who left. It is possible that we could replace 2020-02-01 date for those where EndDate = 'No' to indicate they are still customers. It may also be useful to create a length of service column as well.\n",
    "- Drop BeginDate and EndDate.\n",
    "- Total charges need to be changed to float 64.\n",
    "- Missing values need to be found and replaced."
   ]
  },
  {
   "cell_type": "code",
   "execution_count": null,
   "metadata": {},
   "outputs": [],
   "source": [
    "# merge 4 files into 1 df\n",
    "data_frames = [contract, personal, internet, phone]\n",
    "df = reduce(lambda left, right:pd.merge(left, right, how='outer'), data_frames)\n",
    "df"
   ]
  },
  {
   "cell_type": "code",
   "execution_count": null,
   "metadata": {},
   "outputs": [],
   "source": [
    "# remove customerID as it will not be useful in analysis\n",
    "df = df.drop(['customerID'], axis=1)"
   ]
  },
  {
   "cell_type": "code",
   "execution_count": null,
   "metadata": {},
   "outputs": [],
   "source": [
    "# change column names to all lower case\n",
    "columns = []\n",
    "for name in df.columns.values:\n",
    "    # note if we use [1:] sometimes we may drop the first letter\n",
    "    # but [0:] may lead to a _before every name\n",
    "    name = re.sub('([A-Z])', r' \\1', name).lower().replace(' ', '_')[1:]\n",
    "    columns.append(name)\n",
    "df.columns = columns\n",
    "df.head(1)"
   ]
  },
  {
   "cell_type": "code",
   "execution_count": null,
   "metadata": {},
   "outputs": [],
   "source": [
    "# change the column names with missing letters back\n",
    "df = df.rename(columns = {'ender':'gender'})\n",
    "df.head(1)"
   ]
  },
  {
   "cell_type": "code",
   "execution_count": null,
   "metadata": {},
   "outputs": [],
   "source": [
    "# change begin_date to_datetime\n",
    "df['begin_date'] = pd.to_datetime(df['begin_date'], format='%Y-%m-%d')\n",
    "df.info()"
   ]
  },
  {
   "cell_type": "code",
   "execution_count": null,
   "metadata": {},
   "outputs": [],
   "source": [
    "# create a column for the target from end_date\n",
    "\n",
    "def target_fx(row):\n",
    "    # the income_level is returned according to total_income\n",
    "    value = row['end_date']   \n",
    "    if value == 'No':\n",
    "        return 0\n",
    "    else:\n",
    "        return 1\n",
    "    \n",
    "# create a new column\n",
    "df['target'] = df.apply(target_fx, axis=1)\n",
    "\n",
    "# verfiy new column: income_level\n",
    "df['target'].value_counts()"
   ]
  },
  {
   "cell_type": "code",
   "execution_count": null,
   "metadata": {},
   "outputs": [],
   "source": [
    "# change 'no' values in end_date to feb 1st 2020\n",
    "df.loc[df['end_date'] == 'No', 'end_date'] = '2020-02-01 00:00:00'"
   ]
  },
  {
   "cell_type": "code",
   "execution_count": null,
   "metadata": {},
   "outputs": [],
   "source": [
    "# investigate if the format needs hours and minutes\n",
    "df['end_date'].value_counts()"
   ]
  },
  {
   "cell_type": "code",
   "execution_count": null,
   "metadata": {},
   "outputs": [],
   "source": [
    "# change end_date to_datetime\n",
    "df['end_date'] = pd.to_datetime(df['end_date'], format='%Y-%m-%d')\n",
    "df.info()"
   ]
  },
  {
   "cell_type": "code",
   "execution_count": null,
   "metadata": {},
   "outputs": [],
   "source": [
    "# create a new column with the length of service\n",
    "final_date = pd.to_datetime('2020-02-01') \n",
    "df['length_of_service'] = (final_date - df['begin_date']).dt.days\n",
    "df['length_of_service'].value_counts().sort_index()"
   ]
  },
  {
   "cell_type": "code",
   "execution_count": null,
   "metadata": {},
   "outputs": [],
   "source": [
    "# verify that the users with 0 length of service started 2020-02-01\n",
    "df.query('length_of_service == 0')"
   ]
  },
  {
   "cell_type": "code",
   "execution_count": null,
   "metadata": {},
   "outputs": [],
   "source": [
    "# verify there are missing values in total_charges\n",
    "df.total_charges.value_counts().sort_index()"
   ]
  },
  {
   "cell_type": "markdown",
   "metadata": {},
   "source": [
    "__Observation__\n",
    "- We note there is no amount listed in the total charges for new users.\n",
    "- Since we have the monthly amount chaged and they are new as of 2020-02-01, we can assume the total charges should match the monthly charge for those customers."
   ]
  },
  {
   "cell_type": "code",
   "execution_count": null,
   "metadata": {},
   "outputs": [],
   "source": [
    "# fill in missing total_charges with montly_charge for new customers\n",
    "df.loc[df['total_charges'] == ' ', 'total_charges'] = df['monthly_charges']\n",
    "df.query('length_of_service == 0')\n",
    "\n",
    "# change the datatype of total_charges to float\n",
    "df['total_charges'] = pd.to_numeric(df['total_charges'], errors='coerce')\n",
    "df['total_charges'] = df['total_charges'].astype('float')\n",
    "df['total_charges'].dtype"
   ]
  },
  {
   "cell_type": "code",
   "execution_count": null,
   "metadata": {},
   "outputs": [],
   "source": [
    "# verify there are no missing values in total_charges\n",
    "df.total_charges.value_counts().sort_index()"
   ]
  },
  {
   "cell_type": "raw",
   "metadata": {},
   "source": [
    "# check again for missing values on the merged df\n",
    "df.isnull().sum()"
   ]
  },
  {
   "cell_type": "code",
   "execution_count": null,
   "metadata": {},
   "outputs": [],
   "source": [
    "# check for distribution of values in columns missing values\n",
    "cols = [df.online_security, df.online_backup, df.device_protection,\n",
    "        df.tech_support, df.streaming_t_v, df.streaming_movies,\n",
    "        df.multiple_lines, df.internet_customer, df.phone_customer,\n",
    "           df.internet_service]\n",
    "\n",
    "for x in cols:\n",
    "    print(x.value_counts())"
   ]
  },
  {
   "cell_type": "code",
   "execution_count": null,
   "metadata": {},
   "outputs": [],
   "source": [
    "# replace the remaing missing values with no by default\n",
    "df=df.fillna('No')\n",
    "# check again for missing values on the merged df\n",
    "df.isnull().sum()\n",
    "# drop the time columns as we won't use them in the models\n",
    "df = df.drop(['begin_date'], axis=1)\n",
    "df = df.drop(['end_date'], axis=1)"
   ]
  },
  {
   "cell_type": "code",
   "execution_count": null,
   "metadata": {},
   "outputs": [],
   "source": [
    "# final preprocessing check on datatypes\n",
    "df.info()"
   ]
  },
  {
   "cell_type": "code",
   "execution_count": null,
   "metadata": {},
   "outputs": [],
   "source": [
    "# verify the preprocessed df\n",
    "print('Shape', df.shape)\n",
    "print('\\n# missing')\n",
    "print(df.isnull().sum())"
   ]
  },
  {
   "cell_type": "markdown",
   "metadata": {},
   "source": [
    "<a class=\"anchor\" id=\"exploratory_data_analysis\">\n",
    "\n",
    "## Exploratory Data Analysis</a>"
   ]
  },
  {
   "cell_type": "markdown",
   "metadata": {},
   "source": [
    "__Check the distribution of the values within various columns__"
   ]
  },
  {
   "cell_type": "code",
   "execution_count": null,
   "metadata": {},
   "outputs": [],
   "source": [
    "# check the distribution of our target\n",
    "retained = len(df.query('target == 0'))\n",
    "lost = len(df.query('target == 1'))\n",
    "print('Number of Retained Customers:', retained,\n",
    "     'Number of Lost Customers:', lost)\n",
    "df.target.value_counts().plot(kind='bar') \n",
    "plt.title('\\nRetained Customers vs Lost Customers\\n');"
   ]
  },
  {
   "cell_type": "markdown",
   "metadata": {},
   "source": [
    "__Observation__\n",
    "- There is a sizable imbalance in our target data we will need to address for modeling.\n",
    "- An imbalanced target will results in a skewed predictive model."
   ]
  },
  {
   "cell_type": "code",
   "execution_count": null,
   "metadata": {},
   "outputs": [],
   "source": [
    "# check the distribution of our contract type\n",
    "df.type.value_counts().plot(kind='barh') \n",
    "plt.title('Distribution of contract types\\n');"
   ]
  },
  {
   "cell_type": "code",
   "execution_count": null,
   "metadata": {},
   "outputs": [],
   "source": [
    "print('Comparison of Contract Types by Retained and Lost Customers')\n",
    "df.hist(column='type', by='target');"
   ]
  },
  {
   "cell_type": "code",
   "execution_count": null,
   "metadata": {},
   "outputs": [],
   "source": [
    "# check the distribution of our payment types\n",
    "df.payment_method.value_counts().plot(kind='barh') \n",
    "plt.title('Distribution of payment types\\n');"
   ]
  },
  {
   "cell_type": "code",
   "execution_count": null,
   "metadata": {},
   "outputs": [],
   "source": [
    "print('Comparison of Payment Types by Retained and Lost Customers')\n",
    "df.hist(column='payment_method', by='target');"
   ]
  },
  {
   "cell_type": "code",
   "execution_count": null,
   "metadata": {},
   "outputs": [],
   "source": [
    "# check the distribution of our internet service\n",
    "df.internet_service.value_counts().plot(kind='barh') \n",
    "plt.title('Distribution of Internet Service\\n');"
   ]
  },
  {
   "cell_type": "code",
   "execution_count": null,
   "metadata": {},
   "outputs": [],
   "source": [
    "print('Comparison of Internet Service by Retained and Lost Customers')\n",
    "df.hist(column='internet_service', by='target');"
   ]
  },
  {
   "cell_type": "markdown",
   "metadata": {},
   "source": [
    "__Observation__\n",
    "- Differences are noted between the retained and lost customers for the internet service type, payment type and type of contract. "
   ]
  },
  {
   "cell_type": "code",
   "execution_count": null,
   "metadata": {},
   "outputs": [],
   "source": [
    "df.type.value_counts()"
   ]
  },
  {
   "cell_type": "code",
   "execution_count": null,
   "metadata": {},
   "outputs": [],
   "source": [
    "# check to distribution of values in various columns\n",
    "columns_distribution = [df.type, df.paperless_billing, df.payment_method, df.gender, df.senior_citizen,\n",
    "          df.partner, df.dependents, df.internet_service, df.online_security, df.online_backup,\n",
    "          df.device_protection, df.tech_support, df.streaming_t_v, df.streaming_movies, \n",
    "          df.multiple_lines, df.internet_customer, df.phone_customer]\n",
    "# display distribution of column values\n",
    "for x in columns_distribution:\n",
    "    print(x.value_counts())"
   ]
  },
  {
   "cell_type": "markdown",
   "metadata": {},
   "source": [
    "__Observation__\n",
    "- None of these columns have high dimensionality, so we can confidently use OHE.\n",
    "- We will use drop_first=True to avoid skewing results due to overrepresentation of a value (i.e. yes implies no, so we don't need 2 columns to represent a Y/N column."
   ]
  },
  {
   "cell_type": "code",
   "execution_count": null,
   "metadata": {},
   "outputs": [],
   "source": [
    "# columns for simple OHE where one value is dropped\n",
    "columns_for_OHE = ['paperless_billing','gender','senior_citizen', 'partner', 'dependents', \n",
    "          'online_security', 'online_backup', 'device_protection', 'tech_support',\n",
    "          'streaming_t_v', 'streaming_movies', 'multiple_lines', 'type','payment_method',\n",
    "          'internet_service', 'internet_customer', 'phone_customer']\n",
    "# use one hot encoding and drop the first value to avoid skewing due to double representation.\n",
    "df = pd.get_dummies(df, drop_first=True, columns = columns_for_OHE)"
   ]
  },
  {
   "cell_type": "code",
   "execution_count": null,
   "metadata": {},
   "outputs": [],
   "source": [
    "df.info()"
   ]
  },
  {
   "cell_type": "code",
   "execution_count": null,
   "metadata": {},
   "outputs": [],
   "source": [
    "# once again change column names to all lower case\n",
    "columns = []\n",
    "for name in df.columns.values:\n",
    "    name = re.sub('([A-Z])', r' \\1', name).lower().replace(' ', '_')[0:]\n",
    "    columns.append(name)\n",
    "df.columns = columns\n",
    "print(df.shape)\n",
    "df.columns"
   ]
  },
  {
   "cell_type": "markdown",
   "metadata": {},
   "source": [
    "__Observations__\n",
    "- With OHE and other manipulations we only increased the number of columns to 25 from the original 21."
   ]
  },
  {
   "cell_type": "code",
   "execution_count": null,
   "metadata": {},
   "outputs": [],
   "source": [
    "# explore correlation table any strong correlations\n",
    "df.corr()"
   ]
  },
  {
   "cell_type": "markdown",
   "metadata": {},
   "source": [
    "__Observations__\n",
    "- It appears there are no medium or strong *single* feature correlations with the target feature.\n",
    "- There may be some combined correlations which the models should help tease out.\n",
    "- While some features may not be useful, we will keep all these features and prune back to the obvious if the model becomes overfitted or doesn't reach the ROC scores."
   ]
  },
  {
   "cell_type": "code",
   "execution_count": null,
   "metadata": {},
   "outputs": [],
   "source": [
    "# explore patterns for some features\n",
    "for feature in ['monthly_charges','total_charges','length_of_service']:\n",
    "    df.hist(feature, bins=50);"
   ]
  },
  {
   "cell_type": "markdown",
   "metadata": {},
   "source": [
    "__Observations__\n",
    "- There appears to be a cluster of customers who enjoy a modest plan around 20 dollars. The maximum appears to be less than 120 dollars. There is a wide range of price points, perhaps indicating a complex pricing a la carte pricing scheme.\n",
    "- The total charges skew towards a lower amount which makes sense because the average user doesn't pay that much a month. It would take some time to reach 8,000 dollars.\n",
    "- While some customers have been with the company for a long time (over 2000 days), there is actually a pretty wide variation of lengths of service."
   ]
  },
  {
   "cell_type": "markdown",
   "metadata": {},
   "source": [
    "<a class=\"anchor\" id=\"monthly_charges\"></a> \n",
    "\n",
    "**Monthly Charges** "
   ]
  },
  {
   "cell_type": "code",
   "execution_count": null,
   "metadata": {},
   "outputs": [],
   "source": [
    "# create two separate df for retained and lost customers\n",
    "df_retained = df.query('target == 0')\n",
    "df_lost = df.query('target == 1')"
   ]
  },
  {
   "cell_type": "code",
   "execution_count": null,
   "metadata": {},
   "outputs": [],
   "source": [
    "# display a histogram of retained customer monthly_charges\n",
    "# referenced seaborn tutorial at https://seaborn.pydata.org/tutorial/distributions.html\n",
    "sns.distplot(df_retained.monthly_charges, kde=True).set(\n",
    "    title='Distribution of Monthly Charges for Retained Customers\\n');"
   ]
  },
  {
   "cell_type": "code",
   "execution_count": null,
   "metadata": {},
   "outputs": [],
   "source": [
    "# display a histogram of lost customer monthly_charges\n",
    "# Referenced seaborn tutorial at https://seaborn.pydata.org/tutorial/distributions.html\n",
    "sns.distplot(df_lost.monthly_charges, kde=True).set(title='Distribution of Monthly Charges for Lost Customers\\n');"
   ]
  },
  {
   "cell_type": "markdown",
   "metadata": {},
   "source": [
    "__Observations__\n",
    "- There is a notable difference in the distribution of monthly charges between the retained customers and the lost customers. \n",
    "- A majority of the retained customers are in the lower monthly payments (30 dollars or less), with a healthy spread of customers between 40 and 110 dollars a month.\n",
    "- The lost customers were, on average, paying quite a bit more. The bulk of their monthly bill occurred in the 70 to 110 dollar range. Were they being overcharged and that is why they left? Or were they bundling many services together and found a cheaper provider who offered a better deal?\n",
    "\n",
    "**Monthly Charges Statistics** "
   ]
  },
  {
   "cell_type": "code",
   "execution_count": null,
   "metadata": {},
   "outputs": [],
   "source": [
    "# calculate statistics for retained customers\n",
    "df_retained_avg = round(df_retained.monthly_charges.mean())\n",
    "df_retained_min = round(df_retained.monthly_charges.min())\n",
    "df_retained_max = round(df_retained.monthly_charges.max())\n",
    "df_retained_med = round(df_retained.monthly_charges.median())\n",
    "df_retained_25 = np.percentile(df_retained.monthly_charges, 25).round(2)\n",
    "df_retained_75 = np.percentile(df_retained.monthly_charges, 75).round(2)\n",
    "\n",
    "# calculate statistics for lost customers\n",
    "df_lost_avg = round(df_lost.monthly_charges.mean())\n",
    "df_lost_min = round(df_lost.monthly_charges.min())\n",
    "df_lost_max = round(df_lost.monthly_charges.max())\n",
    "df_lost_med = round(df_lost.monthly_charges.median())\n",
    "df_lost_25 = np.percentile(df_lost.monthly_charges, 25).round(2)\n",
    "df_lost_75 = np.percentile(df_lost.monthly_charges, 75).round(2)"
   ]
  },
  {
   "cell_type": "code",
   "execution_count": null,
   "metadata": {},
   "outputs": [],
   "source": [
    "# table for displaying statistics\n",
    "def display_table(data):\n",
    "    html = \"<table>\"\n",
    "    for row in data:\n",
    "        html += \"<tr>\"\n",
    "        for field in row:\n",
    "            html += \"<td><h4>%s</h4></td>\"%(field)\n",
    "        html += \"</tr>\"\n",
    "    html += \"</table>\"\n",
    "    display(HTML(html))\n",
    "\n",
    "print('Table of Statistics for Retained and Lost Customers')\n",
    "data = [['Customer Type', 'Mean', 'Minimum', 'Maximum', 'Median', '25%', '75%'],\n",
    "        ['Retained',df_retained_avg, df_retained_min, df_retained_max, df_retained_med,\n",
    "         df_retained_25, df_retained_75],\n",
    "        ['Lost',df_lost_avg,df_lost_min,df_lost_max,df_lost_med,df_lost_25, df_lost_75]]\n",
    "display_table(data)"
   ]
  },
  {
   "cell_type": "markdown",
   "metadata": {},
   "source": [
    "__Observations__\n",
    "- The lost customer were actually paying twice as much at the 25% percentile. For whatever reason, their monthly charges were quite a bit larger.\n",
    "- However, it is interesting that the minimum and maximums are about the same. \n",
    "- The mean, median, and 75% percentile all demonstrate a higher monthly bill for the customers lost.\n"
   ]
  },
  {
   "cell_type": "markdown",
   "metadata": {},
   "source": [
    "<a class=\"anchor\" id=\"telephone_internet\"></a>\n",
    "\n",
    "\n",
    "**Telephone and Internet Users** "
   ]
  },
  {
   "cell_type": "code",
   "execution_count": null,
   "metadata": {},
   "outputs": [],
   "source": [
    "df.head()"
   ]
  },
  {
   "cell_type": "code",
   "execution_count": null,
   "metadata": {},
   "outputs": [],
   "source": [
    "# create separate dfs for verified internet and phone customers and internet and phone\n",
    "df_internet = df.query('internet_customer__yes == 1')\n",
    "df_phone = df.query('phone_customer__yes == 1')\n",
    "df_both = df.query('internet_customer__yes == 1 and phone_customer__yes == 1')\n",
    "print('Number of internet customers:', df_internet.shape)\n",
    "print('Number of phone customers:',df_phone.shape)\n",
    "print('Number of customers with both:',df_both.shape)"
   ]
  },
  {
   "cell_type": "code",
   "execution_count": null,
   "metadata": {},
   "outputs": [],
   "source": [
    "# display a histogram for internet customers\n",
    "# Referenced seaborn tutorial at https://seaborn.pydata.org/tutorial/distributions.html\n",
    "sns.distplot(df_internet.monthly_charges, kde=True).set(\n",
    "    title='\\nDistribution of Monthly Charges for Internet Customers\\n');"
   ]
  },
  {
   "cell_type": "code",
   "execution_count": null,
   "metadata": {},
   "outputs": [],
   "source": [
    "# display a histogram for phone customers\n",
    "# Referenced seaborn tutorial at https://seaborn.pydata.org/tutorial/distributions.html\n",
    "sns.distplot(df_phone.monthly_charges, kde=True).set(\n",
    "    title='\\nDistribution of Monthly Charges for Phone Customers\\n');"
   ]
  },
  {
   "cell_type": "code",
   "execution_count": null,
   "metadata": {},
   "outputs": [],
   "source": [
    "# display a histogram for phone customers\n",
    "# Referenced seaborn tutorial at https://seaborn.pydata.org/tutorial/distributions.html\n",
    "sns.distplot(df_both.monthly_charges, kde=True).set(\n",
    "    title='\\nDistribution of Monthly Charges for Customers With Both Phone and Internet\\n');"
   ]
  },
  {
   "cell_type": "markdown",
   "metadata": {},
   "source": [
    "__Observations__\n",
    "- There is an uneven number of Internet customers (5517) and phone customers (6361).\n",
    "- Many customers (4835) have both services.\n",
    "- The distribution of their monthly charges are similar except for the strong spike around 20 dollars for the phone customers.\n",
    "- While it is not a big surprise, those customers with both services spend more per month than those without either.\n"
   ]
  },
  {
   "cell_type": "markdown",
   "metadata": {},
   "source": [
    "<a class=\"anchor\" id=\"modeling_plan\">\n",
    "\n",
    "# Modeling plan</a>\n",
    "\n",
    "\"A rough plan for solving the task, specifying 3-5 basic steps and explaining each step in one or two sentences\"\n",
    "\n",
    "1. We will split the data into train, valid, and test sets.\n",
    "2. We will create a function to calculate and print the scores for the models to increase efficiency.\n",
    "3. We will run various models, including Linear Regression, Random Forest, LightGBM and the CatBoost models. We will tune hyperparameters.\n",
    "4. We will use various methods such as class_weight='balanced', downsampling, and upsampling to adjust for the imbalanced target data.\n",
    "5. We will use a dummy classifier to compare our final results, i.e. the sanity check."
   ]
  },
  {
   "cell_type": "markdown",
   "metadata": {},
   "source": [
    "<a class=\"anchor\" id=\"function_for_scores\">\n",
    "\n",
    "## Create a function to calculate and print the scores for the models</a>"
   ]
  },
  {
   "cell_type": "code",
   "execution_count": null,
   "metadata": {},
   "outputs": [],
   "source": [
    "# reused code from sentiment analysis sprint\n",
    "\n",
    "def evaluate_model(model, train_features, train_target, test_features, test_target):\n",
    "    \n",
    "    eval_stats = {}\n",
    "    \n",
    "    fig, axs = plt.subplots(1, 3, figsize=(20, 6)) \n",
    "    \n",
    "    for type, features, target in (('train', train_features, train_target), ('test', test_features, test_target)):\n",
    "        \n",
    "        eval_stats[type] = {}\n",
    "    \n",
    "        pred_target = model.predict(features)\n",
    "        pred_proba = model.predict_proba(features)[:, 1]\n",
    "        \n",
    "        # F1\n",
    "        f1_thresholds = np.arange(0, 1.01, 0.05)\n",
    "        f1_scores = [metrics.f1_score(target, pred_proba>=threshold) for threshold in f1_thresholds]\n",
    "        \n",
    "        # ROC\n",
    "        fpr, tpr, roc_thresholds = metrics.roc_curve(target, pred_proba)\n",
    "        roc_auc = metrics.roc_auc_score(target, pred_proba)    \n",
    "        eval_stats[type]['ROC AUC'] = roc_auc\n",
    "\n",
    "        # PRC\n",
    "        precision, recall, pr_thresholds = metrics.precision_recall_curve(target, pred_proba)\n",
    "        aps = metrics.average_precision_score(target, pred_proba)\n",
    "        eval_stats[type]['APS'] = aps\n",
    "        \n",
    "        if type == 'train':\n",
    "            color = 'blue'\n",
    "        else:\n",
    "            color = 'green'\n",
    "\n",
    "        # F1 Score\n",
    "        ax = axs[0]\n",
    "        max_f1_score_idx = np.argmax(f1_scores)\n",
    "        ax.plot(f1_thresholds, f1_scores, color=color, label=f'{type}, max={f1_scores[max_f1_score_idx]:.2f} @ {f1_thresholds[max_f1_score_idx]:.2f}')\n",
    "        # setting crosses for some thresholds\n",
    "        for threshold in (0.2, 0.4, 0.5, 0.6, 0.8):\n",
    "            closest_value_idx = np.argmin(np.abs(f1_thresholds-threshold))\n",
    "            marker_color = 'orange' if threshold != 0.5 else 'red'\n",
    "            ax.plot(f1_thresholds[closest_value_idx], f1_scores[closest_value_idx], color=marker_color, marker='X', markersize=7)\n",
    "        ax.set_xlim([-0.02, 1.02])    \n",
    "        ax.set_ylim([-0.02, 1.02])\n",
    "        ax.set_xlabel('threshold')\n",
    "        ax.set_ylabel('F1')\n",
    "        ax.legend(loc='lower center')\n",
    "        ax.set_title(f'F1 Score') \n",
    "\n",
    "        # ROC\n",
    "        ax = axs[1]    \n",
    "        ax.plot(fpr, tpr, color=color, label=f'{type}, ROC AUC={roc_auc:.2f}')\n",
    "        # setting crosses for some thresholds\n",
    "        for threshold in (0.2, 0.4, 0.5, 0.6, 0.8):\n",
    "            closest_value_idx = np.argmin(np.abs(roc_thresholds-threshold))\n",
    "            marker_color = 'orange' if threshold != 0.5 else 'red'            \n",
    "            ax.plot(fpr[closest_value_idx], tpr[closest_value_idx], color=marker_color, marker='X', markersize=7)\n",
    "        ax.plot([0, 1], [0, 1], color='grey', linestyle='--')\n",
    "        ax.set_xlim([-0.02, 1.02])    \n",
    "        ax.set_ylim([-0.02, 1.02])\n",
    "        ax.set_xlabel('FPR')\n",
    "        ax.set_ylabel('TPR')\n",
    "        ax.legend(loc='lower center')        \n",
    "        ax.set_title(f'ROC Curve')\n",
    "        \n",
    "        # PRC\n",
    "        ax = axs[2]\n",
    "        ax.plot(recall, precision, color=color, label=f'{type}, AP={aps:.2f}')\n",
    "        # setting crosses for some thresholds\n",
    "        for threshold in (0.2, 0.4, 0.5, 0.6, 0.8):\n",
    "            closest_value_idx = np.argmin(np.abs(pr_thresholds-threshold))\n",
    "            marker_color = 'orange' if threshold != 0.5 else 'red'\n",
    "            ax.plot(recall[closest_value_idx], precision[closest_value_idx], color=marker_color, marker='X', markersize=7)\n",
    "        ax.set_xlim([-0.02, 1.02])    \n",
    "        ax.set_ylim([-0.02, 1.02])\n",
    "        ax.set_xlabel('recall')\n",
    "        ax.set_ylabel('precision')\n",
    "        ax.legend(loc='lower center')\n",
    "        ax.set_title(f'PRC')        \n",
    "\n",
    "        eval_stats[type]['Accuracy'] = metrics.accuracy_score(target, pred_target)\n",
    "        eval_stats[type]['F1'] = metrics.f1_score(target, pred_target)\n",
    "    \n",
    "    df_eval_stats = pd.DataFrame(eval_stats)\n",
    "    df_eval_stats = df_eval_stats.round(2)\n",
    "    df_eval_stats = df_eval_stats.reindex(index=('Accuracy', 'F1', 'APS', 'ROC AUC'))\n",
    "    \n",
    "    print(df_eval_stats)\n",
    "    \n",
    "    # return values\n",
    "    return "
   ]
  },
  {
   "cell_type": "markdown",
   "metadata": {},
   "source": [
    "<a class=\"anchor\" id=\"split_data\">\n",
    "\n",
    "## Split the data into train, valid, and test sets</a>"
   ]
  },
  {
   "cell_type": "code",
   "execution_count": null,
   "metadata": {},
   "outputs": [],
   "source": [
    "# create feature and target variables \n",
    "target = df['target']\n",
    "features = df.drop(['target'], axis=1)"
   ]
  },
  {
   "cell_type": "code",
   "execution_count": null,
   "metadata": {},
   "outputs": [],
   "source": [
    "# divide data with OHE into 3 groups using 3:1:1 (60%, 20%, 20%) ratio\n",
    "X_train, X_valid, y_train, y_valid = train_test_split(\n",
    "    features, target, test_size=0.4, random_state = 12345)\n",
    "X_valid, X_test, y_valid, y_test = train_test_split(\n",
    "    X_valid, y_valid, test_size=0.5, shuffle = False, random_state=12345)\n",
    "print('Train target and features and percentage\\n', y_train.shape, X_train.shape,\n",
    "      'pct', (len(y_train)/len(df)))\n",
    "print('Valid target and features and percentage\\n', y_valid.shape, X_valid.shape,\n",
    "      'pct', (len(y_valid)/len(df)))\n",
    "print('Test target and features and percentage\\n', y_test.shape, X_test.shape,\n",
    "      'pct', (len(y_test)/len(df)))"
   ]
  },
  {
   "cell_type": "markdown",
   "metadata": {},
   "source": [
    "<a class=\"anchor\" id=\"explore_balance\">\n",
    "\n",
    "## Explore the balance of classes in the target</a>"
   ]
  },
  {
   "cell_type": "code",
   "execution_count": null,
   "metadata": {},
   "outputs": [],
   "source": [
    "print('Balance for target (either 0 or 1)')\n",
    "train_ohe_frequency = (y_train.value_counts(normalize=True) * 100).round(2)\n",
    "valid_ohe_frequency = (y_valid.value_counts(normalize=True) * 100).round(2)\n",
    "test_ohe_frequency = (y_test.value_counts(normalize=True) * 100).round(2)\n",
    "print('% ohe Training Target balance of retained to lost customers \\n', train_ohe_frequency)\n",
    "print('\\n% ohe Validation Target balance of retained to lost customers  \\n', valid_ohe_frequency)\n",
    "print('\\n% ohe Test Target balance of retained to lost customers  \\n', test_ohe_frequency)\n",
    "\n",
    "# https://pandas.pydata.org/docs/reference/api/pandas.Series.value_counts.html "
   ]
  },
  {
   "cell_type": "markdown",
   "metadata": {},
   "source": [
    "__Observation__\n",
    "- Our sample is imbalanced, about 73% of our target column indicates retained, so if we use this unbalanced data for our models our accuracy will be skewed towards retained and won't accurately predict the customers likely to leave. \n",
    "- We will need to take steps to address the unbalanced distribution model that will predict 0 in every instance because of the unbalanced data."
   ]
  },
  {
   "cell_type": "markdown",
   "metadata": {},
   "source": [
    "<a class=\"anchor\" id=\"model_building\">\n",
    "\n",
    "## Model Building</a>"
   ]
  },
  {
   "cell_type": "markdown",
   "metadata": {},
   "source": [
    "__Dummy Classifier__\n",
    "- Baseline 'Sanity Check' Model.\n",
    "- No adjustments to balance (the target value remains imbalanced).\n",
    "- Selected the constant strategy."
   ]
  },
  {
   "cell_type": "code",
   "execution_count": null,
   "metadata": {},
   "outputs": [],
   "source": [
    "model_0 = DummyClassifier(strategy='constant', constant=1)\n",
    "model_0.fit(X_train, y_train)"
   ]
  },
  {
   "cell_type": "code",
   "execution_count": null,
   "metadata": {},
   "outputs": [],
   "source": [
    "# evaluate constant model\n",
    "model_0_eval = evaluate_model(model_0, X_train, y_train, X_test, y_test)"
   ]
  },
  {
   "cell_type": "markdown",
   "metadata": {},
   "source": [
    "__Observation__\n",
    "- It means that to pass the sanity check our model must do score better than .28 on the accuracy metric when our chosen model is run with the test data."
   ]
  },
  {
   "cell_type": "markdown",
   "metadata": {},
   "source": [
    "__Logistic Regression__\n",
    "- We will use class_weight='balanced' to adjust for the imbalance of the target class. "
   ]
  },
  {
   "cell_type": "code",
   "execution_count": null,
   "metadata": {},
   "outputs": [],
   "source": [
    "# create logistic regression model using class_weight='balanced'\n",
    "lr = LogisticRegression(random_state=12345, class_weight='balanced')\n",
    "lr.fit(X_train, y_train)"
   ]
  },
  {
   "cell_type": "code",
   "execution_count": null,
   "metadata": {},
   "outputs": [],
   "source": [
    "lr.predict(X_valid)"
   ]
  },
  {
   "cell_type": "code",
   "execution_count": null,
   "metadata": {},
   "outputs": [],
   "source": [
    "lr_eval = evaluate_model(lr, X_train, y_train, X_valid, y_valid)"
   ]
  },
  {
   "cell_type": "markdown",
   "metadata": {},
   "source": [
    "__Observations__\n",
    "- Already the accuracy score is far better (.75 on the validation data)."
   ]
  },
  {
   "cell_type": "markdown",
   "metadata": {},
   "source": [
    "__Decision Tree__\n",
    "- Once again we will use the class_weight='balanced.'"
   ]
  },
  {
   "cell_type": "code",
   "execution_count": null,
   "metadata": {},
   "outputs": [],
   "source": [
    "# build decision tree model\n",
    "dt = DecisionTreeClassifier(random_state=12345)\n",
    "dt.fit(X_train, y_train)"
   ]
  },
  {
   "cell_type": "code",
   "execution_count": null,
   "metadata": {},
   "outputs": [],
   "source": [
    "dt_eval = evaluate_model(dt, X_train, y_train, X_valid, y_valid)"
   ]
  },
  {
   "cell_type": "markdown",
   "metadata": {},
   "source": [
    "__Observations__\n",
    "- This model is overfitting to the training data.\n",
    "- Tuning the hyperparameters could help.\n",
    "- The accuracy is higher than LR at 0.83 on the valid data."
   ]
  },
  {
   "cell_type": "markdown",
   "metadata": {},
   "source": [
    "__Random Forest__\n",
    "- Once again we will use the class_weight='balanced'"
   ]
  },
  {
   "cell_type": "code",
   "execution_count": null,
   "metadata": {},
   "outputs": [],
   "source": [
    "rf = RandomForestClassifier(random_state=12345, class_weight='balanced')\n",
    "rf.fit(X_train, y_train)\n",
    "rt_eval = evaluate_model(rf, X_train, y_train, X_valid, y_valid)"
   ]
  },
  {
   "cell_type": "markdown",
   "metadata": {},
   "source": [
    "__Observations__\n",
    "- This model is overfitting to the training data.\n",
    "- Tuning the hyperparameters could help.\n",
    "- The accuracy is higher than LR at 0.83 on the valid data."
   ]
  },
  {
   "cell_type": "markdown",
   "metadata": {},
   "source": [
    "__CatBoost__"
   ]
  },
  {
   "cell_type": "code",
   "execution_count": null,
   "metadata": {},
   "outputs": [],
   "source": [
    "cb = CatBoostClassifier(random_state=12345, verbose=0)\n",
    "cb.fit(X_train, y_train)\n",
    "\n",
    "cb_eval = evaluate_model(cb, X_train, y_train, X_valid, y_valid)"
   ]
  },
  {
   "cell_type": "markdown",
   "metadata": {},
   "source": [
    "__Observations__\n",
    "- Accuracy on the validation data is impressive at 0.89.\n",
    "- The ROC is also high.\n",
    "- There is some overfitting to the training data."
   ]
  },
  {
   "cell_type": "markdown",
   "metadata": {},
   "source": [
    "__LGBM Classifier__\n"
   ]
  },
  {
   "cell_type": "code",
   "execution_count": null,
   "metadata": {},
   "outputs": [],
   "source": [
    "lgb = LGBMClassifier(random_state=12345)\n",
    "lgb.fit(X_train, y_train)\n",
    "\n",
    "lgb_eval = evaluate_model(lgb, X_train, y_train, X_valid, y_valid)"
   ]
  },
  {
   "cell_type": "markdown",
   "metadata": {},
   "source": [
    "__Observations__\n",
    "- The accuracy is strong at 0.89.\n",
    "- However, there is some overfitting to the train data."
   ]
  },
  {
   "cell_type": "markdown",
   "metadata": {},
   "source": [
    "__XGB Classifier__"
   ]
  },
  {
   "cell_type": "code",
   "execution_count": null,
   "metadata": {},
   "outputs": [],
   "source": [
    "XGBClassifier\n",
    "xgb = XGBClassifier(random_state=12345)\n",
    "xgb.fit(X_train, y_train)\n",
    "\n",
    "xgb_eval = evaluate_model(xgb, X_train, y_train, X_valid, y_valid)"
   ]
  },
  {
   "cell_type": "markdown",
   "metadata": {},
   "source": [
    "__Observations__\n",
    "- The accuracy is strong at 0.88 on the validation set.\n",
    "- However, there is some overfitting to the train data."
   ]
  },
  {
   "cell_type": "markdown",
   "metadata": {},
   "source": [
    "| Model                     | ROC train | ROC valid | Accuracy train | Accuracy valid |\n",
    "|--------------------------|-----------------|--------------------|-------------|-------------|\n",
    "| Dummy Classifier               | 0.50          | 0.50              | 0.26        | 0.28 |\n",
    "| Logistic Regression                  | 0.84           | 0.84              | 0.75       | 0.75 |\n",
    "| Decision Tree                | 1.0           | 0.78                | 1.0         | 0.83|\n",
    "| Random Forest                | 1.0           | 0.87              | 1.0       | 0.83 |\n",
    "| CatBoost              | 0.98           | 0.93               | 0.94       | 0.89 |\n",
    "| LGBM                 | 0.97           | 0.89              | 1.00       | 0.92 |\n",
    "| XGB            | 1.0           | 0.92              | 1.0       | 0.88 |\n"
   ]
  },
  {
   "cell_type": "markdown",
   "metadata": {},
   "source": [
    "__Observations__\n",
    "- From the results CatBoost and LGBM are both models worth runing with the test data.\n",
    "- LGBM has the highest accuracy, CatBoost the second highest.\n",
    "- CatBoost has the highest ROC, XGB has the second highest ROC (but it appears to suffer more from overfitting).\n",
    "\n",
    "__Test the CatBoost with the test data__"
   ]
  },
  {
   "cell_type": "code",
   "execution_count": null,
   "metadata": {
    "scrolled": true
   },
   "outputs": [],
   "source": [
    "final_result = evaluate_model(cb, X_train, y_train, X_test, y_test)"
   ]
  },
  {
   "cell_type": "markdown",
   "metadata": {},
   "source": [
    "<a class=\"anchor\" id=\"conclusions\">\n",
    "\n",
    "## Overview and conclusions</a>\n",
    "\n",
    "Steps:\n",
    "1. [Load and inspect the data](#load_inspect): load, inspect, and create a basic plan.\n",
    "2. [Data preprocessing](#data_preprocessing): merge files, change datatypes, and change column names.\n",
    "3. [Exploratory data analysis](#exploratory_data_analysis): check for distribution of values, correlations, and patterns. Also, create and/or drop columns as needed and use OHE for categorical columns.\n",
    "4. [Modeling plan](#modeling_plan): Create a basic plan for model building and assesment.\n",
    "5. [Function for scores](#function_for_scores): Use a function to calculate and print the scores for the models.\n",
    "6. [Split data](#split_data): Split the data into train, validation, and test sets.\n",
    "7. [Explore balance](#explore_balance): If the data is imbalanced, consider using methods such as class_weight='balanced', downsampling, and upsampling to adjust for the imbalance target data.\n",
    "8. [Build models](#model_building): Set up various models including Linear Regression, Random Forest, LightGBM and the CatBoost models. Consider tuning hyperparameters if AUC-ROC metrics are not met.\n",
    "9. [Conclusions](#conclusions)\n",
    "\n",
    "__What is your final model and what quality score does it have?__\n",
    "\n",
    "- We selected the CatBoost model for our final model since it scored the highest ROC score on the validation data.\n",
    "- The CatBoost model performs very well on the test data, demonstrating a high accuracy (0.88) and high ROC score (0.93) (well above the 0.88 threshold given in the project description).\n",
    "- The CatBoost model performed well above the 0.5 ROC metric for the Dummy Classifier (sanity model).\n",
    "\n",
    "\n",
    "[Return to Top of Document](#top_of_document)"
   ]
  },
  {
   "cell_type": "markdown",
   "metadata": {},
   "source": [
    "## Additional discussion of project\n",
    "\n",
    "__What steps of the plan were performed and what steps were skipped__\n",
    "- Data was preprocessed (files merged, column names changed to lower case for uniformity, missing values found/filled in, checked for duplicate rows, datatypes changed as appropriate).\n",
    "- During exploratory data analysis, we checked for imbalance with the target feature, comparison of some features with the target feature, checked columns for high dimensionality prior to applying OHE, created some graphs looking for relationships, checked a correlation table to see if any specific features had a strong correlation with the target\n",
    "- We borrowed the function to calculate ROC/Accuracy and display graphs from a previous project.\n",
    "- We split the data into 3:1:1 train, valid, test groups.\n",
    "- We began building models and included steps to adjust for the imbalance of the target class.\n",
    "- We built the Dummy Classifier to serve as a sanity check (are the results we produce better than chance?)\n",
    "- We created Logistic Regression model and used class_weight='balanced' to adjust for the imbalance of the target class. \n",
    "- Note we did not use upsampling or downsampling with LR. While they may have improved the LR performance, we anticipated the LGB or CatBoost would offer superior results and decided to go back and try upsampling downsampling only if needed to reach our metric.\n",
    "- We created Decision Tree and Random Forest models and used class_weight='balanced' to adjust for the imbalance of the target class. \n",
    "- Note we did not tune the hyperparmeters for these models. While they were overfitted and tuning would have helped, we decided to try LGB or CatBoost first before we attempted to tune the Decision Tree or Random Forest models.\n",
    "- We created CatBoost, LGBM, XGB models and left the defaults since boosting models generally do well with imbalanced data.\n",
    "- Note we did not adjust the scale_pos_weight for these models, but would have if we had not reached the target metric.\n",
    "\n",
    "__What difficulties did you encounter and how did you manage to solve them__\n",
    "- During preprocessing total monthly charge did not have any missing values, but after a little investigation we discovered brand new customers (those who joined the day of data extraction) had a blank field for total monthly charges. We filled it in with monthly changes since this was their first month.\n",
    "- We debated about eliminating more columns since too many columns can sometimes cause poorer results, but since we found good results with all columns (besides dropped customer id, begin date, end date), we didn't need to. We knew we could always go back and prune our data.\n",
    "\n",
    "__What were some of the key steps to solving the task__ \n",
    "- Solid preprocessing and OHE of the data made it available for the models.\n",
    "- Separating the data into train, valid and, test allowed proper model building and testing.\n",
    "- Using a useful function to calculate the ROC and accuracy.\n",
    "- Fitting different models on the training data and then verifying the models with the validation data.\n",
    "- Selecting the most promising model to run with the test data.\n",
    "- Knowing what other steps (upsampling or downsampling with LR, hyperparameter tuning, scale_pos_weight adjustments) could help reach the metric if needed."
   ]
  },
  {
   "cell_type": "markdown",
   "metadata": {},
   "source": [
    "__References__\n",
    "\n",
    "[For table](https://stackoverflow.com/questions/35160256/how-do-i-output-lists-as-a-table-in-jupyter-notebook)\n",
    "\n",
    "[XGBoost & LightGBM & Catboost - Imbalanced Data](https://www.kaggle.com/code/kaanboke/xgboost-lightgbm-catboost-imbalanced-data/notebook)\n",
    "\n",
    "[Tuning Decision Trees](https://www.kaggle.com/code/gauravduttakiit/hyperparameter-tuning-in-decision-trees/notebook)\n",
    "\n",
    "\n",
    "\n",
    "\n"
   ]
  },
  {
   "cell_type": "code",
   "execution_count": null,
   "metadata": {},
   "outputs": [],
   "source": []
  }
 ],
 "metadata": {
  "ExecuteTimeLog": [
   {
    "duration": 1772,
    "start_time": "2022-03-28T23:50:00.427Z"
   },
   {
    "duration": 184,
    "start_time": "2022-03-28T23:50:02.201Z"
   },
   {
    "duration": 0,
    "start_time": "2022-03-28T23:50:02.388Z"
   },
   {
    "duration": 0,
    "start_time": "2022-03-28T23:50:02.390Z"
   },
   {
    "duration": 0,
    "start_time": "2022-03-28T23:50:02.391Z"
   },
   {
    "duration": 0,
    "start_time": "2022-03-28T23:50:02.392Z"
   },
   {
    "duration": 0,
    "start_time": "2022-03-28T23:50:02.393Z"
   },
   {
    "duration": 0,
    "start_time": "2022-03-28T23:50:02.394Z"
   },
   {
    "duration": 0,
    "start_time": "2022-03-28T23:50:02.395Z"
   },
   {
    "duration": 0,
    "start_time": "2022-03-28T23:50:02.396Z"
   },
   {
    "duration": 0,
    "start_time": "2022-03-28T23:50:02.397Z"
   },
   {
    "duration": 0,
    "start_time": "2022-03-28T23:50:02.398Z"
   },
   {
    "duration": 0,
    "start_time": "2022-03-28T23:50:02.399Z"
   },
   {
    "duration": 0,
    "start_time": "2022-03-28T23:50:02.400Z"
   },
   {
    "duration": 0,
    "start_time": "2022-03-28T23:50:02.401Z"
   },
   {
    "duration": 0,
    "start_time": "2022-03-28T23:50:02.402Z"
   },
   {
    "duration": 0,
    "start_time": "2022-03-28T23:50:02.403Z"
   },
   {
    "duration": 0,
    "start_time": "2022-03-28T23:50:02.404Z"
   },
   {
    "duration": 0,
    "start_time": "2022-03-28T23:50:02.405Z"
   },
   {
    "duration": 0,
    "start_time": "2022-03-28T23:50:02.406Z"
   },
   {
    "duration": 0,
    "start_time": "2022-03-28T23:50:02.407Z"
   },
   {
    "duration": 0,
    "start_time": "2022-03-28T23:50:02.408Z"
   },
   {
    "duration": 0,
    "start_time": "2022-03-28T23:50:02.409Z"
   },
   {
    "duration": 0,
    "start_time": "2022-03-28T23:50:02.410Z"
   },
   {
    "duration": 0,
    "start_time": "2022-03-28T23:50:02.411Z"
   },
   {
    "duration": 0,
    "start_time": "2022-03-28T23:50:02.412Z"
   },
   {
    "duration": 0,
    "start_time": "2022-03-28T23:50:02.413Z"
   },
   {
    "duration": 0,
    "start_time": "2022-03-28T23:50:02.415Z"
   },
   {
    "duration": 0,
    "start_time": "2022-03-28T23:50:02.416Z"
   },
   {
    "duration": 0,
    "start_time": "2022-03-28T23:50:02.417Z"
   },
   {
    "duration": 0,
    "start_time": "2022-03-28T23:50:02.418Z"
   },
   {
    "duration": 0,
    "start_time": "2022-03-28T23:50:02.464Z"
   },
   {
    "duration": 0,
    "start_time": "2022-03-28T23:50:02.465Z"
   },
   {
    "duration": 0,
    "start_time": "2022-03-28T23:50:02.466Z"
   },
   {
    "duration": 0,
    "start_time": "2022-03-28T23:50:02.467Z"
   },
   {
    "duration": 0,
    "start_time": "2022-03-28T23:50:02.468Z"
   },
   {
    "duration": 0,
    "start_time": "2022-03-28T23:50:02.470Z"
   },
   {
    "duration": 0,
    "start_time": "2022-03-28T23:50:02.471Z"
   },
   {
    "duration": 0,
    "start_time": "2022-03-28T23:50:02.472Z"
   },
   {
    "duration": 0,
    "start_time": "2022-03-28T23:50:02.473Z"
   },
   {
    "duration": 0,
    "start_time": "2022-03-28T23:50:02.475Z"
   },
   {
    "duration": 0,
    "start_time": "2022-03-28T23:50:02.476Z"
   },
   {
    "duration": 0,
    "start_time": "2022-03-28T23:50:02.477Z"
   },
   {
    "duration": 0,
    "start_time": "2022-03-28T23:50:02.478Z"
   },
   {
    "duration": 0,
    "start_time": "2022-03-28T23:50:02.479Z"
   },
   {
    "duration": 0,
    "start_time": "2022-03-28T23:50:02.481Z"
   },
   {
    "duration": 0,
    "start_time": "2022-03-28T23:50:02.482Z"
   },
   {
    "duration": 0,
    "start_time": "2022-03-28T23:50:02.483Z"
   },
   {
    "duration": 0,
    "start_time": "2022-03-28T23:50:02.484Z"
   },
   {
    "duration": 0,
    "start_time": "2022-03-28T23:50:02.486Z"
   },
   {
    "duration": 0,
    "start_time": "2022-03-28T23:50:02.487Z"
   },
   {
    "duration": 0,
    "start_time": "2022-03-28T23:50:02.488Z"
   },
   {
    "duration": 0,
    "start_time": "2022-03-28T23:50:02.489Z"
   },
   {
    "duration": 0,
    "start_time": "2022-03-28T23:50:02.490Z"
   },
   {
    "duration": 0,
    "start_time": "2022-03-28T23:50:02.492Z"
   },
   {
    "duration": 0,
    "start_time": "2022-03-28T23:50:02.493Z"
   },
   {
    "duration": 0,
    "start_time": "2022-03-28T23:50:02.495Z"
   },
   {
    "duration": 0,
    "start_time": "2022-03-28T23:50:02.496Z"
   },
   {
    "duration": 1571,
    "start_time": "2022-03-28T23:50:42.787Z"
   },
   {
    "duration": 67,
    "start_time": "2022-03-28T23:50:44.360Z"
   },
   {
    "duration": 15,
    "start_time": "2022-03-28T23:50:44.429Z"
   },
   {
    "duration": 23,
    "start_time": "2022-03-28T23:50:44.446Z"
   },
   {
    "duration": 8,
    "start_time": "2022-03-28T23:50:44.471Z"
   },
   {
    "duration": 18,
    "start_time": "2022-03-28T23:50:44.481Z"
   },
   {
    "duration": 9,
    "start_time": "2022-03-28T23:50:44.501Z"
   },
   {
    "duration": 6,
    "start_time": "2022-03-28T23:50:44.511Z"
   },
   {
    "duration": 22,
    "start_time": "2022-03-28T23:50:44.518Z"
   },
   {
    "duration": 7,
    "start_time": "2022-03-28T23:50:44.564Z"
   },
   {
    "duration": 5,
    "start_time": "2022-03-28T23:50:44.572Z"
   },
   {
    "duration": 17,
    "start_time": "2022-03-28T23:50:44.579Z"
   },
   {
    "duration": 5,
    "start_time": "2022-03-28T23:50:44.598Z"
   },
   {
    "duration": 69,
    "start_time": "2022-03-28T23:50:44.604Z"
   },
   {
    "duration": 6,
    "start_time": "2022-03-28T23:50:44.674Z"
   },
   {
    "duration": 17,
    "start_time": "2022-03-28T23:50:44.682Z"
   },
   {
    "duration": 17,
    "start_time": "2022-03-28T23:50:44.701Z"
   },
   {
    "duration": 17,
    "start_time": "2022-03-28T23:50:44.719Z"
   },
   {
    "duration": 63,
    "start_time": "2022-03-28T23:50:44.763Z"
   },
   {
    "duration": 4,
    "start_time": "2022-03-28T23:50:44.828Z"
   },
   {
    "duration": 8,
    "start_time": "2022-03-28T23:50:44.833Z"
   },
   {
    "duration": 35,
    "start_time": "2022-03-28T23:50:44.842Z"
   },
   {
    "duration": 8,
    "start_time": "2022-03-28T23:50:44.878Z"
   },
   {
    "duration": 24,
    "start_time": "2022-03-28T23:50:44.887Z"
   },
   {
    "duration": 12,
    "start_time": "2022-03-28T23:50:44.913Z"
   },
   {
    "duration": 37,
    "start_time": "2022-03-28T23:50:44.927Z"
   },
   {
    "duration": 6,
    "start_time": "2022-03-28T23:50:44.966Z"
   },
   {
    "duration": 15,
    "start_time": "2022-03-28T23:50:44.976Z"
   },
   {
    "duration": 22,
    "start_time": "2022-03-28T23:50:44.993Z"
   },
   {
    "duration": 46,
    "start_time": "2022-03-28T23:50:45.017Z"
   },
   {
    "duration": 13,
    "start_time": "2022-03-28T23:50:45.065Z"
   },
   {
    "duration": 127,
    "start_time": "2022-03-28T23:50:45.080Z"
   },
   {
    "duration": 117,
    "start_time": "2022-03-28T23:50:45.208Z"
   },
   {
    "duration": 14,
    "start_time": "2022-03-28T23:50:45.327Z"
   },
   {
    "duration": 274,
    "start_time": "2022-03-28T23:50:45.343Z"
   },
   {
    "duration": 116,
    "start_time": "2022-03-28T23:50:45.619Z"
   },
   {
    "duration": 182,
    "start_time": "2022-03-28T23:50:45.737Z"
   },
   {
    "duration": 105,
    "start_time": "2022-03-28T23:50:45.921Z"
   },
   {
    "duration": 186,
    "start_time": "2022-03-28T23:50:46.028Z"
   },
   {
    "duration": 7,
    "start_time": "2022-03-28T23:50:46.215Z"
   },
   {
    "duration": 45,
    "start_time": "2022-03-28T23:50:46.223Z"
   },
   {
    "duration": 23,
    "start_time": "2022-03-28T23:50:46.269Z"
   },
   {
    "duration": 14,
    "start_time": "2022-03-28T23:50:46.294Z"
   },
   {
    "duration": 7,
    "start_time": "2022-03-28T23:50:46.309Z"
   },
   {
    "duration": 66,
    "start_time": "2022-03-28T23:50:46.317Z"
   },
   {
    "duration": 448,
    "start_time": "2022-03-28T23:50:46.385Z"
   },
   {
    "duration": 10,
    "start_time": "2022-03-28T23:50:46.835Z"
   },
   {
    "duration": 170,
    "start_time": "2022-03-28T23:50:46.847Z"
   },
   {
    "duration": 165,
    "start_time": "2022-03-28T23:50:47.019Z"
   },
   {
    "duration": 9,
    "start_time": "2022-03-28T23:50:47.185Z"
   },
   {
    "duration": 77,
    "start_time": "2022-03-28T23:50:47.196Z"
   },
   {
    "duration": 17,
    "start_time": "2022-03-28T23:50:47.275Z"
   },
   {
    "duration": 13,
    "start_time": "2022-03-28T23:50:47.294Z"
   },
   {
    "duration": 181,
    "start_time": "2022-03-28T23:50:47.309Z"
   },
   {
    "duration": 288,
    "start_time": "2022-03-28T23:50:47.492Z"
   },
   {
    "duration": 159,
    "start_time": "2022-03-28T23:50:47.781Z"
   },
   {
    "duration": 5,
    "start_time": "2022-03-28T23:50:47.941Z"
   },
   {
    "duration": 115,
    "start_time": "2022-03-28T23:50:47.947Z"
   },
   {
    "duration": 11,
    "start_time": "2022-03-28T23:51:14.071Z"
   },
   {
    "duration": 1540,
    "start_time": "2022-03-28T23:59:37.990Z"
   },
   {
    "duration": 60,
    "start_time": "2022-03-28T23:59:39.531Z"
   },
   {
    "duration": 13,
    "start_time": "2022-03-28T23:59:39.593Z"
   },
   {
    "duration": 22,
    "start_time": "2022-03-28T23:59:39.607Z"
   },
   {
    "duration": 8,
    "start_time": "2022-03-28T23:59:39.631Z"
   },
   {
    "duration": 29,
    "start_time": "2022-03-28T23:59:39.640Z"
   },
   {
    "duration": 10,
    "start_time": "2022-03-28T23:59:39.670Z"
   },
   {
    "duration": 5,
    "start_time": "2022-03-28T23:59:39.681Z"
   },
   {
    "duration": 21,
    "start_time": "2022-03-28T23:59:39.687Z"
   },
   {
    "duration": 6,
    "start_time": "2022-03-28T23:59:39.709Z"
   },
   {
    "duration": 5,
    "start_time": "2022-03-28T23:59:39.716Z"
   },
   {
    "duration": 41,
    "start_time": "2022-03-28T23:59:39.722Z"
   },
   {
    "duration": 6,
    "start_time": "2022-03-28T23:59:39.764Z"
   },
   {
    "duration": 56,
    "start_time": "2022-03-28T23:59:39.772Z"
   },
   {
    "duration": 5,
    "start_time": "2022-03-28T23:59:39.829Z"
   },
   {
    "duration": 34,
    "start_time": "2022-03-28T23:59:39.836Z"
   },
   {
    "duration": 18,
    "start_time": "2022-03-28T23:59:39.872Z"
   },
   {
    "duration": 20,
    "start_time": "2022-03-28T23:59:39.891Z"
   },
   {
    "duration": 87,
    "start_time": "2022-03-28T23:59:39.912Z"
   },
   {
    "duration": 5,
    "start_time": "2022-03-28T23:59:40.001Z"
   },
   {
    "duration": 9,
    "start_time": "2022-03-28T23:59:40.008Z"
   },
   {
    "duration": 22,
    "start_time": "2022-03-28T23:59:40.019Z"
   },
   {
    "duration": 25,
    "start_time": "2022-03-28T23:59:40.044Z"
   },
   {
    "duration": 28,
    "start_time": "2022-03-28T23:59:40.071Z"
   },
   {
    "duration": 13,
    "start_time": "2022-03-28T23:59:40.100Z"
   },
   {
    "duration": 14,
    "start_time": "2022-03-28T23:59:40.114Z"
   },
   {
    "duration": 5,
    "start_time": "2022-03-28T23:59:40.130Z"
   },
   {
    "duration": 36,
    "start_time": "2022-03-28T23:59:40.137Z"
   },
   {
    "duration": 18,
    "start_time": "2022-03-28T23:59:40.175Z"
   },
   {
    "duration": 16,
    "start_time": "2022-03-28T23:59:40.194Z"
   },
   {
    "duration": 12,
    "start_time": "2022-03-28T23:59:40.211Z"
   },
   {
    "duration": 129,
    "start_time": "2022-03-28T23:59:40.225Z"
   },
   {
    "duration": 114,
    "start_time": "2022-03-28T23:59:40.355Z"
   },
   {
    "duration": 13,
    "start_time": "2022-03-28T23:59:40.471Z"
   },
   {
    "duration": 237,
    "start_time": "2022-03-28T23:59:40.486Z"
   },
   {
    "duration": 103,
    "start_time": "2022-03-28T23:59:40.724Z"
   },
   {
    "duration": 177,
    "start_time": "2022-03-28T23:59:40.828Z"
   },
   {
    "duration": 112,
    "start_time": "2022-03-28T23:59:41.007Z"
   },
   {
    "duration": 174,
    "start_time": "2022-03-28T23:59:41.121Z"
   },
   {
    "duration": 6,
    "start_time": "2022-03-28T23:59:41.296Z"
   },
   {
    "duration": 27,
    "start_time": "2022-03-28T23:59:41.306Z"
   },
   {
    "duration": 41,
    "start_time": "2022-03-28T23:59:41.335Z"
   },
   {
    "duration": 13,
    "start_time": "2022-03-28T23:59:41.377Z"
   },
   {
    "duration": 5,
    "start_time": "2022-03-28T23:59:41.392Z"
   },
   {
    "duration": 39,
    "start_time": "2022-03-28T23:59:41.399Z"
   },
   {
    "duration": 441,
    "start_time": "2022-03-28T23:59:41.440Z"
   },
   {
    "duration": 8,
    "start_time": "2022-03-28T23:59:41.883Z"
   },
   {
    "duration": 156,
    "start_time": "2022-03-28T23:59:41.892Z"
   },
   {
    "duration": 151,
    "start_time": "2022-03-28T23:59:42.049Z"
   },
   {
    "duration": 8,
    "start_time": "2022-03-28T23:59:42.201Z"
   },
   {
    "duration": 67,
    "start_time": "2022-03-28T23:59:42.210Z"
   },
   {
    "duration": 15,
    "start_time": "2022-03-28T23:59:42.279Z"
   },
   {
    "duration": 11,
    "start_time": "2022-03-28T23:59:42.296Z"
   },
   {
    "duration": 168,
    "start_time": "2022-03-28T23:59:42.309Z"
   },
   {
    "duration": 275,
    "start_time": "2022-03-28T23:59:42.479Z"
   },
   {
    "duration": 155,
    "start_time": "2022-03-28T23:59:42.756Z"
   },
   {
    "duration": 4,
    "start_time": "2022-03-28T23:59:42.912Z"
   },
   {
    "duration": 11,
    "start_time": "2022-03-28T23:59:42.917Z"
   },
   {
    "duration": 12,
    "start_time": "2022-03-28T23:59:42.929Z"
   },
   {
    "duration": 21,
    "start_time": "2022-03-28T23:59:42.942Z"
   },
   {
    "duration": 90,
    "start_time": "2022-03-29T00:00:45.641Z"
   },
   {
    "duration": 105,
    "start_time": "2022-03-29T00:00:46.830Z"
   },
   {
    "duration": 11,
    "start_time": "2022-03-29T00:00:47.399Z"
   },
   {
    "duration": 16,
    "start_time": "2022-03-29T00:01:01.636Z"
   },
   {
    "duration": 1522,
    "start_time": "2022-03-29T00:01:08.278Z"
   },
   {
    "duration": 62,
    "start_time": "2022-03-29T00:01:09.802Z"
   },
   {
    "duration": 14,
    "start_time": "2022-03-29T00:01:09.866Z"
   },
   {
    "duration": 29,
    "start_time": "2022-03-29T00:01:09.882Z"
   },
   {
    "duration": 7,
    "start_time": "2022-03-29T00:01:09.913Z"
   },
   {
    "duration": 19,
    "start_time": "2022-03-29T00:01:09.921Z"
   },
   {
    "duration": 9,
    "start_time": "2022-03-29T00:01:09.942Z"
   },
   {
    "duration": 5,
    "start_time": "2022-03-29T00:01:09.963Z"
   },
   {
    "duration": 25,
    "start_time": "2022-03-29T00:01:09.970Z"
   },
   {
    "duration": 7,
    "start_time": "2022-03-29T00:01:09.997Z"
   },
   {
    "duration": 14,
    "start_time": "2022-03-29T00:01:10.006Z"
   },
   {
    "duration": 19,
    "start_time": "2022-03-29T00:01:10.022Z"
   },
   {
    "duration": 24,
    "start_time": "2022-03-29T00:01:10.042Z"
   },
   {
    "duration": 57,
    "start_time": "2022-03-29T00:01:10.068Z"
   },
   {
    "duration": 6,
    "start_time": "2022-03-29T00:01:10.127Z"
   },
   {
    "duration": 34,
    "start_time": "2022-03-29T00:01:10.134Z"
   },
   {
    "duration": 19,
    "start_time": "2022-03-29T00:01:10.170Z"
   },
   {
    "duration": 19,
    "start_time": "2022-03-29T00:01:10.191Z"
   },
   {
    "duration": 90,
    "start_time": "2022-03-29T00:01:10.211Z"
   },
   {
    "duration": 4,
    "start_time": "2022-03-29T00:01:10.303Z"
   },
   {
    "duration": 9,
    "start_time": "2022-03-29T00:01:10.308Z"
   },
   {
    "duration": 23,
    "start_time": "2022-03-29T00:01:10.318Z"
   },
   {
    "duration": 22,
    "start_time": "2022-03-29T00:01:10.342Z"
   },
   {
    "duration": 26,
    "start_time": "2022-03-29T00:01:10.365Z"
   },
   {
    "duration": 13,
    "start_time": "2022-03-29T00:01:10.392Z"
   },
   {
    "duration": 12,
    "start_time": "2022-03-29T00:01:10.407Z"
   },
   {
    "duration": 20,
    "start_time": "2022-03-29T00:01:10.421Z"
   },
   {
    "duration": 17,
    "start_time": "2022-03-29T00:01:10.462Z"
   },
   {
    "duration": 23,
    "start_time": "2022-03-29T00:01:10.481Z"
   },
   {
    "duration": 17,
    "start_time": "2022-03-29T00:01:10.505Z"
   },
   {
    "duration": 11,
    "start_time": "2022-03-29T00:01:10.523Z"
   },
   {
    "duration": 115,
    "start_time": "2022-03-29T00:01:10.562Z"
   },
   {
    "duration": 114,
    "start_time": "2022-03-29T00:01:10.679Z"
   },
   {
    "duration": 248,
    "start_time": "2022-03-29T00:01:10.794Z"
   },
   {
    "duration": 120,
    "start_time": "2022-03-29T00:01:11.044Z"
   },
   {
    "duration": 179,
    "start_time": "2022-03-29T00:01:11.166Z"
   },
   {
    "duration": 105,
    "start_time": "2022-03-29T00:01:11.346Z"
   },
   {
    "duration": 178,
    "start_time": "2022-03-29T00:01:11.453Z"
   },
   {
    "duration": 7,
    "start_time": "2022-03-29T00:01:11.632Z"
   },
   {
    "duration": 39,
    "start_time": "2022-03-29T00:01:11.640Z"
   },
   {
    "duration": 22,
    "start_time": "2022-03-29T00:01:11.681Z"
   },
   {
    "duration": 12,
    "start_time": "2022-03-29T00:01:11.705Z"
   },
   {
    "duration": 5,
    "start_time": "2022-03-29T00:01:11.719Z"
   },
   {
    "duration": 65,
    "start_time": "2022-03-29T00:01:11.726Z"
   },
   {
    "duration": 436,
    "start_time": "2022-03-29T00:01:11.793Z"
   },
   {
    "duration": 9,
    "start_time": "2022-03-29T00:01:12.231Z"
   },
   {
    "duration": 168,
    "start_time": "2022-03-29T00:01:12.241Z"
   },
   {
    "duration": 159,
    "start_time": "2022-03-29T00:01:12.410Z"
   },
   {
    "duration": 9,
    "start_time": "2022-03-29T00:01:12.571Z"
   },
   {
    "duration": 71,
    "start_time": "2022-03-29T00:01:12.581Z"
   },
   {
    "duration": 15,
    "start_time": "2022-03-29T00:01:12.653Z"
   },
   {
    "duration": 14,
    "start_time": "2022-03-29T00:01:12.669Z"
   },
   {
    "duration": 181,
    "start_time": "2022-03-29T00:01:12.684Z"
   },
   {
    "duration": 297,
    "start_time": "2022-03-29T00:01:12.866Z"
   },
   {
    "duration": 161,
    "start_time": "2022-03-29T00:01:13.165Z"
   },
   {
    "duration": 4,
    "start_time": "2022-03-29T00:01:13.328Z"
   },
   {
    "duration": 18,
    "start_time": "2022-03-29T00:01:13.333Z"
   },
   {
    "duration": 21,
    "start_time": "2022-03-29T00:01:13.353Z"
   },
   {
    "duration": 10,
    "start_time": "2022-03-29T00:01:13.376Z"
   },
   {
    "duration": 3,
    "start_time": "2022-03-29T00:02:10.591Z"
   },
   {
    "duration": 107,
    "start_time": "2022-03-29T00:02:26.456Z"
   },
   {
    "duration": 10,
    "start_time": "2022-03-29T00:16:03.181Z"
   },
   {
    "duration": 1601,
    "start_time": "2022-03-29T00:28:22.344Z"
   },
   {
    "duration": 66,
    "start_time": "2022-03-29T00:28:23.947Z"
   },
   {
    "duration": 14,
    "start_time": "2022-03-29T00:28:24.014Z"
   },
   {
    "duration": 20,
    "start_time": "2022-03-29T00:28:24.029Z"
   },
   {
    "duration": 7,
    "start_time": "2022-03-29T00:28:24.051Z"
   },
   {
    "duration": 17,
    "start_time": "2022-03-29T00:28:24.060Z"
   },
   {
    "duration": 9,
    "start_time": "2022-03-29T00:28:24.079Z"
   },
   {
    "duration": 3,
    "start_time": "2022-03-29T00:28:24.089Z"
   },
   {
    "duration": 20,
    "start_time": "2022-03-29T00:28:24.094Z"
   },
   {
    "duration": 6,
    "start_time": "2022-03-29T00:28:24.115Z"
   },
   {
    "duration": 6,
    "start_time": "2022-03-29T00:28:24.122Z"
   },
   {
    "duration": 42,
    "start_time": "2022-03-29T00:28:24.129Z"
   },
   {
    "duration": 6,
    "start_time": "2022-03-29T00:28:24.172Z"
   },
   {
    "duration": 55,
    "start_time": "2022-03-29T00:28:24.180Z"
   },
   {
    "duration": 6,
    "start_time": "2022-03-29T00:28:24.236Z"
   },
   {
    "duration": 32,
    "start_time": "2022-03-29T00:28:24.243Z"
   },
   {
    "duration": 17,
    "start_time": "2022-03-29T00:28:24.277Z"
   },
   {
    "duration": 18,
    "start_time": "2022-03-29T00:28:24.295Z"
   },
   {
    "duration": 87,
    "start_time": "2022-03-29T00:28:24.314Z"
   },
   {
    "duration": 4,
    "start_time": "2022-03-29T00:28:24.402Z"
   },
   {
    "duration": 10,
    "start_time": "2022-03-29T00:28:24.408Z"
   },
   {
    "duration": 20,
    "start_time": "2022-03-29T00:28:24.419Z"
   },
   {
    "duration": 25,
    "start_time": "2022-03-29T00:28:24.440Z"
   },
   {
    "duration": 24,
    "start_time": "2022-03-29T00:28:24.467Z"
   },
   {
    "duration": 11,
    "start_time": "2022-03-29T00:28:24.493Z"
   },
   {
    "duration": 11,
    "start_time": "2022-03-29T00:28:24.506Z"
   },
   {
    "duration": 8,
    "start_time": "2022-03-29T00:28:24.519Z"
   },
   {
    "duration": 48,
    "start_time": "2022-03-29T00:28:24.528Z"
   },
   {
    "duration": 19,
    "start_time": "2022-03-29T00:28:24.578Z"
   },
   {
    "duration": 15,
    "start_time": "2022-03-29T00:28:24.598Z"
   },
   {
    "duration": 10,
    "start_time": "2022-03-29T00:28:24.614Z"
   },
   {
    "duration": 128,
    "start_time": "2022-03-29T00:28:24.625Z"
   },
   {
    "duration": 124,
    "start_time": "2022-03-29T00:28:24.762Z"
   },
   {
    "duration": 277,
    "start_time": "2022-03-29T00:28:24.887Z"
   },
   {
    "duration": 117,
    "start_time": "2022-03-29T00:28:25.166Z"
   },
   {
    "duration": 192,
    "start_time": "2022-03-29T00:28:25.284Z"
   },
   {
    "duration": 112,
    "start_time": "2022-03-29T00:28:25.478Z"
   },
   {
    "duration": 188,
    "start_time": "2022-03-29T00:28:25.592Z"
   },
   {
    "duration": 6,
    "start_time": "2022-03-29T00:28:25.781Z"
   },
   {
    "duration": 26,
    "start_time": "2022-03-29T00:28:25.789Z"
   },
   {
    "duration": 47,
    "start_time": "2022-03-29T00:28:25.820Z"
   },
   {
    "duration": 13,
    "start_time": "2022-03-29T00:28:25.868Z"
   },
   {
    "duration": 6,
    "start_time": "2022-03-29T00:28:25.883Z"
   },
   {
    "duration": 39,
    "start_time": "2022-03-29T00:28:25.890Z"
   },
   {
    "duration": 476,
    "start_time": "2022-03-29T00:28:25.931Z"
   },
   {
    "duration": 9,
    "start_time": "2022-03-29T00:28:26.408Z"
   },
   {
    "duration": 165,
    "start_time": "2022-03-29T00:28:26.419Z"
   },
   {
    "duration": 170,
    "start_time": "2022-03-29T00:28:26.586Z"
   },
   {
    "duration": 8,
    "start_time": "2022-03-29T00:28:26.758Z"
   },
   {
    "duration": 68,
    "start_time": "2022-03-29T00:28:26.768Z"
   },
   {
    "duration": 16,
    "start_time": "2022-03-29T00:28:26.839Z"
   },
   {
    "duration": 13,
    "start_time": "2022-03-29T00:28:26.857Z"
   },
   {
    "duration": 181,
    "start_time": "2022-03-29T00:28:26.872Z"
   },
   {
    "duration": 287,
    "start_time": "2022-03-29T00:28:27.055Z"
   },
   {
    "duration": 158,
    "start_time": "2022-03-29T00:28:27.344Z"
   },
   {
    "duration": 4,
    "start_time": "2022-03-29T00:28:27.504Z"
   },
   {
    "duration": 122,
    "start_time": "2022-03-29T00:28:27.510Z"
   },
   {
    "duration": 0,
    "start_time": "2022-03-29T00:28:27.634Z"
   },
   {
    "duration": 0,
    "start_time": "2022-03-29T00:28:27.635Z"
   },
   {
    "duration": 0,
    "start_time": "2022-03-29T00:28:27.637Z"
   },
   {
    "duration": 0,
    "start_time": "2022-03-29T00:28:27.638Z"
   },
   {
    "duration": 9,
    "start_time": "2022-03-29T00:29:27.523Z"
   },
   {
    "duration": 13,
    "start_time": "2022-03-29T00:29:35.007Z"
   },
   {
    "duration": 103,
    "start_time": "2022-03-29T00:29:37.455Z"
   },
   {
    "duration": 10,
    "start_time": "2022-03-29T00:29:40.965Z"
   },
   {
    "duration": 9,
    "start_time": "2022-03-29T00:30:39.016Z"
   },
   {
    "duration": 5,
    "start_time": "2022-03-29T00:30:59.639Z"
   },
   {
    "duration": 226,
    "start_time": "2022-03-29T00:31:01.291Z"
   },
   {
    "duration": 8,
    "start_time": "2022-03-29T00:32:07.722Z"
   },
   {
    "duration": 397,
    "start_time": "2022-03-29T00:32:26.911Z"
   },
   {
    "duration": 8,
    "start_time": "2022-03-29T00:35:18.516Z"
   },
   {
    "duration": 11,
    "start_time": "2022-03-29T00:35:57.727Z"
   },
   {
    "duration": 5,
    "start_time": "2022-03-29T00:42:33.511Z"
   },
   {
    "duration": 396,
    "start_time": "2022-03-29T00:42:34.507Z"
   },
   {
    "duration": 5,
    "start_time": "2022-03-29T00:51:37.685Z"
   },
   {
    "duration": 499,
    "start_time": "2022-03-29T00:51:40.180Z"
   },
   {
    "duration": 4,
    "start_time": "2022-03-29T01:05:03.860Z"
   },
   {
    "duration": 144,
    "start_time": "2022-03-29T01:05:09.217Z"
   },
   {
    "duration": 161,
    "start_time": "2022-03-29T01:05:47.621Z"
   },
   {
    "duration": 145,
    "start_time": "2022-03-29T01:09:19.570Z"
   },
   {
    "duration": 1540,
    "start_time": "2022-03-29T01:09:46.756Z"
   },
   {
    "duration": 61,
    "start_time": "2022-03-29T01:09:48.298Z"
   },
   {
    "duration": 14,
    "start_time": "2022-03-29T01:09:48.361Z"
   },
   {
    "duration": 20,
    "start_time": "2022-03-29T01:09:48.378Z"
   },
   {
    "duration": 8,
    "start_time": "2022-03-29T01:09:48.400Z"
   },
   {
    "duration": 21,
    "start_time": "2022-03-29T01:09:48.409Z"
   },
   {
    "duration": 35,
    "start_time": "2022-03-29T01:09:48.432Z"
   },
   {
    "duration": 5,
    "start_time": "2022-03-29T01:09:48.468Z"
   },
   {
    "duration": 20,
    "start_time": "2022-03-29T01:09:48.474Z"
   },
   {
    "duration": 6,
    "start_time": "2022-03-29T01:09:48.496Z"
   },
   {
    "duration": 4,
    "start_time": "2022-03-29T01:09:48.503Z"
   },
   {
    "duration": 17,
    "start_time": "2022-03-29T01:09:48.508Z"
   },
   {
    "duration": 5,
    "start_time": "2022-03-29T01:09:48.526Z"
   },
   {
    "duration": 81,
    "start_time": "2022-03-29T01:09:48.532Z"
   },
   {
    "duration": 5,
    "start_time": "2022-03-29T01:09:48.614Z"
   },
   {
    "duration": 17,
    "start_time": "2022-03-29T01:09:48.620Z"
   },
   {
    "duration": 33,
    "start_time": "2022-03-29T01:09:48.638Z"
   },
   {
    "duration": 18,
    "start_time": "2022-03-29T01:09:48.672Z"
   },
   {
    "duration": 78,
    "start_time": "2022-03-29T01:09:48.691Z"
   },
   {
    "duration": 4,
    "start_time": "2022-03-29T01:09:48.771Z"
   },
   {
    "duration": 8,
    "start_time": "2022-03-29T01:09:48.776Z"
   },
   {
    "duration": 18,
    "start_time": "2022-03-29T01:09:48.785Z"
   },
   {
    "duration": 6,
    "start_time": "2022-03-29T01:09:48.805Z"
   },
   {
    "duration": 22,
    "start_time": "2022-03-29T01:09:48.813Z"
   },
   {
    "duration": 36,
    "start_time": "2022-03-29T01:09:48.836Z"
   },
   {
    "duration": 12,
    "start_time": "2022-03-29T01:09:48.873Z"
   },
   {
    "duration": 12,
    "start_time": "2022-03-29T01:09:48.886Z"
   },
   {
    "duration": 16,
    "start_time": "2022-03-29T01:09:48.901Z"
   },
   {
    "duration": 20,
    "start_time": "2022-03-29T01:09:48.918Z"
   },
   {
    "duration": 35,
    "start_time": "2022-03-29T01:09:48.940Z"
   },
   {
    "duration": 10,
    "start_time": "2022-03-29T01:09:48.977Z"
   },
   {
    "duration": 121,
    "start_time": "2022-03-29T01:09:48.988Z"
   },
   {
    "duration": 108,
    "start_time": "2022-03-29T01:09:49.110Z"
   },
   {
    "duration": 255,
    "start_time": "2022-03-29T01:09:49.220Z"
   },
   {
    "duration": 103,
    "start_time": "2022-03-29T01:09:49.477Z"
   },
   {
    "duration": 172,
    "start_time": "2022-03-29T01:09:49.582Z"
   },
   {
    "duration": 89,
    "start_time": "2022-03-29T01:09:49.756Z"
   },
   {
    "duration": 173,
    "start_time": "2022-03-29T01:09:49.846Z"
   },
   {
    "duration": 6,
    "start_time": "2022-03-29T01:09:50.021Z"
   },
   {
    "duration": 43,
    "start_time": "2022-03-29T01:09:50.029Z"
   },
   {
    "duration": 23,
    "start_time": "2022-03-29T01:09:50.074Z"
   },
   {
    "duration": 13,
    "start_time": "2022-03-29T01:09:50.099Z"
   },
   {
    "duration": 5,
    "start_time": "2022-03-29T01:09:50.114Z"
   },
   {
    "duration": 63,
    "start_time": "2022-03-29T01:09:50.121Z"
   },
   {
    "duration": 436,
    "start_time": "2022-03-29T01:09:50.186Z"
   },
   {
    "duration": 9,
    "start_time": "2022-03-29T01:09:50.623Z"
   },
   {
    "duration": 172,
    "start_time": "2022-03-29T01:09:50.634Z"
   },
   {
    "duration": 152,
    "start_time": "2022-03-29T01:09:50.807Z"
   },
   {
    "duration": 8,
    "start_time": "2022-03-29T01:09:50.961Z"
   },
   {
    "duration": 65,
    "start_time": "2022-03-29T01:09:50.970Z"
   },
   {
    "duration": 16,
    "start_time": "2022-03-29T01:09:51.037Z"
   },
   {
    "duration": 13,
    "start_time": "2022-03-29T01:09:51.055Z"
   },
   {
    "duration": 172,
    "start_time": "2022-03-29T01:09:51.069Z"
   },
   {
    "duration": 285,
    "start_time": "2022-03-29T01:09:51.243Z"
   },
   {
    "duration": 160,
    "start_time": "2022-03-29T01:09:51.530Z"
   },
   {
    "duration": 12,
    "start_time": "2022-03-29T01:09:51.692Z"
   },
   {
    "duration": 9,
    "start_time": "2022-03-29T01:09:51.705Z"
   },
   {
    "duration": 10,
    "start_time": "2022-03-29T01:09:51.715Z"
   },
   {
    "duration": 8,
    "start_time": "2022-03-29T01:09:51.727Z"
   },
   {
    "duration": 246,
    "start_time": "2022-03-29T01:09:51.736Z"
   },
   {
    "duration": 0,
    "start_time": "2022-03-29T01:09:51.983Z"
   },
   {
    "duration": 0,
    "start_time": "2022-03-29T01:09:51.985Z"
   },
   {
    "duration": 0,
    "start_time": "2022-03-29T01:09:51.986Z"
   },
   {
    "duration": 6,
    "start_time": "2022-03-29T01:10:55.834Z"
   },
   {
    "duration": 398,
    "start_time": "2022-03-29T01:10:57.007Z"
   },
   {
    "duration": 10,
    "start_time": "2022-03-29T01:12:10.267Z"
   },
   {
    "duration": 9,
    "start_time": "2022-03-29T01:12:57.742Z"
   },
   {
    "duration": 9,
    "start_time": "2022-03-29T01:13:14.640Z"
   },
   {
    "duration": 133,
    "start_time": "2022-03-29T01:13:36.345Z"
   },
   {
    "duration": 4,
    "start_time": "2022-03-29T01:14:14.479Z"
   },
   {
    "duration": 411,
    "start_time": "2022-03-29T01:14:20.178Z"
   },
   {
    "duration": 144,
    "start_time": "2022-03-29T01:14:42.783Z"
   },
   {
    "duration": 150,
    "start_time": "2022-03-29T01:17:02.546Z"
   },
   {
    "duration": 1565,
    "start_time": "2022-03-29T01:17:08.551Z"
   },
   {
    "duration": 59,
    "start_time": "2022-03-29T01:17:10.117Z"
   },
   {
    "duration": 13,
    "start_time": "2022-03-29T01:17:10.177Z"
   },
   {
    "duration": 25,
    "start_time": "2022-03-29T01:17:10.193Z"
   },
   {
    "duration": 7,
    "start_time": "2022-03-29T01:17:10.220Z"
   },
   {
    "duration": 19,
    "start_time": "2022-03-29T01:17:10.228Z"
   },
   {
    "duration": 23,
    "start_time": "2022-03-29T01:17:10.248Z"
   },
   {
    "duration": 6,
    "start_time": "2022-03-29T01:17:10.272Z"
   },
   {
    "duration": 20,
    "start_time": "2022-03-29T01:17:10.279Z"
   },
   {
    "duration": 6,
    "start_time": "2022-03-29T01:17:10.302Z"
   },
   {
    "duration": 6,
    "start_time": "2022-03-29T01:17:10.309Z"
   },
   {
    "duration": 16,
    "start_time": "2022-03-29T01:17:10.316Z"
   },
   {
    "duration": 32,
    "start_time": "2022-03-29T01:17:10.334Z"
   },
   {
    "duration": 51,
    "start_time": "2022-03-29T01:17:10.367Z"
   },
   {
    "duration": 6,
    "start_time": "2022-03-29T01:17:10.419Z"
   },
   {
    "duration": 37,
    "start_time": "2022-03-29T01:17:10.426Z"
   },
   {
    "duration": 17,
    "start_time": "2022-03-29T01:17:10.464Z"
   },
   {
    "duration": 18,
    "start_time": "2022-03-29T01:17:10.483Z"
   },
   {
    "duration": 78,
    "start_time": "2022-03-29T01:17:10.503Z"
   },
   {
    "duration": 3,
    "start_time": "2022-03-29T01:17:10.583Z"
   },
   {
    "duration": 7,
    "start_time": "2022-03-29T01:17:10.588Z"
   },
   {
    "duration": 18,
    "start_time": "2022-03-29T01:17:10.597Z"
   },
   {
    "duration": 8,
    "start_time": "2022-03-29T01:17:10.616Z"
   },
   {
    "duration": 47,
    "start_time": "2022-03-29T01:17:10.625Z"
   },
   {
    "duration": 12,
    "start_time": "2022-03-29T01:17:10.673Z"
   },
   {
    "duration": 11,
    "start_time": "2022-03-29T01:17:10.686Z"
   },
   {
    "duration": 9,
    "start_time": "2022-03-29T01:17:10.699Z"
   },
   {
    "duration": 15,
    "start_time": "2022-03-29T01:17:10.711Z"
   },
   {
    "duration": 43,
    "start_time": "2022-03-29T01:17:10.727Z"
   },
   {
    "duration": 15,
    "start_time": "2022-03-29T01:17:10.772Z"
   },
   {
    "duration": 10,
    "start_time": "2022-03-29T01:17:10.789Z"
   },
   {
    "duration": 122,
    "start_time": "2022-03-29T01:17:10.800Z"
   },
   {
    "duration": 112,
    "start_time": "2022-03-29T01:17:10.923Z"
   },
   {
    "duration": 253,
    "start_time": "2022-03-29T01:17:11.036Z"
   },
   {
    "duration": 112,
    "start_time": "2022-03-29T01:17:11.291Z"
   },
   {
    "duration": 177,
    "start_time": "2022-03-29T01:17:11.404Z"
   },
   {
    "duration": 106,
    "start_time": "2022-03-29T01:17:11.582Z"
   },
   {
    "duration": 164,
    "start_time": "2022-03-29T01:17:11.690Z"
   },
   {
    "duration": 9,
    "start_time": "2022-03-29T01:17:11.856Z"
   },
   {
    "duration": 28,
    "start_time": "2022-03-29T01:17:11.867Z"
   },
   {
    "duration": 22,
    "start_time": "2022-03-29T01:17:11.897Z"
   },
   {
    "duration": 12,
    "start_time": "2022-03-29T01:17:11.921Z"
   },
   {
    "duration": 30,
    "start_time": "2022-03-29T01:17:11.934Z"
   },
   {
    "duration": 38,
    "start_time": "2022-03-29T01:17:11.965Z"
   },
   {
    "duration": 431,
    "start_time": "2022-03-29T01:17:12.005Z"
   },
   {
    "duration": 9,
    "start_time": "2022-03-29T01:17:12.438Z"
   },
   {
    "duration": 158,
    "start_time": "2022-03-29T01:17:12.449Z"
   },
   {
    "duration": 157,
    "start_time": "2022-03-29T01:17:12.609Z"
   },
   {
    "duration": 8,
    "start_time": "2022-03-29T01:17:12.767Z"
   },
   {
    "duration": 68,
    "start_time": "2022-03-29T01:17:12.776Z"
   },
   {
    "duration": 15,
    "start_time": "2022-03-29T01:17:12.846Z"
   },
   {
    "duration": 11,
    "start_time": "2022-03-29T01:17:12.862Z"
   },
   {
    "duration": 177,
    "start_time": "2022-03-29T01:17:12.874Z"
   },
   {
    "duration": 290,
    "start_time": "2022-03-29T01:17:13.053Z"
   },
   {
    "duration": 161,
    "start_time": "2022-03-29T01:17:13.345Z"
   },
   {
    "duration": 12,
    "start_time": "2022-03-29T01:17:13.508Z"
   },
   {
    "duration": 10,
    "start_time": "2022-03-29T01:17:13.522Z"
   },
   {
    "duration": 10,
    "start_time": "2022-03-29T01:17:13.533Z"
   },
   {
    "duration": 22,
    "start_time": "2022-03-29T01:17:13.545Z"
   },
   {
    "duration": 232,
    "start_time": "2022-03-29T01:17:13.569Z"
   },
   {
    "duration": 0,
    "start_time": "2022-03-29T01:17:13.803Z"
   },
   {
    "duration": 0,
    "start_time": "2022-03-29T01:17:13.804Z"
   },
   {
    "duration": 0,
    "start_time": "2022-03-29T01:17:13.805Z"
   },
   {
    "duration": 1562,
    "start_time": "2022-03-29T01:23:14.692Z"
   },
   {
    "duration": 60,
    "start_time": "2022-03-29T01:23:16.256Z"
   },
   {
    "duration": 14,
    "start_time": "2022-03-29T01:23:16.317Z"
   },
   {
    "duration": 21,
    "start_time": "2022-03-29T01:23:16.333Z"
   },
   {
    "duration": 8,
    "start_time": "2022-03-29T01:23:16.355Z"
   },
   {
    "duration": 19,
    "start_time": "2022-03-29T01:23:16.364Z"
   },
   {
    "duration": 9,
    "start_time": "2022-03-29T01:23:16.384Z"
   },
   {
    "duration": 5,
    "start_time": "2022-03-29T01:23:16.394Z"
   },
   {
    "duration": 24,
    "start_time": "2022-03-29T01:23:16.400Z"
   },
   {
    "duration": 6,
    "start_time": "2022-03-29T01:23:16.426Z"
   },
   {
    "duration": 7,
    "start_time": "2022-03-29T01:23:16.434Z"
   },
   {
    "duration": 30,
    "start_time": "2022-03-29T01:23:16.442Z"
   },
   {
    "duration": 6,
    "start_time": "2022-03-29T01:23:16.473Z"
   },
   {
    "duration": 51,
    "start_time": "2022-03-29T01:23:16.481Z"
   },
   {
    "duration": 31,
    "start_time": "2022-03-29T01:23:16.534Z"
   },
   {
    "duration": 21,
    "start_time": "2022-03-29T01:23:16.567Z"
   },
   {
    "duration": 17,
    "start_time": "2022-03-29T01:23:16.590Z"
   },
   {
    "duration": 20,
    "start_time": "2022-03-29T01:23:16.609Z"
   },
   {
    "duration": 96,
    "start_time": "2022-03-29T01:23:16.631Z"
   },
   {
    "duration": 4,
    "start_time": "2022-03-29T01:23:16.729Z"
   },
   {
    "duration": 11,
    "start_time": "2022-03-29T01:23:16.734Z"
   },
   {
    "duration": 31,
    "start_time": "2022-03-29T01:23:16.746Z"
   },
   {
    "duration": 7,
    "start_time": "2022-03-29T01:23:16.779Z"
   },
   {
    "duration": 25,
    "start_time": "2022-03-29T01:23:16.787Z"
   },
   {
    "duration": 50,
    "start_time": "2022-03-29T01:23:16.814Z"
   },
   {
    "duration": 12,
    "start_time": "2022-03-29T01:23:16.865Z"
   },
   {
    "duration": 9,
    "start_time": "2022-03-29T01:23:16.879Z"
   },
   {
    "duration": 15,
    "start_time": "2022-03-29T01:23:16.892Z"
   },
   {
    "duration": 127,
    "start_time": "2022-03-29T01:23:16.908Z"
   },
   {
    "duration": 0,
    "start_time": "2022-03-29T01:23:17.037Z"
   },
   {
    "duration": 0,
    "start_time": "2022-03-29T01:23:17.038Z"
   },
   {
    "duration": 0,
    "start_time": "2022-03-29T01:23:17.039Z"
   },
   {
    "duration": 0,
    "start_time": "2022-03-29T01:23:17.040Z"
   },
   {
    "duration": 0,
    "start_time": "2022-03-29T01:23:17.040Z"
   },
   {
    "duration": 0,
    "start_time": "2022-03-29T01:23:17.041Z"
   },
   {
    "duration": 0,
    "start_time": "2022-03-29T01:23:17.042Z"
   },
   {
    "duration": 0,
    "start_time": "2022-03-29T01:23:17.043Z"
   },
   {
    "duration": 0,
    "start_time": "2022-03-29T01:23:17.043Z"
   },
   {
    "duration": 0,
    "start_time": "2022-03-29T01:23:17.044Z"
   },
   {
    "duration": 0,
    "start_time": "2022-03-29T01:23:17.045Z"
   },
   {
    "duration": 0,
    "start_time": "2022-03-29T01:23:17.046Z"
   },
   {
    "duration": 0,
    "start_time": "2022-03-29T01:23:17.047Z"
   },
   {
    "duration": 0,
    "start_time": "2022-03-29T01:23:17.047Z"
   },
   {
    "duration": 0,
    "start_time": "2022-03-29T01:23:17.048Z"
   },
   {
    "duration": 0,
    "start_time": "2022-03-29T01:23:17.049Z"
   },
   {
    "duration": 0,
    "start_time": "2022-03-29T01:23:17.051Z"
   },
   {
    "duration": 0,
    "start_time": "2022-03-29T01:23:17.052Z"
   },
   {
    "duration": 0,
    "start_time": "2022-03-29T01:23:17.063Z"
   },
   {
    "duration": 0,
    "start_time": "2022-03-29T01:23:17.065Z"
   },
   {
    "duration": 0,
    "start_time": "2022-03-29T01:23:17.066Z"
   },
   {
    "duration": 0,
    "start_time": "2022-03-29T01:23:17.067Z"
   },
   {
    "duration": 0,
    "start_time": "2022-03-29T01:23:17.068Z"
   },
   {
    "duration": 0,
    "start_time": "2022-03-29T01:23:17.069Z"
   },
   {
    "duration": 0,
    "start_time": "2022-03-29T01:23:17.070Z"
   },
   {
    "duration": 0,
    "start_time": "2022-03-29T01:23:17.071Z"
   },
   {
    "duration": 0,
    "start_time": "2022-03-29T01:23:17.072Z"
   },
   {
    "duration": 0,
    "start_time": "2022-03-29T01:23:17.073Z"
   },
   {
    "duration": 0,
    "start_time": "2022-03-29T01:23:17.074Z"
   },
   {
    "duration": 0,
    "start_time": "2022-03-29T01:23:17.075Z"
   },
   {
    "duration": 0,
    "start_time": "2022-03-29T01:23:17.076Z"
   },
   {
    "duration": 0,
    "start_time": "2022-03-29T01:23:17.077Z"
   },
   {
    "duration": 1,
    "start_time": "2022-03-29T01:23:17.078Z"
   },
   {
    "duration": 0,
    "start_time": "2022-03-29T01:23:17.079Z"
   },
   {
    "duration": 1610,
    "start_time": "2022-03-29T01:23:28.942Z"
   },
   {
    "duration": 67,
    "start_time": "2022-03-29T01:23:30.554Z"
   },
   {
    "duration": 15,
    "start_time": "2022-03-29T01:23:30.623Z"
   },
   {
    "duration": 32,
    "start_time": "2022-03-29T01:23:30.640Z"
   },
   {
    "duration": 7,
    "start_time": "2022-03-29T01:23:30.674Z"
   },
   {
    "duration": 30,
    "start_time": "2022-03-29T01:23:30.683Z"
   },
   {
    "duration": 18,
    "start_time": "2022-03-29T01:23:30.714Z"
   },
   {
    "duration": 13,
    "start_time": "2022-03-29T01:23:30.733Z"
   },
   {
    "duration": 29,
    "start_time": "2022-03-29T01:23:30.747Z"
   },
   {
    "duration": 9,
    "start_time": "2022-03-29T01:23:30.779Z"
   },
   {
    "duration": 26,
    "start_time": "2022-03-29T01:23:30.790Z"
   },
   {
    "duration": 26,
    "start_time": "2022-03-29T01:23:30.817Z"
   },
   {
    "duration": 10,
    "start_time": "2022-03-29T01:23:30.844Z"
   },
   {
    "duration": 74,
    "start_time": "2022-03-29T01:23:30.855Z"
   },
   {
    "duration": 5,
    "start_time": "2022-03-29T01:23:30.931Z"
   },
   {
    "duration": 30,
    "start_time": "2022-03-29T01:23:30.937Z"
   },
   {
    "duration": 40,
    "start_time": "2022-03-29T01:23:30.969Z"
   },
   {
    "duration": 19,
    "start_time": "2022-03-29T01:23:31.011Z"
   },
   {
    "duration": 67,
    "start_time": "2022-03-29T01:23:31.032Z"
   },
   {
    "duration": 4,
    "start_time": "2022-03-29T01:23:31.100Z"
   },
   {
    "duration": 21,
    "start_time": "2022-03-29T01:23:31.106Z"
   },
   {
    "duration": 28,
    "start_time": "2022-03-29T01:23:31.129Z"
   },
   {
    "duration": 7,
    "start_time": "2022-03-29T01:23:31.159Z"
   },
   {
    "duration": 43,
    "start_time": "2022-03-29T01:23:31.167Z"
   },
   {
    "duration": 13,
    "start_time": "2022-03-29T01:23:31.212Z"
   },
   {
    "duration": 32,
    "start_time": "2022-03-29T01:23:31.226Z"
   },
   {
    "duration": 25,
    "start_time": "2022-03-29T01:23:31.259Z"
   },
   {
    "duration": 27,
    "start_time": "2022-03-29T01:23:31.288Z"
   },
   {
    "duration": 148,
    "start_time": "2022-03-29T01:23:31.316Z"
   },
   {
    "duration": 0,
    "start_time": "2022-03-29T01:23:31.465Z"
   },
   {
    "duration": 0,
    "start_time": "2022-03-29T01:23:31.466Z"
   },
   {
    "duration": 0,
    "start_time": "2022-03-29T01:23:31.467Z"
   },
   {
    "duration": 0,
    "start_time": "2022-03-29T01:23:31.468Z"
   },
   {
    "duration": 0,
    "start_time": "2022-03-29T01:23:31.469Z"
   },
   {
    "duration": 0,
    "start_time": "2022-03-29T01:23:31.470Z"
   },
   {
    "duration": 0,
    "start_time": "2022-03-29T01:23:31.471Z"
   },
   {
    "duration": 0,
    "start_time": "2022-03-29T01:23:31.471Z"
   },
   {
    "duration": 0,
    "start_time": "2022-03-29T01:23:31.472Z"
   },
   {
    "duration": 0,
    "start_time": "2022-03-29T01:23:31.473Z"
   },
   {
    "duration": 0,
    "start_time": "2022-03-29T01:23:31.474Z"
   },
   {
    "duration": 0,
    "start_time": "2022-03-29T01:23:31.474Z"
   },
   {
    "duration": 0,
    "start_time": "2022-03-29T01:23:31.475Z"
   },
   {
    "duration": 0,
    "start_time": "2022-03-29T01:23:31.476Z"
   },
   {
    "duration": 0,
    "start_time": "2022-03-29T01:23:31.477Z"
   },
   {
    "duration": 0,
    "start_time": "2022-03-29T01:23:31.478Z"
   },
   {
    "duration": 0,
    "start_time": "2022-03-29T01:23:31.479Z"
   },
   {
    "duration": 0,
    "start_time": "2022-03-29T01:23:31.480Z"
   },
   {
    "duration": 0,
    "start_time": "2022-03-29T01:23:31.481Z"
   },
   {
    "duration": 0,
    "start_time": "2022-03-29T01:23:31.482Z"
   },
   {
    "duration": 0,
    "start_time": "2022-03-29T01:23:31.484Z"
   },
   {
    "duration": 0,
    "start_time": "2022-03-29T01:23:31.485Z"
   },
   {
    "duration": 0,
    "start_time": "2022-03-29T01:23:31.486Z"
   },
   {
    "duration": 0,
    "start_time": "2022-03-29T01:23:31.486Z"
   },
   {
    "duration": 0,
    "start_time": "2022-03-29T01:23:31.488Z"
   },
   {
    "duration": 0,
    "start_time": "2022-03-29T01:23:31.489Z"
   },
   {
    "duration": 0,
    "start_time": "2022-03-29T01:23:31.490Z"
   },
   {
    "duration": 0,
    "start_time": "2022-03-29T01:23:31.490Z"
   },
   {
    "duration": 0,
    "start_time": "2022-03-29T01:23:31.491Z"
   },
   {
    "duration": 0,
    "start_time": "2022-03-29T01:23:31.492Z"
   },
   {
    "duration": 0,
    "start_time": "2022-03-29T01:23:31.493Z"
   },
   {
    "duration": 0,
    "start_time": "2022-03-29T01:23:31.494Z"
   },
   {
    "duration": 0,
    "start_time": "2022-03-29T01:23:31.495Z"
   },
   {
    "duration": 0,
    "start_time": "2022-03-29T01:23:31.496Z"
   },
   {
    "duration": 22,
    "start_time": "2022-03-29T01:27:28.768Z"
   },
   {
    "duration": 1548,
    "start_time": "2022-03-29T01:27:35.681Z"
   },
   {
    "duration": 61,
    "start_time": "2022-03-29T01:27:37.230Z"
   },
   {
    "duration": 14,
    "start_time": "2022-03-29T01:27:37.292Z"
   },
   {
    "duration": 21,
    "start_time": "2022-03-29T01:27:37.307Z"
   },
   {
    "duration": 8,
    "start_time": "2022-03-29T01:27:37.330Z"
   },
   {
    "duration": 25,
    "start_time": "2022-03-29T01:27:37.339Z"
   },
   {
    "duration": 9,
    "start_time": "2022-03-29T01:27:37.365Z"
   },
   {
    "duration": 5,
    "start_time": "2022-03-29T01:27:37.376Z"
   },
   {
    "duration": 22,
    "start_time": "2022-03-29T01:27:37.382Z"
   },
   {
    "duration": 6,
    "start_time": "2022-03-29T01:27:37.406Z"
   },
   {
    "duration": 7,
    "start_time": "2022-03-29T01:27:37.414Z"
   },
   {
    "duration": 17,
    "start_time": "2022-03-29T01:27:37.422Z"
   },
   {
    "duration": 5,
    "start_time": "2022-03-29T01:27:37.463Z"
   },
   {
    "duration": 51,
    "start_time": "2022-03-29T01:27:37.471Z"
   },
   {
    "duration": 5,
    "start_time": "2022-03-29T01:27:37.523Z"
   },
   {
    "duration": 37,
    "start_time": "2022-03-29T01:27:37.529Z"
   },
   {
    "duration": 17,
    "start_time": "2022-03-29T01:27:37.568Z"
   },
   {
    "duration": 18,
    "start_time": "2022-03-29T01:27:37.586Z"
   },
   {
    "duration": 84,
    "start_time": "2022-03-29T01:27:37.606Z"
   },
   {
    "duration": 4,
    "start_time": "2022-03-29T01:27:37.692Z"
   },
   {
    "duration": 8,
    "start_time": "2022-03-29T01:27:37.697Z"
   },
   {
    "duration": 18,
    "start_time": "2022-03-29T01:27:37.707Z"
   },
   {
    "duration": 7,
    "start_time": "2022-03-29T01:27:37.726Z"
   },
   {
    "duration": 43,
    "start_time": "2022-03-29T01:27:37.734Z"
   },
   {
    "duration": 12,
    "start_time": "2022-03-29T01:27:37.778Z"
   },
   {
    "duration": 12,
    "start_time": "2022-03-29T01:27:37.791Z"
   },
   {
    "duration": 6,
    "start_time": "2022-03-29T01:27:37.804Z"
   },
   {
    "duration": 16,
    "start_time": "2022-03-29T01:27:37.811Z"
   },
   {
    "duration": 48,
    "start_time": "2022-03-29T01:27:37.828Z"
   },
   {
    "duration": 14,
    "start_time": "2022-03-29T01:27:37.878Z"
   },
   {
    "duration": 16,
    "start_time": "2022-03-29T01:27:37.893Z"
   },
   {
    "duration": 112,
    "start_time": "2022-03-29T01:27:37.910Z"
   },
   {
    "duration": 113,
    "start_time": "2022-03-29T01:27:38.023Z"
   },
   {
    "duration": 254,
    "start_time": "2022-03-29T01:27:38.137Z"
   },
   {
    "duration": 96,
    "start_time": "2022-03-29T01:27:38.393Z"
   },
   {
    "duration": 186,
    "start_time": "2022-03-29T01:27:38.490Z"
   },
   {
    "duration": 99,
    "start_time": "2022-03-29T01:27:38.678Z"
   },
   {
    "duration": 198,
    "start_time": "2022-03-29T01:27:38.778Z"
   },
   {
    "duration": 5,
    "start_time": "2022-03-29T01:27:38.978Z"
   },
   {
    "duration": 28,
    "start_time": "2022-03-29T01:27:38.984Z"
   },
   {
    "duration": 23,
    "start_time": "2022-03-29T01:27:39.062Z"
   },
   {
    "duration": 12,
    "start_time": "2022-03-29T01:27:39.087Z"
   },
   {
    "duration": 5,
    "start_time": "2022-03-29T01:27:39.101Z"
   },
   {
    "duration": 60,
    "start_time": "2022-03-29T01:27:39.107Z"
   },
   {
    "duration": 425,
    "start_time": "2022-03-29T01:27:39.168Z"
   },
   {
    "duration": 8,
    "start_time": "2022-03-29T01:27:39.595Z"
   },
   {
    "duration": 162,
    "start_time": "2022-03-29T01:27:39.604Z"
   },
   {
    "duration": 153,
    "start_time": "2022-03-29T01:27:39.768Z"
   },
   {
    "duration": 8,
    "start_time": "2022-03-29T01:27:39.922Z"
   },
   {
    "duration": 73,
    "start_time": "2022-03-29T01:27:39.931Z"
   },
   {
    "duration": 16,
    "start_time": "2022-03-29T01:27:40.005Z"
   },
   {
    "duration": 18,
    "start_time": "2022-03-29T01:27:40.023Z"
   },
   {
    "duration": 160,
    "start_time": "2022-03-29T01:27:40.043Z"
   },
   {
    "duration": 277,
    "start_time": "2022-03-29T01:27:40.204Z"
   },
   {
    "duration": 156,
    "start_time": "2022-03-29T01:27:40.482Z"
   },
   {
    "duration": 12,
    "start_time": "2022-03-29T01:27:40.640Z"
   },
   {
    "duration": 9,
    "start_time": "2022-03-29T01:27:40.654Z"
   },
   {
    "duration": 10,
    "start_time": "2022-03-29T01:27:40.664Z"
   },
   {
    "duration": 10,
    "start_time": "2022-03-29T01:27:40.675Z"
   },
   {
    "duration": 13,
    "start_time": "2022-03-29T01:27:40.686Z"
   },
   {
    "duration": 4,
    "start_time": "2022-03-29T01:27:40.701Z"
   },
   {
    "duration": 534,
    "start_time": "2022-03-29T01:27:40.707Z"
   },
   {
    "duration": 436,
    "start_time": "2022-03-29T01:27:41.242Z"
   },
   {
    "duration": 107,
    "start_time": "2022-03-29T01:31:43.728Z"
   },
   {
    "duration": 13,
    "start_time": "2022-03-29T01:31:59.529Z"
   },
   {
    "duration": 18,
    "start_time": "2022-03-29T01:32:27.864Z"
   },
   {
    "duration": 1503,
    "start_time": "2022-03-29T01:32:38.754Z"
   },
   {
    "duration": 61,
    "start_time": "2022-03-29T01:32:40.258Z"
   },
   {
    "duration": 13,
    "start_time": "2022-03-29T01:32:40.320Z"
   },
   {
    "duration": 21,
    "start_time": "2022-03-29T01:32:40.335Z"
   },
   {
    "duration": 7,
    "start_time": "2022-03-29T01:32:40.358Z"
   },
   {
    "duration": 24,
    "start_time": "2022-03-29T01:32:40.366Z"
   },
   {
    "duration": 10,
    "start_time": "2022-03-29T01:32:40.391Z"
   },
   {
    "duration": 5,
    "start_time": "2022-03-29T01:32:40.402Z"
   },
   {
    "duration": 19,
    "start_time": "2022-03-29T01:32:40.408Z"
   },
   {
    "duration": 6,
    "start_time": "2022-03-29T01:32:40.429Z"
   },
   {
    "duration": 4,
    "start_time": "2022-03-29T01:32:40.436Z"
   },
   {
    "duration": 32,
    "start_time": "2022-03-29T01:32:40.441Z"
   },
   {
    "duration": 5,
    "start_time": "2022-03-29T01:32:40.475Z"
   },
   {
    "duration": 52,
    "start_time": "2022-03-29T01:32:40.482Z"
   },
   {
    "duration": 27,
    "start_time": "2022-03-29T01:32:40.536Z"
   },
   {
    "duration": 18,
    "start_time": "2022-03-29T01:32:40.564Z"
   },
   {
    "duration": 17,
    "start_time": "2022-03-29T01:32:40.584Z"
   },
   {
    "duration": 17,
    "start_time": "2022-03-29T01:32:40.602Z"
   },
   {
    "duration": 84,
    "start_time": "2022-03-29T01:32:40.621Z"
   },
   {
    "duration": 4,
    "start_time": "2022-03-29T01:32:40.707Z"
   },
   {
    "duration": 8,
    "start_time": "2022-03-29T01:32:40.712Z"
   },
   {
    "duration": 19,
    "start_time": "2022-03-29T01:32:40.721Z"
   },
   {
    "duration": 22,
    "start_time": "2022-03-29T01:32:40.741Z"
   },
   {
    "duration": 25,
    "start_time": "2022-03-29T01:32:40.765Z"
   },
   {
    "duration": 12,
    "start_time": "2022-03-29T01:32:40.791Z"
   },
   {
    "duration": 12,
    "start_time": "2022-03-29T01:32:40.805Z"
   },
   {
    "duration": 6,
    "start_time": "2022-03-29T01:32:40.818Z"
   },
   {
    "duration": 49,
    "start_time": "2022-03-29T01:32:40.826Z"
   },
   {
    "duration": 18,
    "start_time": "2022-03-29T01:32:40.877Z"
   },
   {
    "duration": 12,
    "start_time": "2022-03-29T01:32:40.897Z"
   },
   {
    "duration": 8,
    "start_time": "2022-03-29T01:32:40.911Z"
   },
   {
    "duration": 125,
    "start_time": "2022-03-29T01:32:40.920Z"
   },
   {
    "duration": 122,
    "start_time": "2022-03-29T01:32:41.047Z"
   },
   {
    "duration": 246,
    "start_time": "2022-03-29T01:32:41.170Z"
   },
   {
    "duration": 105,
    "start_time": "2022-03-29T01:32:41.417Z"
   },
   {
    "duration": 173,
    "start_time": "2022-03-29T01:32:41.524Z"
   },
   {
    "duration": 106,
    "start_time": "2022-03-29T01:32:41.699Z"
   },
   {
    "duration": 164,
    "start_time": "2022-03-29T01:32:41.806Z"
   },
   {
    "duration": 5,
    "start_time": "2022-03-29T01:32:41.972Z"
   },
   {
    "duration": 29,
    "start_time": "2022-03-29T01:32:41.979Z"
   },
   {
    "duration": 22,
    "start_time": "2022-03-29T01:32:42.012Z"
   },
   {
    "duration": 34,
    "start_time": "2022-03-29T01:32:42.035Z"
   },
   {
    "duration": 6,
    "start_time": "2022-03-29T01:32:42.070Z"
   },
   {
    "duration": 43,
    "start_time": "2022-03-29T01:32:42.078Z"
   },
   {
    "duration": 429,
    "start_time": "2022-03-29T01:32:42.122Z"
   },
   {
    "duration": 14,
    "start_time": "2022-03-29T01:32:42.552Z"
   },
   {
    "duration": 164,
    "start_time": "2022-03-29T01:32:42.567Z"
   },
   {
    "duration": 159,
    "start_time": "2022-03-29T01:32:42.732Z"
   },
   {
    "duration": 8,
    "start_time": "2022-03-29T01:32:42.892Z"
   },
   {
    "duration": 65,
    "start_time": "2022-03-29T01:32:42.901Z"
   },
   {
    "duration": 13,
    "start_time": "2022-03-29T01:32:42.968Z"
   },
   {
    "duration": 12,
    "start_time": "2022-03-29T01:32:42.983Z"
   },
   {
    "duration": 201,
    "start_time": "2022-03-29T01:32:42.996Z"
   },
   {
    "duration": 284,
    "start_time": "2022-03-29T01:32:43.199Z"
   },
   {
    "duration": 179,
    "start_time": "2022-03-29T01:32:43.484Z"
   },
   {
    "duration": 12,
    "start_time": "2022-03-29T01:32:43.665Z"
   },
   {
    "duration": 10,
    "start_time": "2022-03-29T01:32:43.679Z"
   },
   {
    "duration": 14,
    "start_time": "2022-03-29T01:32:43.690Z"
   },
   {
    "duration": 13,
    "start_time": "2022-03-29T01:32:43.705Z"
   },
   {
    "duration": 12,
    "start_time": "2022-03-29T01:32:43.720Z"
   },
   {
    "duration": 4,
    "start_time": "2022-03-29T01:32:43.734Z"
   },
   {
    "duration": 461,
    "start_time": "2022-03-29T01:32:43.739Z"
   },
   {
    "duration": 122,
    "start_time": "2022-03-29T01:32:44.202Z"
   },
   {
    "duration": 1598,
    "start_time": "2022-03-29T01:34:33.002Z"
   },
   {
    "duration": 63,
    "start_time": "2022-03-29T01:34:34.602Z"
   },
   {
    "duration": 14,
    "start_time": "2022-03-29T01:34:34.666Z"
   },
   {
    "duration": 22,
    "start_time": "2022-03-29T01:34:34.682Z"
   },
   {
    "duration": 14,
    "start_time": "2022-03-29T01:34:34.705Z"
   },
   {
    "duration": 29,
    "start_time": "2022-03-29T01:34:34.721Z"
   },
   {
    "duration": 14,
    "start_time": "2022-03-29T01:34:34.752Z"
   },
   {
    "duration": 17,
    "start_time": "2022-03-29T01:34:34.768Z"
   },
   {
    "duration": 21,
    "start_time": "2022-03-29T01:34:34.787Z"
   },
   {
    "duration": 6,
    "start_time": "2022-03-29T01:34:34.811Z"
   },
   {
    "duration": 5,
    "start_time": "2022-03-29T01:34:34.819Z"
   },
   {
    "duration": 20,
    "start_time": "2022-03-29T01:34:34.825Z"
   },
   {
    "duration": 17,
    "start_time": "2022-03-29T01:34:34.846Z"
   },
   {
    "duration": 50,
    "start_time": "2022-03-29T01:34:34.865Z"
   },
   {
    "duration": 5,
    "start_time": "2022-03-29T01:34:34.917Z"
   },
   {
    "duration": 18,
    "start_time": "2022-03-29T01:34:34.924Z"
   },
   {
    "duration": 20,
    "start_time": "2022-03-29T01:34:34.962Z"
   },
   {
    "duration": 18,
    "start_time": "2022-03-29T01:34:34.983Z"
   },
   {
    "duration": 86,
    "start_time": "2022-03-29T01:34:35.003Z"
   },
   {
    "duration": 4,
    "start_time": "2022-03-29T01:34:35.091Z"
   },
   {
    "duration": 8,
    "start_time": "2022-03-29T01:34:35.096Z"
   },
   {
    "duration": 17,
    "start_time": "2022-03-29T01:34:35.106Z"
   },
   {
    "duration": 7,
    "start_time": "2022-03-29T01:34:35.124Z"
   },
   {
    "duration": 45,
    "start_time": "2022-03-29T01:34:35.132Z"
   },
   {
    "duration": 12,
    "start_time": "2022-03-29T01:34:35.179Z"
   },
   {
    "duration": 11,
    "start_time": "2022-03-29T01:34:35.193Z"
   },
   {
    "duration": 7,
    "start_time": "2022-03-29T01:34:35.206Z"
   },
   {
    "duration": 16,
    "start_time": "2022-03-29T01:34:35.217Z"
   },
   {
    "duration": 47,
    "start_time": "2022-03-29T01:34:35.234Z"
   },
   {
    "duration": 14,
    "start_time": "2022-03-29T01:34:35.283Z"
   },
   {
    "duration": 9,
    "start_time": "2022-03-29T01:34:35.299Z"
   },
   {
    "duration": 122,
    "start_time": "2022-03-29T01:34:35.309Z"
   },
   {
    "duration": 114,
    "start_time": "2022-03-29T01:34:35.433Z"
   },
   {
    "duration": 291,
    "start_time": "2022-03-29T01:34:35.548Z"
   },
   {
    "duration": 103,
    "start_time": "2022-03-29T01:34:35.840Z"
   },
   {
    "duration": 183,
    "start_time": "2022-03-29T01:34:35.944Z"
   },
   {
    "duration": 99,
    "start_time": "2022-03-29T01:34:36.128Z"
   },
   {
    "duration": 174,
    "start_time": "2022-03-29T01:34:36.228Z"
   },
   {
    "duration": 6,
    "start_time": "2022-03-29T01:34:36.403Z"
   },
   {
    "duration": 26,
    "start_time": "2022-03-29T01:34:36.411Z"
   },
   {
    "duration": 38,
    "start_time": "2022-03-29T01:34:36.439Z"
   },
   {
    "duration": 12,
    "start_time": "2022-03-29T01:34:36.479Z"
   },
   {
    "duration": 5,
    "start_time": "2022-03-29T01:34:36.493Z"
   },
   {
    "duration": 37,
    "start_time": "2022-03-29T01:34:36.500Z"
   },
   {
    "duration": 438,
    "start_time": "2022-03-29T01:34:36.562Z"
   },
   {
    "duration": 9,
    "start_time": "2022-03-29T01:34:37.001Z"
   },
   {
    "duration": 163,
    "start_time": "2022-03-29T01:34:37.012Z"
   },
   {
    "duration": 157,
    "start_time": "2022-03-29T01:34:37.177Z"
   },
   {
    "duration": 9,
    "start_time": "2022-03-29T01:34:37.336Z"
   },
   {
    "duration": 80,
    "start_time": "2022-03-29T01:34:37.347Z"
   },
   {
    "duration": 15,
    "start_time": "2022-03-29T01:34:37.429Z"
   },
   {
    "duration": 12,
    "start_time": "2022-03-29T01:34:37.446Z"
   },
   {
    "duration": 169,
    "start_time": "2022-03-29T01:34:37.460Z"
   },
   {
    "duration": 299,
    "start_time": "2022-03-29T01:34:37.631Z"
   },
   {
    "duration": 167,
    "start_time": "2022-03-29T01:34:37.932Z"
   },
   {
    "duration": 13,
    "start_time": "2022-03-29T01:34:38.102Z"
   },
   {
    "duration": 7,
    "start_time": "2022-03-29T01:34:38.117Z"
   },
   {
    "duration": 11,
    "start_time": "2022-03-29T01:34:38.125Z"
   },
   {
    "duration": 26,
    "start_time": "2022-03-29T01:34:38.137Z"
   },
   {
    "duration": 6,
    "start_time": "2022-03-29T01:34:38.165Z"
   },
   {
    "duration": 437,
    "start_time": "2022-03-29T01:34:38.172Z"
   },
   {
    "duration": 752,
    "start_time": "2022-03-29T01:34:38.611Z"
   },
   {
    "duration": 7,
    "start_time": "2022-03-29T01:36:19.276Z"
   },
   {
    "duration": 107,
    "start_time": "2022-03-29T01:37:00.722Z"
   },
   {
    "duration": 810,
    "start_time": "2022-03-29T01:37:54.593Z"
   },
   {
    "duration": 810,
    "start_time": "2022-03-29T01:39:35.754Z"
   },
   {
    "duration": 756,
    "start_time": "2022-03-29T01:42:45.029Z"
   },
   {
    "duration": 137,
    "start_time": "2022-03-29T01:45:51.300Z"
   },
   {
    "duration": 9,
    "start_time": "2022-03-29T01:47:07.570Z"
   },
   {
    "duration": 9,
    "start_time": "2022-03-29T01:48:37.185Z"
   },
   {
    "duration": 1550,
    "start_time": "2022-03-29T01:48:43.296Z"
   },
   {
    "duration": 63,
    "start_time": "2022-03-29T01:48:44.848Z"
   },
   {
    "duration": 15,
    "start_time": "2022-03-29T01:48:44.912Z"
   },
   {
    "duration": 24,
    "start_time": "2022-03-29T01:48:44.929Z"
   },
   {
    "duration": 9,
    "start_time": "2022-03-29T01:48:44.955Z"
   },
   {
    "duration": 22,
    "start_time": "2022-03-29T01:48:44.965Z"
   },
   {
    "duration": 10,
    "start_time": "2022-03-29T01:48:44.989Z"
   },
   {
    "duration": 25,
    "start_time": "2022-03-29T01:48:45.001Z"
   },
   {
    "duration": 29,
    "start_time": "2022-03-29T01:48:45.028Z"
   },
   {
    "duration": 9,
    "start_time": "2022-03-29T01:48:45.062Z"
   },
   {
    "duration": 6,
    "start_time": "2022-03-29T01:48:45.073Z"
   },
   {
    "duration": 20,
    "start_time": "2022-03-29T01:48:45.080Z"
   },
   {
    "duration": 6,
    "start_time": "2022-03-29T01:48:45.103Z"
   },
   {
    "duration": 90,
    "start_time": "2022-03-29T01:48:45.111Z"
   },
   {
    "duration": 6,
    "start_time": "2022-03-29T01:48:45.202Z"
   },
   {
    "duration": 20,
    "start_time": "2022-03-29T01:48:45.209Z"
   },
   {
    "duration": 36,
    "start_time": "2022-03-29T01:48:45.230Z"
   },
   {
    "duration": 17,
    "start_time": "2022-03-29T01:48:45.268Z"
   },
   {
    "duration": 76,
    "start_time": "2022-03-29T01:48:45.287Z"
   },
   {
    "duration": 4,
    "start_time": "2022-03-29T01:48:45.365Z"
   },
   {
    "duration": 9,
    "start_time": "2022-03-29T01:48:45.370Z"
   },
   {
    "duration": 20,
    "start_time": "2022-03-29T01:48:45.380Z"
   },
   {
    "duration": 8,
    "start_time": "2022-03-29T01:48:45.402Z"
   },
   {
    "duration": 70,
    "start_time": "2022-03-29T01:48:45.411Z"
   },
   {
    "duration": 15,
    "start_time": "2022-03-29T01:48:45.483Z"
   },
   {
    "duration": 14,
    "start_time": "2022-03-29T01:48:45.500Z"
   },
   {
    "duration": 7,
    "start_time": "2022-03-29T01:48:45.516Z"
   },
   {
    "duration": 22,
    "start_time": "2022-03-29T01:48:45.527Z"
   },
   {
    "duration": 24,
    "start_time": "2022-03-29T01:48:45.563Z"
   },
   {
    "duration": 13,
    "start_time": "2022-03-29T01:48:45.589Z"
   },
   {
    "duration": 8,
    "start_time": "2022-03-29T01:48:45.604Z"
   },
   {
    "duration": 174,
    "start_time": "2022-03-29T01:48:45.614Z"
   },
   {
    "duration": 117,
    "start_time": "2022-03-29T01:48:45.790Z"
   },
   {
    "duration": 263,
    "start_time": "2022-03-29T01:48:45.908Z"
   },
   {
    "duration": 121,
    "start_time": "2022-03-29T01:48:46.172Z"
   },
   {
    "duration": 291,
    "start_time": "2022-03-29T01:48:46.295Z"
   },
   {
    "duration": 101,
    "start_time": "2022-03-29T01:48:46.587Z"
   },
   {
    "duration": 176,
    "start_time": "2022-03-29T01:48:46.689Z"
   },
   {
    "duration": 6,
    "start_time": "2022-03-29T01:48:46.866Z"
   },
   {
    "duration": 32,
    "start_time": "2022-03-29T01:48:46.873Z"
   },
   {
    "duration": 23,
    "start_time": "2022-03-29T01:48:46.907Z"
   },
   {
    "duration": 11,
    "start_time": "2022-03-29T01:48:46.932Z"
   },
   {
    "duration": 5,
    "start_time": "2022-03-29T01:48:46.945Z"
   },
   {
    "duration": 41,
    "start_time": "2022-03-29T01:48:46.952Z"
   },
   {
    "duration": 470,
    "start_time": "2022-03-29T01:48:46.995Z"
   },
   {
    "duration": 8,
    "start_time": "2022-03-29T01:48:47.467Z"
   },
   {
    "duration": 166,
    "start_time": "2022-03-29T01:48:47.477Z"
   },
   {
    "duration": 156,
    "start_time": "2022-03-29T01:48:47.644Z"
   },
   {
    "duration": 8,
    "start_time": "2022-03-29T01:48:47.801Z"
   },
   {
    "duration": 82,
    "start_time": "2022-03-29T01:48:47.811Z"
   },
   {
    "duration": 13,
    "start_time": "2022-03-29T01:48:47.895Z"
   },
   {
    "duration": 12,
    "start_time": "2022-03-29T01:48:47.910Z"
   },
   {
    "duration": 163,
    "start_time": "2022-03-29T01:48:47.923Z"
   },
   {
    "duration": 278,
    "start_time": "2022-03-29T01:48:48.087Z"
   },
   {
    "duration": 161,
    "start_time": "2022-03-29T01:48:48.367Z"
   },
   {
    "duration": 13,
    "start_time": "2022-03-29T01:48:48.529Z"
   },
   {
    "duration": 9,
    "start_time": "2022-03-29T01:48:48.543Z"
   },
   {
    "duration": 16,
    "start_time": "2022-03-29T01:48:48.553Z"
   },
   {
    "duration": 9,
    "start_time": "2022-03-29T01:48:48.570Z"
   },
   {
    "duration": 5,
    "start_time": "2022-03-29T01:48:48.581Z"
   },
   {
    "duration": 427,
    "start_time": "2022-03-29T01:48:48.588Z"
   },
   {
    "duration": 848,
    "start_time": "2022-03-29T01:48:49.017Z"
   },
   {
    "duration": 98,
    "start_time": "2022-03-29T01:48:49.868Z"
   },
   {
    "duration": 942,
    "start_time": "2022-03-29T01:48:49.969Z"
   },
   {
    "duration": 104,
    "start_time": "2022-03-29T01:48:50.913Z"
   },
   {
    "duration": 0,
    "start_time": "2022-03-29T01:48:51.018Z"
   },
   {
    "duration": 10,
    "start_time": "2022-03-29T01:49:46.476Z"
   },
   {
    "duration": 10,
    "start_time": "2022-03-29T01:51:53.580Z"
   },
   {
    "duration": 1600,
    "start_time": "2022-03-29T01:53:24.227Z"
   },
   {
    "duration": 59,
    "start_time": "2022-03-29T01:53:25.829Z"
   },
   {
    "duration": 13,
    "start_time": "2022-03-29T01:53:25.890Z"
   },
   {
    "duration": 23,
    "start_time": "2022-03-29T01:53:25.904Z"
   },
   {
    "duration": 7,
    "start_time": "2022-03-29T01:53:25.929Z"
   },
   {
    "duration": 17,
    "start_time": "2022-03-29T01:53:25.937Z"
   },
   {
    "duration": 9,
    "start_time": "2022-03-29T01:53:25.955Z"
   },
   {
    "duration": 5,
    "start_time": "2022-03-29T01:53:25.965Z"
   },
   {
    "duration": 20,
    "start_time": "2022-03-29T01:53:25.971Z"
   },
   {
    "duration": 5,
    "start_time": "2022-03-29T01:53:25.992Z"
   },
   {
    "duration": 4,
    "start_time": "2022-03-29T01:53:25.999Z"
   },
   {
    "duration": 16,
    "start_time": "2022-03-29T01:53:26.004Z"
   },
   {
    "duration": 4,
    "start_time": "2022-03-29T01:53:26.022Z"
   },
   {
    "duration": 80,
    "start_time": "2022-03-29T01:53:26.029Z"
   },
   {
    "duration": 5,
    "start_time": "2022-03-29T01:53:26.111Z"
   },
   {
    "duration": 17,
    "start_time": "2022-03-29T01:53:26.118Z"
   },
   {
    "duration": 33,
    "start_time": "2022-03-29T01:53:26.137Z"
   },
   {
    "duration": 18,
    "start_time": "2022-03-29T01:53:26.171Z"
   },
   {
    "duration": 81,
    "start_time": "2022-03-29T01:53:26.190Z"
   },
   {
    "duration": 4,
    "start_time": "2022-03-29T01:53:26.272Z"
   },
   {
    "duration": 7,
    "start_time": "2022-03-29T01:53:26.277Z"
   },
   {
    "duration": 19,
    "start_time": "2022-03-29T01:53:26.286Z"
   },
   {
    "duration": 6,
    "start_time": "2022-03-29T01:53:26.307Z"
   },
   {
    "duration": 21,
    "start_time": "2022-03-29T01:53:26.315Z"
   },
   {
    "duration": 33,
    "start_time": "2022-03-29T01:53:26.338Z"
   },
   {
    "duration": 11,
    "start_time": "2022-03-29T01:53:26.372Z"
   },
   {
    "duration": 6,
    "start_time": "2022-03-29T01:53:26.385Z"
   },
   {
    "duration": 19,
    "start_time": "2022-03-29T01:53:26.392Z"
   },
   {
    "duration": 20,
    "start_time": "2022-03-29T01:53:26.413Z"
   },
   {
    "duration": 39,
    "start_time": "2022-03-29T01:53:26.434Z"
   },
   {
    "duration": 9,
    "start_time": "2022-03-29T01:53:26.474Z"
   },
   {
    "duration": 125,
    "start_time": "2022-03-29T01:53:26.484Z"
   },
   {
    "duration": 127,
    "start_time": "2022-03-29T01:53:26.611Z"
   },
   {
    "duration": 244,
    "start_time": "2022-03-29T01:53:26.739Z"
   },
   {
    "duration": 107,
    "start_time": "2022-03-29T01:53:26.985Z"
   },
   {
    "duration": 172,
    "start_time": "2022-03-29T01:53:27.093Z"
   },
   {
    "duration": 97,
    "start_time": "2022-03-29T01:53:27.267Z"
   },
   {
    "duration": 227,
    "start_time": "2022-03-29T01:53:27.366Z"
   },
   {
    "duration": 6,
    "start_time": "2022-03-29T01:53:27.594Z"
   },
   {
    "duration": 31,
    "start_time": "2022-03-29T01:53:27.601Z"
   },
   {
    "duration": 44,
    "start_time": "2022-03-29T01:53:27.636Z"
   },
   {
    "duration": 12,
    "start_time": "2022-03-29T01:53:27.681Z"
   },
   {
    "duration": 6,
    "start_time": "2022-03-29T01:53:27.694Z"
   },
   {
    "duration": 39,
    "start_time": "2022-03-29T01:53:27.701Z"
   },
   {
    "duration": 453,
    "start_time": "2022-03-29T01:53:27.741Z"
   },
   {
    "duration": 8,
    "start_time": "2022-03-29T01:53:28.195Z"
   },
   {
    "duration": 163,
    "start_time": "2022-03-29T01:53:28.205Z"
   },
   {
    "duration": 168,
    "start_time": "2022-03-29T01:53:28.369Z"
   },
   {
    "duration": 8,
    "start_time": "2022-03-29T01:53:28.539Z"
   },
   {
    "duration": 77,
    "start_time": "2022-03-29T01:53:28.548Z"
   },
   {
    "duration": 13,
    "start_time": "2022-03-29T01:53:28.626Z"
   },
   {
    "duration": 11,
    "start_time": "2022-03-29T01:53:28.641Z"
   },
   {
    "duration": 160,
    "start_time": "2022-03-29T01:53:28.654Z"
   },
   {
    "duration": 277,
    "start_time": "2022-03-29T01:53:28.816Z"
   },
   {
    "duration": 157,
    "start_time": "2022-03-29T01:53:29.095Z"
   },
   {
    "duration": 17,
    "start_time": "2022-03-29T01:53:29.254Z"
   },
   {
    "duration": 7,
    "start_time": "2022-03-29T01:53:29.273Z"
   },
   {
    "duration": 9,
    "start_time": "2022-03-29T01:53:29.282Z"
   },
   {
    "duration": 8,
    "start_time": "2022-03-29T01:53:29.293Z"
   },
   {
    "duration": 7,
    "start_time": "2022-03-29T01:53:29.302Z"
   },
   {
    "duration": 428,
    "start_time": "2022-03-29T01:53:29.310Z"
   },
   {
    "duration": 828,
    "start_time": "2022-03-29T01:53:29.740Z"
   },
   {
    "duration": 97,
    "start_time": "2022-03-29T01:53:30.571Z"
   },
   {
    "duration": 937,
    "start_time": "2022-03-29T01:53:30.670Z"
   },
   {
    "duration": 953,
    "start_time": "2022-03-29T01:53:31.609Z"
   },
   {
    "duration": 12,
    "start_time": "2022-03-29T01:53:32.564Z"
   },
   {
    "duration": 105,
    "start_time": "2022-03-29T01:56:19.907Z"
   },
   {
    "duration": 17,
    "start_time": "2022-03-29T01:56:27.889Z"
   },
   {
    "duration": 18,
    "start_time": "2022-03-29T01:56:59.986Z"
   },
   {
    "duration": 1629,
    "start_time": "2022-03-29T01:57:30.935Z"
   },
   {
    "duration": 68,
    "start_time": "2022-03-29T01:57:32.566Z"
   },
   {
    "duration": 14,
    "start_time": "2022-03-29T01:57:32.636Z"
   },
   {
    "duration": 21,
    "start_time": "2022-03-29T01:57:32.652Z"
   },
   {
    "duration": 8,
    "start_time": "2022-03-29T01:57:32.675Z"
   },
   {
    "duration": 17,
    "start_time": "2022-03-29T01:57:32.685Z"
   },
   {
    "duration": 9,
    "start_time": "2022-03-29T01:57:32.704Z"
   },
   {
    "duration": 5,
    "start_time": "2022-03-29T01:57:32.714Z"
   },
   {
    "duration": 46,
    "start_time": "2022-03-29T01:57:32.720Z"
   },
   {
    "duration": 6,
    "start_time": "2022-03-29T01:57:32.768Z"
   },
   {
    "duration": 5,
    "start_time": "2022-03-29T01:57:32.776Z"
   },
   {
    "duration": 19,
    "start_time": "2022-03-29T01:57:32.782Z"
   },
   {
    "duration": 5,
    "start_time": "2022-03-29T01:57:32.803Z"
   },
   {
    "duration": 76,
    "start_time": "2022-03-29T01:57:32.810Z"
   },
   {
    "duration": 6,
    "start_time": "2022-03-29T01:57:32.888Z"
   },
   {
    "duration": 18,
    "start_time": "2022-03-29T01:57:32.896Z"
   },
   {
    "duration": 17,
    "start_time": "2022-03-29T01:57:32.916Z"
   },
   {
    "duration": 18,
    "start_time": "2022-03-29T01:57:32.963Z"
   },
   {
    "duration": 64,
    "start_time": "2022-03-29T01:57:32.983Z"
   },
   {
    "duration": 17,
    "start_time": "2022-03-29T01:57:33.049Z"
   },
   {
    "duration": 10,
    "start_time": "2022-03-29T01:57:33.068Z"
   },
   {
    "duration": 20,
    "start_time": "2022-03-29T01:57:33.079Z"
   },
   {
    "duration": 7,
    "start_time": "2022-03-29T01:57:33.100Z"
   },
   {
    "duration": 22,
    "start_time": "2022-03-29T01:57:33.109Z"
   },
   {
    "duration": 41,
    "start_time": "2022-03-29T01:57:33.133Z"
   },
   {
    "duration": 12,
    "start_time": "2022-03-29T01:57:33.176Z"
   },
   {
    "duration": 8,
    "start_time": "2022-03-29T01:57:33.190Z"
   },
   {
    "duration": 18,
    "start_time": "2022-03-29T01:57:33.201Z"
   },
   {
    "duration": 48,
    "start_time": "2022-03-29T01:57:33.221Z"
   },
   {
    "duration": 16,
    "start_time": "2022-03-29T01:57:33.270Z"
   },
   {
    "duration": 10,
    "start_time": "2022-03-29T01:57:33.288Z"
   },
   {
    "duration": 123,
    "start_time": "2022-03-29T01:57:33.299Z"
   },
   {
    "duration": 116,
    "start_time": "2022-03-29T01:57:33.424Z"
   },
   {
    "duration": 252,
    "start_time": "2022-03-29T01:57:33.542Z"
   },
   {
    "duration": 106,
    "start_time": "2022-03-29T01:57:33.796Z"
   },
   {
    "duration": 178,
    "start_time": "2022-03-29T01:57:33.904Z"
   },
   {
    "duration": 116,
    "start_time": "2022-03-29T01:57:34.084Z"
   },
   {
    "duration": 187,
    "start_time": "2022-03-29T01:57:34.201Z"
   },
   {
    "duration": 6,
    "start_time": "2022-03-29T01:57:34.389Z"
   },
   {
    "duration": 26,
    "start_time": "2022-03-29T01:57:34.396Z"
   },
   {
    "duration": 25,
    "start_time": "2022-03-29T01:57:34.423Z"
   },
   {
    "duration": 26,
    "start_time": "2022-03-29T01:57:34.449Z"
   },
   {
    "duration": 6,
    "start_time": "2022-03-29T01:57:34.477Z"
   },
   {
    "duration": 38,
    "start_time": "2022-03-29T01:57:34.484Z"
   },
   {
    "duration": 480,
    "start_time": "2022-03-29T01:57:34.523Z"
   },
   {
    "duration": 10,
    "start_time": "2022-03-29T01:57:35.004Z"
   },
   {
    "duration": 234,
    "start_time": "2022-03-29T01:57:35.016Z"
   },
   {
    "duration": 163,
    "start_time": "2022-03-29T01:57:35.252Z"
   },
   {
    "duration": 7,
    "start_time": "2022-03-29T01:57:35.417Z"
   },
   {
    "duration": 96,
    "start_time": "2022-03-29T01:57:35.426Z"
   },
   {
    "duration": 15,
    "start_time": "2022-03-29T01:57:35.523Z"
   },
   {
    "duration": 28,
    "start_time": "2022-03-29T01:57:35.540Z"
   },
   {
    "duration": 199,
    "start_time": "2022-03-29T01:57:35.570Z"
   },
   {
    "duration": 294,
    "start_time": "2022-03-29T01:57:35.770Z"
   },
   {
    "duration": 159,
    "start_time": "2022-03-29T01:57:36.065Z"
   },
   {
    "duration": 13,
    "start_time": "2022-03-29T01:57:36.226Z"
   },
   {
    "duration": 8,
    "start_time": "2022-03-29T01:57:36.240Z"
   },
   {
    "duration": 19,
    "start_time": "2022-03-29T01:57:36.250Z"
   },
   {
    "duration": 8,
    "start_time": "2022-03-29T01:57:36.270Z"
   },
   {
    "duration": 6,
    "start_time": "2022-03-29T01:57:36.280Z"
   },
   {
    "duration": 425,
    "start_time": "2022-03-29T01:57:36.287Z"
   },
   {
    "duration": 455,
    "start_time": "2022-03-29T01:57:36.714Z"
   },
   {
    "duration": 100,
    "start_time": "2022-03-29T01:57:37.171Z"
   },
   {
    "duration": 860,
    "start_time": "2022-03-29T01:57:37.363Z"
   },
   {
    "duration": 156,
    "start_time": "2022-03-29T01:57:38.225Z"
   },
   {
    "duration": 0,
    "start_time": "2022-03-29T01:57:38.382Z"
   },
   {
    "duration": 0,
    "start_time": "2022-03-29T01:57:38.384Z"
   },
   {
    "duration": 0,
    "start_time": "2022-03-29T01:57:38.384Z"
   },
   {
    "duration": 0,
    "start_time": "2022-03-29T01:57:38.386Z"
   },
   {
    "duration": 23,
    "start_time": "2022-03-29T01:58:00.416Z"
   },
   {
    "duration": 431,
    "start_time": "2022-03-29T01:58:02.037Z"
   },
   {
    "duration": 947,
    "start_time": "2022-03-29T01:59:48.516Z"
   },
   {
    "duration": 128,
    "start_time": "2022-03-29T02:00:13.552Z"
   },
   {
    "duration": 103,
    "start_time": "2022-03-29T02:08:56.795Z"
   },
   {
    "duration": 1660,
    "start_time": "2022-03-29T02:10:36.564Z"
   },
   {
    "duration": 61,
    "start_time": "2022-03-29T02:10:38.226Z"
   },
   {
    "duration": 14,
    "start_time": "2022-03-29T02:10:38.288Z"
   },
   {
    "duration": 20,
    "start_time": "2022-03-29T02:10:38.304Z"
   },
   {
    "duration": 7,
    "start_time": "2022-03-29T02:10:38.325Z"
   },
   {
    "duration": 33,
    "start_time": "2022-03-29T02:10:38.333Z"
   },
   {
    "duration": 9,
    "start_time": "2022-03-29T02:10:38.367Z"
   },
   {
    "duration": 6,
    "start_time": "2022-03-29T02:10:38.377Z"
   },
   {
    "duration": 20,
    "start_time": "2022-03-29T02:10:38.385Z"
   },
   {
    "duration": 6,
    "start_time": "2022-03-29T02:10:38.407Z"
   },
   {
    "duration": 6,
    "start_time": "2022-03-29T02:10:38.415Z"
   },
   {
    "duration": 16,
    "start_time": "2022-03-29T02:10:38.422Z"
   },
   {
    "duration": 5,
    "start_time": "2022-03-29T02:10:38.463Z"
   },
   {
    "duration": 53,
    "start_time": "2022-03-29T02:10:38.469Z"
   },
   {
    "duration": 6,
    "start_time": "2022-03-29T02:10:38.523Z"
   },
   {
    "duration": 37,
    "start_time": "2022-03-29T02:10:38.531Z"
   },
   {
    "duration": 16,
    "start_time": "2022-03-29T02:10:38.570Z"
   },
   {
    "duration": 16,
    "start_time": "2022-03-29T02:10:38.588Z"
   },
   {
    "duration": 81,
    "start_time": "2022-03-29T02:10:38.605Z"
   },
   {
    "duration": 4,
    "start_time": "2022-03-29T02:10:38.687Z"
   },
   {
    "duration": 10,
    "start_time": "2022-03-29T02:10:38.692Z"
   },
   {
    "duration": 21,
    "start_time": "2022-03-29T02:10:38.704Z"
   },
   {
    "duration": 6,
    "start_time": "2022-03-29T02:10:38.727Z"
   },
   {
    "duration": 43,
    "start_time": "2022-03-29T02:10:38.735Z"
   },
   {
    "duration": 12,
    "start_time": "2022-03-29T02:10:38.779Z"
   },
   {
    "duration": 12,
    "start_time": "2022-03-29T02:10:38.792Z"
   },
   {
    "duration": 6,
    "start_time": "2022-03-29T02:10:38.805Z"
   },
   {
    "duration": 15,
    "start_time": "2022-03-29T02:10:38.815Z"
   },
   {
    "duration": 51,
    "start_time": "2022-03-29T02:10:38.832Z"
   },
   {
    "duration": 13,
    "start_time": "2022-03-29T02:10:38.885Z"
   },
   {
    "duration": 11,
    "start_time": "2022-03-29T02:10:38.900Z"
   },
   {
    "duration": 122,
    "start_time": "2022-03-29T02:10:38.912Z"
   },
   {
    "duration": 181,
    "start_time": "2022-03-29T02:10:39.035Z"
   },
   {
    "duration": 173,
    "start_time": "2022-03-29T02:10:39.218Z"
   },
   {
    "duration": 106,
    "start_time": "2022-03-29T02:10:39.393Z"
   },
   {
    "duration": 177,
    "start_time": "2022-03-29T02:10:39.500Z"
   },
   {
    "duration": 103,
    "start_time": "2022-03-29T02:10:39.679Z"
   },
   {
    "duration": 172,
    "start_time": "2022-03-29T02:10:39.784Z"
   },
   {
    "duration": 7,
    "start_time": "2022-03-29T02:10:39.962Z"
   },
   {
    "duration": 27,
    "start_time": "2022-03-29T02:10:39.971Z"
   },
   {
    "duration": 27,
    "start_time": "2022-03-29T02:10:39.999Z"
   },
   {
    "duration": 44,
    "start_time": "2022-03-29T02:10:40.028Z"
   },
   {
    "duration": 7,
    "start_time": "2022-03-29T02:10:40.074Z"
   },
   {
    "duration": 39,
    "start_time": "2022-03-29T02:10:40.082Z"
   },
   {
    "duration": 452,
    "start_time": "2022-03-29T02:10:40.122Z"
   },
   {
    "duration": 8,
    "start_time": "2022-03-29T02:10:40.576Z"
   },
   {
    "duration": 165,
    "start_time": "2022-03-29T02:10:40.586Z"
   },
   {
    "duration": 160,
    "start_time": "2022-03-29T02:10:40.753Z"
   },
   {
    "duration": 8,
    "start_time": "2022-03-29T02:10:40.914Z"
   },
   {
    "duration": 66,
    "start_time": "2022-03-29T02:10:40.924Z"
   },
   {
    "duration": 15,
    "start_time": "2022-03-29T02:10:40.992Z"
   },
   {
    "duration": 133,
    "start_time": "2022-03-29T02:10:41.009Z"
   },
   {
    "duration": 170,
    "start_time": "2022-03-29T02:10:41.144Z"
   },
   {
    "duration": 177,
    "start_time": "2022-03-29T02:10:41.316Z"
   },
   {
    "duration": 167,
    "start_time": "2022-03-29T02:10:41.494Z"
   },
   {
    "duration": 13,
    "start_time": "2022-03-29T02:10:41.663Z"
   },
   {
    "duration": 8,
    "start_time": "2022-03-29T02:10:41.677Z"
   },
   {
    "duration": 10,
    "start_time": "2022-03-29T02:10:41.687Z"
   },
   {
    "duration": 10,
    "start_time": "2022-03-29T02:10:41.698Z"
   },
   {
    "duration": 10,
    "start_time": "2022-03-29T02:10:41.709Z"
   },
   {
    "duration": 447,
    "start_time": "2022-03-29T02:10:41.720Z"
   },
   {
    "duration": 506,
    "start_time": "2022-03-29T02:10:42.169Z"
   },
   {
    "duration": 93,
    "start_time": "2022-03-29T02:10:42.677Z"
   },
   {
    "duration": 958,
    "start_time": "2022-03-29T02:10:42.773Z"
   },
   {
    "duration": 22,
    "start_time": "2022-03-29T02:10:43.733Z"
   },
   {
    "duration": 417,
    "start_time": "2022-03-29T02:10:43.757Z"
   },
   {
    "duration": 1078,
    "start_time": "2022-03-29T02:10:44.175Z"
   },
   {
    "duration": 118,
    "start_time": "2022-03-29T02:10:45.254Z"
   },
   {
    "duration": 0,
    "start_time": "2022-03-29T02:10:45.373Z"
   },
   {
    "duration": 4099,
    "start_time": "2022-03-29T02:10:57.497Z"
   },
   {
    "duration": 1507,
    "start_time": "2022-03-29T02:15:16.572Z"
   },
   {
    "duration": 3979,
    "start_time": "2022-03-29T02:20:28.827Z"
   },
   {
    "duration": 19,
    "start_time": "2022-03-29T02:31:50.368Z"
   },
   {
    "duration": 1649,
    "start_time": "2022-03-29T02:33:18.702Z"
   },
   {
    "duration": 62,
    "start_time": "2022-03-29T02:33:20.353Z"
   },
   {
    "duration": 15,
    "start_time": "2022-03-29T02:33:20.416Z"
   },
   {
    "duration": 22,
    "start_time": "2022-03-29T02:33:20.433Z"
   },
   {
    "duration": 8,
    "start_time": "2022-03-29T02:33:20.456Z"
   },
   {
    "duration": 18,
    "start_time": "2022-03-29T02:33:20.465Z"
   },
   {
    "duration": 15,
    "start_time": "2022-03-29T02:33:20.484Z"
   },
   {
    "duration": 4,
    "start_time": "2022-03-29T02:33:20.500Z"
   },
   {
    "duration": 20,
    "start_time": "2022-03-29T02:33:20.506Z"
   },
   {
    "duration": 6,
    "start_time": "2022-03-29T02:33:20.528Z"
   },
   {
    "duration": 5,
    "start_time": "2022-03-29T02:33:20.536Z"
   },
   {
    "duration": 16,
    "start_time": "2022-03-29T02:33:20.562Z"
   },
   {
    "duration": 5,
    "start_time": "2022-03-29T02:33:20.579Z"
   },
   {
    "duration": 60,
    "start_time": "2022-03-29T02:33:20.585Z"
   },
   {
    "duration": 7,
    "start_time": "2022-03-29T02:33:20.663Z"
   },
   {
    "duration": 19,
    "start_time": "2022-03-29T02:33:20.671Z"
   },
   {
    "duration": 18,
    "start_time": "2022-03-29T02:33:20.691Z"
   },
   {
    "duration": 19,
    "start_time": "2022-03-29T02:33:20.711Z"
   },
   {
    "duration": 97,
    "start_time": "2022-03-29T02:33:20.732Z"
   },
   {
    "duration": 4,
    "start_time": "2022-03-29T02:33:20.831Z"
   },
   {
    "duration": 8,
    "start_time": "2022-03-29T02:33:20.837Z"
   },
   {
    "duration": 19,
    "start_time": "2022-03-29T02:33:20.863Z"
   },
   {
    "duration": 7,
    "start_time": "2022-03-29T02:33:20.883Z"
   },
   {
    "duration": 22,
    "start_time": "2022-03-29T02:33:20.891Z"
   },
   {
    "duration": 11,
    "start_time": "2022-03-29T02:33:20.914Z"
   },
   {
    "duration": 39,
    "start_time": "2022-03-29T02:33:20.927Z"
   },
   {
    "duration": 6,
    "start_time": "2022-03-29T02:33:20.968Z"
   },
   {
    "duration": 16,
    "start_time": "2022-03-29T02:33:20.977Z"
   },
   {
    "duration": 25,
    "start_time": "2022-03-29T02:33:20.994Z"
   },
   {
    "duration": 15,
    "start_time": "2022-03-29T02:33:21.021Z"
   },
   {
    "duration": 10,
    "start_time": "2022-03-29T02:33:21.063Z"
   },
   {
    "duration": 113,
    "start_time": "2022-03-29T02:33:21.075Z"
   },
   {
    "duration": 190,
    "start_time": "2022-03-29T02:33:21.190Z"
   },
   {
    "duration": 166,
    "start_time": "2022-03-29T02:33:21.382Z"
   },
   {
    "duration": 105,
    "start_time": "2022-03-29T02:33:21.549Z"
   },
   {
    "duration": 173,
    "start_time": "2022-03-29T02:33:21.662Z"
   },
   {
    "duration": 101,
    "start_time": "2022-03-29T02:33:21.836Z"
   },
   {
    "duration": 169,
    "start_time": "2022-03-29T02:33:21.939Z"
   },
   {
    "duration": 6,
    "start_time": "2022-03-29T02:33:22.109Z"
   },
   {
    "duration": 26,
    "start_time": "2022-03-29T02:33:22.117Z"
   },
   {
    "duration": 39,
    "start_time": "2022-03-29T02:33:22.145Z"
   },
   {
    "duration": 12,
    "start_time": "2022-03-29T02:33:22.186Z"
   },
   {
    "duration": 6,
    "start_time": "2022-03-29T02:33:22.200Z"
   },
   {
    "duration": 56,
    "start_time": "2022-03-29T02:33:22.208Z"
   },
   {
    "duration": 431,
    "start_time": "2022-03-29T02:33:22.266Z"
   },
   {
    "duration": 8,
    "start_time": "2022-03-29T02:33:22.699Z"
   },
   {
    "duration": 155,
    "start_time": "2022-03-29T02:33:22.709Z"
   },
   {
    "duration": 156,
    "start_time": "2022-03-29T02:33:22.866Z"
   },
   {
    "duration": 7,
    "start_time": "2022-03-29T02:33:23.024Z"
   },
   {
    "duration": 112,
    "start_time": "2022-03-29T02:33:23.033Z"
   },
   {
    "duration": 13,
    "start_time": "2022-03-29T02:33:23.147Z"
   },
   {
    "duration": 126,
    "start_time": "2022-03-29T02:33:23.162Z"
   },
   {
    "duration": 175,
    "start_time": "2022-03-29T02:33:23.290Z"
   },
   {
    "duration": 172,
    "start_time": "2022-03-29T02:33:23.466Z"
   },
   {
    "duration": 156,
    "start_time": "2022-03-29T02:33:23.640Z"
   },
   {
    "duration": 13,
    "start_time": "2022-03-29T02:33:23.798Z"
   },
   {
    "duration": 12,
    "start_time": "2022-03-29T02:33:23.813Z"
   },
   {
    "duration": 11,
    "start_time": "2022-03-29T02:33:23.827Z"
   },
   {
    "duration": 29,
    "start_time": "2022-03-29T02:33:23.839Z"
   },
   {
    "duration": 6,
    "start_time": "2022-03-29T02:33:23.871Z"
   },
   {
    "duration": 441,
    "start_time": "2022-03-29T02:33:23.878Z"
   },
   {
    "duration": 11,
    "start_time": "2022-03-29T02:33:24.321Z"
   },
   {
    "duration": 834,
    "start_time": "2022-03-29T02:33:24.333Z"
   },
   {
    "duration": 98,
    "start_time": "2022-03-29T02:33:25.169Z"
   },
   {
    "duration": 946,
    "start_time": "2022-03-29T02:33:25.269Z"
   },
   {
    "duration": 21,
    "start_time": "2022-03-29T02:33:26.217Z"
   },
   {
    "duration": 412,
    "start_time": "2022-03-29T02:33:26.240Z"
   },
   {
    "duration": 1075,
    "start_time": "2022-03-29T02:33:26.653Z"
   },
   {
    "duration": 3947,
    "start_time": "2022-03-29T02:33:27.730Z"
   },
   {
    "duration": 1452,
    "start_time": "2022-03-29T02:33:31.679Z"
   },
   {
    "duration": 3837,
    "start_time": "2022-03-29T02:33:33.133Z"
   },
   {
    "duration": 129,
    "start_time": "2022-03-29T02:33:36.972Z"
   },
   {
    "duration": 0,
    "start_time": "2022-03-29T02:33:37.102Z"
   },
   {
    "duration": 3,
    "start_time": "2022-03-29T02:36:25.921Z"
   },
   {
    "duration": 3,
    "start_time": "2022-03-29T02:36:48.377Z"
   },
   {
    "duration": 137,
    "start_time": "2022-03-29T02:45:15.701Z"
   },
   {
    "duration": 421,
    "start_time": "2022-03-29T02:52:27.218Z"
   },
   {
    "duration": 1686,
    "start_time": "2022-03-29T02:54:25.228Z"
   },
   {
    "duration": 65,
    "start_time": "2022-03-29T02:54:26.916Z"
   },
   {
    "duration": 14,
    "start_time": "2022-03-29T02:54:26.983Z"
   },
   {
    "duration": 21,
    "start_time": "2022-03-29T02:54:26.998Z"
   },
   {
    "duration": 8,
    "start_time": "2022-03-29T02:54:27.021Z"
   },
   {
    "duration": 17,
    "start_time": "2022-03-29T02:54:27.031Z"
   },
   {
    "duration": 9,
    "start_time": "2022-03-29T02:54:27.063Z"
   },
   {
    "duration": 5,
    "start_time": "2022-03-29T02:54:27.074Z"
   },
   {
    "duration": 20,
    "start_time": "2022-03-29T02:54:27.080Z"
   },
   {
    "duration": 6,
    "start_time": "2022-03-29T02:54:27.102Z"
   },
   {
    "duration": 4,
    "start_time": "2022-03-29T02:54:27.109Z"
   },
   {
    "duration": 16,
    "start_time": "2022-03-29T02:54:27.115Z"
   },
   {
    "duration": 5,
    "start_time": "2022-03-29T02:54:27.132Z"
   },
   {
    "duration": 50,
    "start_time": "2022-03-29T02:54:27.164Z"
   },
   {
    "duration": 6,
    "start_time": "2022-03-29T02:54:27.215Z"
   },
   {
    "duration": 19,
    "start_time": "2022-03-29T02:54:27.222Z"
   },
   {
    "duration": 36,
    "start_time": "2022-03-29T02:54:27.242Z"
   },
   {
    "duration": 17,
    "start_time": "2022-03-29T02:54:27.280Z"
   },
   {
    "duration": 80,
    "start_time": "2022-03-29T02:54:27.298Z"
   },
   {
    "duration": 4,
    "start_time": "2022-03-29T02:54:27.379Z"
   },
   {
    "duration": 10,
    "start_time": "2022-03-29T02:54:27.384Z"
   },
   {
    "duration": 17,
    "start_time": "2022-03-29T02:54:27.396Z"
   },
   {
    "duration": 7,
    "start_time": "2022-03-29T02:54:27.414Z"
   },
   {
    "duration": 42,
    "start_time": "2022-03-29T02:54:27.422Z"
   },
   {
    "duration": 12,
    "start_time": "2022-03-29T02:54:27.466Z"
   },
   {
    "duration": 12,
    "start_time": "2022-03-29T02:54:27.480Z"
   },
   {
    "duration": 6,
    "start_time": "2022-03-29T02:54:27.493Z"
   },
   {
    "duration": 16,
    "start_time": "2022-03-29T02:54:27.500Z"
   },
   {
    "duration": 51,
    "start_time": "2022-03-29T02:54:27.517Z"
   },
   {
    "duration": 13,
    "start_time": "2022-03-29T02:54:27.569Z"
   },
   {
    "duration": 8,
    "start_time": "2022-03-29T02:54:27.584Z"
   },
   {
    "duration": 121,
    "start_time": "2022-03-29T02:54:27.593Z"
   },
   {
    "duration": 183,
    "start_time": "2022-03-29T02:54:27.715Z"
   },
   {
    "duration": 171,
    "start_time": "2022-03-29T02:54:27.900Z"
   },
   {
    "duration": 104,
    "start_time": "2022-03-29T02:54:28.072Z"
   },
   {
    "duration": 176,
    "start_time": "2022-03-29T02:54:28.177Z"
   },
   {
    "duration": 98,
    "start_time": "2022-03-29T02:54:28.355Z"
   },
   {
    "duration": 179,
    "start_time": "2022-03-29T02:54:28.462Z"
   },
   {
    "duration": 5,
    "start_time": "2022-03-29T02:54:28.642Z"
   },
   {
    "duration": 38,
    "start_time": "2022-03-29T02:54:28.649Z"
   },
   {
    "duration": 21,
    "start_time": "2022-03-29T02:54:28.691Z"
   },
   {
    "duration": 11,
    "start_time": "2022-03-29T02:54:28.714Z"
   },
   {
    "duration": 6,
    "start_time": "2022-03-29T02:54:28.726Z"
   },
   {
    "duration": 62,
    "start_time": "2022-03-29T02:54:28.733Z"
   },
   {
    "duration": 426,
    "start_time": "2022-03-29T02:54:28.797Z"
   },
   {
    "duration": 9,
    "start_time": "2022-03-29T02:54:29.224Z"
   },
   {
    "duration": 158,
    "start_time": "2022-03-29T02:54:29.234Z"
   },
   {
    "duration": 162,
    "start_time": "2022-03-29T02:54:29.394Z"
   },
   {
    "duration": 9,
    "start_time": "2022-03-29T02:54:29.558Z"
   },
   {
    "duration": 61,
    "start_time": "2022-03-29T02:54:29.569Z"
   },
   {
    "duration": 15,
    "start_time": "2022-03-29T02:54:29.632Z"
   },
   {
    "duration": 125,
    "start_time": "2022-03-29T02:54:29.649Z"
   },
   {
    "duration": 166,
    "start_time": "2022-03-29T02:54:29.776Z"
   },
   {
    "duration": 179,
    "start_time": "2022-03-29T02:54:29.944Z"
   },
   {
    "duration": 164,
    "start_time": "2022-03-29T02:54:30.125Z"
   },
   {
    "duration": 14,
    "start_time": "2022-03-29T02:54:30.291Z"
   },
   {
    "duration": 17,
    "start_time": "2022-03-29T02:54:30.306Z"
   },
   {
    "duration": 14,
    "start_time": "2022-03-29T02:54:30.324Z"
   },
   {
    "duration": 17,
    "start_time": "2022-03-29T02:54:30.340Z"
   },
   {
    "duration": 4,
    "start_time": "2022-03-29T02:54:30.363Z"
   },
   {
    "duration": 454,
    "start_time": "2022-03-29T02:54:30.368Z"
   },
   {
    "duration": 749,
    "start_time": "2022-03-29T02:54:30.824Z"
   },
   {
    "duration": 99,
    "start_time": "2022-03-29T02:54:31.664Z"
   },
   {
    "duration": 862,
    "start_time": "2022-03-29T02:54:31.765Z"
   },
   {
    "duration": 22,
    "start_time": "2022-03-29T02:54:32.629Z"
   },
   {
    "duration": 420,
    "start_time": "2022-03-29T02:54:32.652Z"
   },
   {
    "duration": 1062,
    "start_time": "2022-03-29T02:54:33.073Z"
   },
   {
    "duration": 3809,
    "start_time": "2022-03-29T02:54:34.137Z"
   },
   {
    "duration": 1470,
    "start_time": "2022-03-29T02:54:37.948Z"
   },
   {
    "duration": 3752,
    "start_time": "2022-03-29T02:54:39.420Z"
   },
   {
    "duration": 441,
    "start_time": "2022-03-29T02:54:43.174Z"
   },
   {
    "duration": 122,
    "start_time": "2022-03-29T02:54:43.617Z"
   },
   {
    "duration": 2466,
    "start_time": "2022-03-29T16:34:34.051Z"
   },
   {
    "duration": 73,
    "start_time": "2022-03-29T16:34:36.520Z"
   },
   {
    "duration": 21,
    "start_time": "2022-03-29T16:34:36.595Z"
   },
   {
    "duration": 32,
    "start_time": "2022-03-29T16:34:36.619Z"
   },
   {
    "duration": 32,
    "start_time": "2022-03-29T16:34:36.654Z"
   },
   {
    "duration": 24,
    "start_time": "2022-03-29T16:34:36.688Z"
   },
   {
    "duration": 14,
    "start_time": "2022-03-29T16:34:36.714Z"
   },
   {
    "duration": 12,
    "start_time": "2022-03-29T16:34:36.730Z"
   },
   {
    "duration": 63,
    "start_time": "2022-03-29T16:34:36.744Z"
   },
   {
    "duration": 10,
    "start_time": "2022-03-29T16:34:36.811Z"
   },
   {
    "duration": 7,
    "start_time": "2022-03-29T16:34:36.823Z"
   },
   {
    "duration": 50,
    "start_time": "2022-03-29T16:34:36.832Z"
   },
   {
    "duration": 7,
    "start_time": "2022-03-29T16:34:36.884Z"
   },
   {
    "duration": 99,
    "start_time": "2022-03-29T16:34:36.894Z"
   },
   {
    "duration": 9,
    "start_time": "2022-03-29T16:34:36.995Z"
   },
   {
    "duration": 33,
    "start_time": "2022-03-29T16:34:37.006Z"
   },
   {
    "duration": 57,
    "start_time": "2022-03-29T16:34:37.041Z"
   },
   {
    "duration": 25,
    "start_time": "2022-03-29T16:34:37.100Z"
   },
   {
    "duration": 136,
    "start_time": "2022-03-29T16:34:37.127Z"
   },
   {
    "duration": 6,
    "start_time": "2022-03-29T16:34:37.265Z"
   },
   {
    "duration": 7,
    "start_time": "2022-03-29T16:34:37.282Z"
   },
   {
    "duration": 28,
    "start_time": "2022-03-29T16:34:37.291Z"
   },
   {
    "duration": 10,
    "start_time": "2022-03-29T16:34:37.321Z"
   },
   {
    "duration": 76,
    "start_time": "2022-03-29T16:34:37.334Z"
   },
   {
    "duration": 18,
    "start_time": "2022-03-29T16:34:37.412Z"
   },
   {
    "duration": 18,
    "start_time": "2022-03-29T16:34:37.432Z"
   },
   {
    "duration": 38,
    "start_time": "2022-03-29T16:34:37.452Z"
   },
   {
    "duration": 26,
    "start_time": "2022-03-29T16:34:37.499Z"
   },
   {
    "duration": 62,
    "start_time": "2022-03-29T16:34:37.528Z"
   },
   {
    "duration": 25,
    "start_time": "2022-03-29T16:34:37.592Z"
   },
   {
    "duration": 16,
    "start_time": "2022-03-29T16:34:37.620Z"
   },
   {
    "duration": 281,
    "start_time": "2022-03-29T16:34:37.639Z"
   },
   {
    "duration": 189,
    "start_time": "2022-03-29T16:34:37.922Z"
   },
   {
    "duration": 293,
    "start_time": "2022-03-29T16:34:38.113Z"
   },
   {
    "duration": 203,
    "start_time": "2022-03-29T16:34:38.408Z"
   },
   {
    "duration": 2488,
    "start_time": "2022-03-29T17:11:34.053Z"
   },
   {
    "duration": 66,
    "start_time": "2022-03-29T17:11:36.543Z"
   },
   {
    "duration": 14,
    "start_time": "2022-03-29T17:11:36.610Z"
   },
   {
    "duration": 25,
    "start_time": "2022-03-29T17:11:36.626Z"
   },
   {
    "duration": 9,
    "start_time": "2022-03-29T17:11:36.653Z"
   },
   {
    "duration": 20,
    "start_time": "2022-03-29T17:11:36.664Z"
   },
   {
    "duration": 10,
    "start_time": "2022-03-29T17:11:36.686Z"
   },
   {
    "duration": 11,
    "start_time": "2022-03-29T17:11:36.697Z"
   },
   {
    "duration": 23,
    "start_time": "2022-03-29T17:11:36.709Z"
   },
   {
    "duration": 7,
    "start_time": "2022-03-29T17:11:36.734Z"
   },
   {
    "duration": 4,
    "start_time": "2022-03-29T17:11:36.764Z"
   },
   {
    "duration": 17,
    "start_time": "2022-03-29T17:11:36.770Z"
   },
   {
    "duration": 5,
    "start_time": "2022-03-29T17:11:36.789Z"
   },
   {
    "duration": 112,
    "start_time": "2022-03-29T17:11:36.799Z"
   },
   {
    "duration": 8,
    "start_time": "2022-03-29T17:11:36.913Z"
   },
   {
    "duration": 21,
    "start_time": "2022-03-29T17:11:36.922Z"
   },
   {
    "duration": 30,
    "start_time": "2022-03-29T17:11:36.962Z"
   },
   {
    "duration": 36,
    "start_time": "2022-03-29T17:11:36.994Z"
   },
   {
    "duration": 136,
    "start_time": "2022-03-29T17:11:37.032Z"
   },
   {
    "duration": 6,
    "start_time": "2022-03-29T17:11:37.170Z"
   },
   {
    "duration": 9,
    "start_time": "2022-03-29T17:11:37.178Z"
   },
   {
    "duration": 29,
    "start_time": "2022-03-29T17:11:37.189Z"
   },
   {
    "duration": 9,
    "start_time": "2022-03-29T17:11:37.221Z"
   },
   {
    "duration": 58,
    "start_time": "2022-03-29T17:11:37.232Z"
   },
   {
    "duration": 13,
    "start_time": "2022-03-29T17:11:37.292Z"
   },
   {
    "duration": 16,
    "start_time": "2022-03-29T17:11:37.307Z"
   },
   {
    "duration": 9,
    "start_time": "2022-03-29T17:11:37.324Z"
   },
   {
    "duration": 42,
    "start_time": "2022-03-29T17:11:37.335Z"
   },
   {
    "duration": 25,
    "start_time": "2022-03-29T17:11:37.379Z"
   },
   {
    "duration": 16,
    "start_time": "2022-03-29T17:11:37.405Z"
   },
   {
    "duration": 40,
    "start_time": "2022-03-29T17:11:37.423Z"
   },
   {
    "duration": 125,
    "start_time": "2022-03-29T17:11:37.465Z"
   },
   {
    "duration": 198,
    "start_time": "2022-03-29T17:11:37.592Z"
   },
   {
    "duration": 186,
    "start_time": "2022-03-29T17:11:37.792Z"
   },
   {
    "duration": 121,
    "start_time": "2022-03-29T17:11:37.980Z"
   },
   {
    "duration": 195,
    "start_time": "2022-03-29T17:11:38.103Z"
   },
   {
    "duration": 113,
    "start_time": "2022-03-29T17:11:38.299Z"
   },
   {
    "duration": 285,
    "start_time": "2022-03-29T17:11:38.414Z"
   },
   {
    "duration": 6,
    "start_time": "2022-03-29T17:11:38.701Z"
   },
   {
    "duration": 29,
    "start_time": "2022-03-29T17:11:38.709Z"
   },
   {
    "duration": 24,
    "start_time": "2022-03-29T17:11:38.767Z"
   },
   {
    "duration": 12,
    "start_time": "2022-03-29T17:11:38.793Z"
   },
   {
    "duration": 5,
    "start_time": "2022-03-29T17:11:38.807Z"
   },
   {
    "duration": 70,
    "start_time": "2022-03-29T17:11:38.814Z"
   },
   {
    "duration": 451,
    "start_time": "2022-03-29T17:11:38.885Z"
   },
   {
    "duration": 25,
    "start_time": "2022-03-29T17:11:39.338Z"
   },
   {
    "duration": 172,
    "start_time": "2022-03-29T17:11:39.364Z"
   },
   {
    "duration": 272,
    "start_time": "2022-03-29T17:11:39.538Z"
   },
   {
    "duration": 8,
    "start_time": "2022-03-29T17:11:39.811Z"
   },
   {
    "duration": 80,
    "start_time": "2022-03-29T17:11:39.821Z"
   },
   {
    "duration": 14,
    "start_time": "2022-03-29T17:11:39.903Z"
   },
   {
    "duration": 146,
    "start_time": "2022-03-29T17:11:39.918Z"
   },
   {
    "duration": 303,
    "start_time": "2022-03-29T17:11:40.066Z"
   },
   {
    "duration": 212,
    "start_time": "2022-03-29T17:11:40.371Z"
   },
   {
    "duration": 169,
    "start_time": "2022-03-29T17:11:40.585Z"
   },
   {
    "duration": 19,
    "start_time": "2022-03-29T17:11:40.756Z"
   },
   {
    "duration": 9,
    "start_time": "2022-03-29T17:11:40.777Z"
   },
   {
    "duration": 12,
    "start_time": "2022-03-29T17:11:40.787Z"
   },
   {
    "duration": 9,
    "start_time": "2022-03-29T17:11:40.800Z"
   },
   {
    "duration": 19,
    "start_time": "2022-03-29T17:11:40.811Z"
   },
   {
    "duration": 657,
    "start_time": "2022-03-29T17:11:40.832Z"
   },
   {
    "duration": 986,
    "start_time": "2022-03-29T17:11:41.491Z"
   },
   {
    "duration": 14,
    "start_time": "2022-03-29T17:11:42.563Z"
   },
   {
    "duration": 866,
    "start_time": "2022-03-29T17:11:42.665Z"
   },
   {
    "duration": 23,
    "start_time": "2022-03-29T17:11:43.533Z"
   },
   {
    "duration": 457,
    "start_time": "2022-03-29T17:11:43.558Z"
   },
   {
    "duration": 1120,
    "start_time": "2022-03-29T17:11:44.017Z"
   },
   {
    "duration": 4527,
    "start_time": "2022-03-29T17:11:45.139Z"
   },
   {
    "duration": 375621,
    "start_time": "2022-03-29T17:11:49.668Z"
   },
   {
    "duration": 87541,
    "start_time": "2022-03-29T17:18:05.290Z"
   },
   {
    "duration": 783,
    "start_time": "2022-03-29T17:19:32.833Z"
   },
   {
    "duration": 1782,
    "start_time": "2022-03-29T17:54:28.926Z"
   },
   {
    "duration": 71,
    "start_time": "2022-03-29T17:54:30.710Z"
   },
   {
    "duration": 16,
    "start_time": "2022-03-29T17:54:30.783Z"
   },
   {
    "duration": 35,
    "start_time": "2022-03-29T17:54:30.802Z"
   },
   {
    "duration": 11,
    "start_time": "2022-03-29T17:54:30.839Z"
   },
   {
    "duration": 26,
    "start_time": "2022-03-29T17:54:30.852Z"
   },
   {
    "duration": 17,
    "start_time": "2022-03-29T17:54:30.880Z"
   },
   {
    "duration": 10,
    "start_time": "2022-03-29T17:54:30.900Z"
   },
   {
    "duration": 32,
    "start_time": "2022-03-29T17:54:30.911Z"
   },
   {
    "duration": 7,
    "start_time": "2022-03-29T17:54:30.946Z"
   },
   {
    "duration": 11,
    "start_time": "2022-03-29T17:54:30.954Z"
   },
   {
    "duration": 26,
    "start_time": "2022-03-29T17:54:30.967Z"
   },
   {
    "duration": 26,
    "start_time": "2022-03-29T17:54:30.995Z"
   },
   {
    "duration": 73,
    "start_time": "2022-03-29T17:54:31.023Z"
   },
   {
    "duration": 6,
    "start_time": "2022-03-29T17:54:31.098Z"
   },
   {
    "duration": 29,
    "start_time": "2022-03-29T17:54:31.106Z"
   },
   {
    "duration": 43,
    "start_time": "2022-03-29T17:54:31.137Z"
   },
   {
    "duration": 18,
    "start_time": "2022-03-29T17:54:31.182Z"
   },
   {
    "duration": 80,
    "start_time": "2022-03-29T17:54:31.202Z"
   },
   {
    "duration": 4,
    "start_time": "2022-03-29T17:54:31.284Z"
   },
   {
    "duration": 13,
    "start_time": "2022-03-29T17:54:31.289Z"
   },
   {
    "duration": 29,
    "start_time": "2022-03-29T17:54:31.303Z"
   },
   {
    "duration": 8,
    "start_time": "2022-03-29T17:54:31.334Z"
   },
   {
    "duration": 40,
    "start_time": "2022-03-29T17:54:31.343Z"
   },
   {
    "duration": 13,
    "start_time": "2022-03-29T17:54:31.384Z"
   },
   {
    "duration": 31,
    "start_time": "2022-03-29T17:54:31.398Z"
   },
   {
    "duration": 34,
    "start_time": "2022-03-29T17:54:31.430Z"
   },
   {
    "duration": 18,
    "start_time": "2022-03-29T17:54:31.468Z"
   },
   {
    "duration": 37,
    "start_time": "2022-03-29T17:54:31.487Z"
   },
   {
    "duration": 14,
    "start_time": "2022-03-29T17:54:31.525Z"
   },
   {
    "duration": 11,
    "start_time": "2022-03-29T17:54:31.541Z"
   },
   {
    "duration": 118,
    "start_time": "2022-03-29T17:54:31.553Z"
   },
   {
    "duration": 203,
    "start_time": "2022-03-29T17:54:31.673Z"
   },
   {
    "duration": 177,
    "start_time": "2022-03-29T17:54:31.877Z"
   },
   {
    "duration": 108,
    "start_time": "2022-03-29T17:54:32.055Z"
   },
   {
    "duration": 184,
    "start_time": "2022-03-29T17:54:32.164Z"
   },
   {
    "duration": 101,
    "start_time": "2022-03-29T17:54:32.350Z"
   },
   {
    "duration": 177,
    "start_time": "2022-03-29T17:54:32.453Z"
   },
   {
    "duration": 6,
    "start_time": "2022-03-29T17:54:32.631Z"
   },
   {
    "duration": 41,
    "start_time": "2022-03-29T17:54:32.638Z"
   },
   {
    "duration": 26,
    "start_time": "2022-03-29T17:54:32.680Z"
   },
   {
    "duration": 13,
    "start_time": "2022-03-29T17:54:32.707Z"
   },
   {
    "duration": 5,
    "start_time": "2022-03-29T17:54:32.722Z"
   },
   {
    "duration": 63,
    "start_time": "2022-03-29T17:54:32.729Z"
   },
   {
    "duration": 443,
    "start_time": "2022-03-29T17:54:32.794Z"
   },
   {
    "duration": 9,
    "start_time": "2022-03-29T17:54:33.238Z"
   },
   {
    "duration": 167,
    "start_time": "2022-03-29T17:54:33.248Z"
   },
   {
    "duration": 167,
    "start_time": "2022-03-29T17:54:33.416Z"
   },
   {
    "duration": 8,
    "start_time": "2022-03-29T17:54:33.584Z"
   },
   {
    "duration": 76,
    "start_time": "2022-03-29T17:54:33.593Z"
   },
   {
    "duration": 15,
    "start_time": "2022-03-29T17:54:33.670Z"
   },
   {
    "duration": 124,
    "start_time": "2022-03-29T17:54:33.686Z"
   },
   {
    "duration": 174,
    "start_time": "2022-03-29T17:54:33.812Z"
   },
   {
    "duration": 178,
    "start_time": "2022-03-29T17:54:33.987Z"
   },
   {
    "duration": 164,
    "start_time": "2022-03-29T17:54:34.166Z"
   },
   {
    "duration": 14,
    "start_time": "2022-03-29T17:54:34.331Z"
   },
   {
    "duration": 17,
    "start_time": "2022-03-29T17:54:34.346Z"
   },
   {
    "duration": 11,
    "start_time": "2022-03-29T17:54:34.365Z"
   },
   {
    "duration": 8,
    "start_time": "2022-03-29T17:54:34.378Z"
   },
   {
    "duration": 5,
    "start_time": "2022-03-29T17:54:34.388Z"
   },
   {
    "duration": 444,
    "start_time": "2022-03-29T17:54:34.394Z"
   },
   {
    "duration": 634,
    "start_time": "2022-03-29T17:54:34.839Z"
   },
   {
    "duration": 94,
    "start_time": "2022-03-29T17:54:35.475Z"
   },
   {
    "duration": 1052,
    "start_time": "2022-03-29T17:54:35.571Z"
   },
   {
    "duration": 24,
    "start_time": "2022-03-29T17:54:36.625Z"
   },
   {
    "duration": 521,
    "start_time": "2022-03-29T17:54:36.651Z"
   },
   {
    "duration": 1160,
    "start_time": "2022-03-29T17:54:37.173Z"
   },
   {
    "duration": 4063,
    "start_time": "2022-03-29T17:54:38.334Z"
   },
   {
    "duration": 1468,
    "start_time": "2022-03-29T17:54:42.398Z"
   },
   {
    "duration": 4948,
    "start_time": "2022-03-29T17:54:43.867Z"
   },
   {
    "duration": 450,
    "start_time": "2022-03-29T17:54:48.816Z"
   }
  ],
  "kernelspec": {
   "display_name": "Python 3",
   "language": "python",
   "name": "python3"
  },
  "language_info": {
   "codemirror_mode": {
    "name": "ipython",
    "version": 3
   },
   "file_extension": ".py",
   "mimetype": "text/x-python",
   "name": "python",
   "nbconvert_exporter": "python",
   "pygments_lexer": "ipython3",
   "version": "3.7.6"
  },
  "toc": {
   "base_numbering": 1,
   "nav_menu": {},
   "number_sections": true,
   "sideBar": true,
   "skip_h1_title": true,
   "title_cell": "Table of Contents",
   "title_sidebar": "Contents",
   "toc_cell": false,
   "toc_position": {},
   "toc_section_display": true,
   "toc_window_display": false
  }
 },
 "nbformat": 4,
 "nbformat_minor": 4
}
